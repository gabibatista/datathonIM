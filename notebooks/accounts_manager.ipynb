{
 "cells": [
  {
   "cell_type": "code",
   "execution_count": 1,
   "id": "palestinian-throw",
   "metadata": {},
   "outputs": [],
   "source": [
    "import os, random, sys, time, shutil, re, csv, datetime, pickle, math \n",
    "from datetime import date\n",
    "\n",
    "import pandas as pd\n",
    "\n",
    "from random import seed\n",
    "from random import randrange, uniform"
   ]
  },
  {
   "cell_type": "code",
   "execution_count": 2,
   "id": "anonymous-bearing",
   "metadata": {},
   "outputs": [],
   "source": [
    "from bs4 import BeautifulSoup\n",
    "from selenium import webdriver\n",
    "from webdriver_manager.chrome import ChromeDriverManager\n",
    "from selenium.webdriver.chrome.webdriver import Options"
   ]
  },
  {
   "cell_type": "code",
   "execution_count": 3,
   "id": "advisory-penetration",
   "metadata": {},
   "outputs": [],
   "source": [
    "chrome_options = Options()\n",
    "chrome_options.add_argument('--no-sandbox')\n",
    "chrome_options.add_argument('--disable-dev-shm-usage')\n",
    "chrome_options.add_argument(\"--log-level=3\")  # fatal\n",
    "chrome_options.add_argument(\"--start-maximized\")\n",
    "chrome_options.add_argument(\"--incognito\")"
   ]
  },
  {
   "cell_type": "code",
   "execution_count": 4,
   "id": "going-handy",
   "metadata": {},
   "outputs": [],
   "source": [
    "accounts_path ='CSVs/commons/accounts.csv'"
   ]
  },
  {
   "cell_type": "code",
   "execution_count": 5,
   "id": "excited-graduation",
   "metadata": {},
   "outputs": [],
   "source": [
    "def get_accounts_df():\n",
    "    try: return pd.read_csv(accounts_path)\n",
    "    except: return pd.DataFrame()"
   ]
  },
  {
   "cell_type": "code",
   "execution_count": 6,
   "id": "sunrise-washington",
   "metadata": {},
   "outputs": [
    {
     "data": {
      "text/html": [
       "<div>\n",
       "<style scoped>\n",
       "    .dataframe tbody tr th:only-of-type {\n",
       "        vertical-align: middle;\n",
       "    }\n",
       "\n",
       "    .dataframe tbody tr th {\n",
       "        vertical-align: top;\n",
       "    }\n",
       "\n",
       "    .dataframe thead th {\n",
       "        text-align: right;\n",
       "    }\n",
       "</style>\n",
       "<table border=\"1\" class=\"dataframe\">\n",
       "  <thead>\n",
       "    <tr style=\"text-align: right;\">\n",
       "      <th></th>\n",
       "      <th>updated_at</th>\n",
       "      <th>created_at</th>\n",
       "      <th>password</th>\n",
       "      <th>source</th>\n",
       "      <th>status</th>\n",
       "      <th>username</th>\n",
       "      <th>updated_at</th>\n",
       "    </tr>\n",
       "  </thead>\n",
       "  <tbody>\n",
       "    <tr>\n",
       "      <th>0</th>\n",
       "      <td>02/03/2021</td>\n",
       "      <td>02/03/2021</td>\n",
       "      <td>dextra#2021</td>\n",
       "      <td>linkedin</td>\n",
       "      <td>active</td>\n",
       "      <td>zeipf4@gmail.com</td>\n",
       "      <td>03/03/2021</td>\n",
       "    </tr>\n",
       "    <tr>\n",
       "      <th>1</th>\n",
       "      <td>02/03/2021</td>\n",
       "      <td>02/03/2021</td>\n",
       "      <td>dextra#2021</td>\n",
       "      <td>linkedin</td>\n",
       "      <td>active</td>\n",
       "      <td>zeipf5@gmail.com</td>\n",
       "      <td>03/03/2021</td>\n",
       "    </tr>\n",
       "  </tbody>\n",
       "</table>\n",
       "</div>"
      ],
      "text/plain": [
       "   updated_at  created_at     password    source  status          username  \\\n",
       "0  02/03/2021  02/03/2021  dextra#2021  linkedin  active  zeipf4@gmail.com   \n",
       "1  02/03/2021  02/03/2021  dextra#2021  linkedin  active  zeipf5@gmail.com   \n",
       "\n",
       "   updated_at  \n",
       "0  03/03/2021  \n",
       "1  03/03/2021  "
      ]
     },
     "execution_count": 6,
     "metadata": {},
     "output_type": "execute_result"
    }
   ],
   "source": [
    "def get_active_accounts():\n",
    "    df = get_accounts_df()\n",
    "    df = df[df.status == 'active']\n",
    "    return df\n",
    "get_active_accounts()"
   ]
  },
  {
   "cell_type": "code",
   "execution_count": 7,
   "id": "pending-lover",
   "metadata": {},
   "outputs": [
    {
     "name": "stderr",
     "output_type": "stream",
     "text": [
      "[WDM] - ====== WebDriver manager ======\n",
      "[WDM] - Current google-chrome version is 88.0.4324\n",
      "[WDM] - Get LATEST driver version for 88.0.4324\n",
      "[WDM] - Driver [/home/carlos.cayres/.wdm/drivers/chromedriver/linux64/88.0.4324.96/chromedriver] found in cache\n"
     ]
    },
    {
     "name": "stdout",
     "output_type": "stream",
     "text": [
      "\n",
      "\n"
     ]
    }
   ],
   "source": [
    "browser = webdriver.Chrome(ChromeDriverManager().install(), options=chrome_options)"
   ]
  },
  {
   "cell_type": "code",
   "execution_count": 8,
   "id": "turkish-speed",
   "metadata": {},
   "outputs": [],
   "source": [
    "def auth_linkedin(browser, username, password):\n",
    "\n",
    "    try:\n",
    "        browser.get(\"https://www.linkedin.com/uas/login\")\n",
    "        time.sleep(uniform(2, 4))\n",
    "        \n",
    "        print('Authenticate for: ', username)\n",
    "        username_field = browser.find_element_by_id('username')\n",
    "        username_field.send_keys(username)\n",
    "        time.sleep(uniform(2, 4))\n",
    "    \n",
    "        password_field = browser.find_element_by_id('password')\n",
    "        password_field.send_keys(password)\n",
    "        time.sleep(uniform(2, 4))\n",
    "    \n",
    "        password_field.submit()\n",
    "        time.sleep(uniform(2, 4))\n",
    "    except:\n",
    "        print('ERROR: AUTH LINKEDIN FAILS')"
   ]
  },
  {
   "cell_type": "code",
   "execution_count": 9,
   "id": "hourly-sugar",
   "metadata": {},
   "outputs": [],
   "source": [
    "def is_ban_page(browser):\n",
    "    time.sleep(uniform(1, 2))\n",
    "    return 'login-submit' in browser.current_url  "
   ]
  },
  {
   "cell_type": "code",
   "execution_count": 10,
   "id": "friendly-empty",
   "metadata": {},
   "outputs": [],
   "source": [
    "def is_home_page(browser):\n",
    "    time.sleep(uniform(1, 2))\n",
    "    soup = BeautifulSoup(browser.page_source, features='html.parser')\n",
    "    user_div = soup.find('div', attrs={'class': 'scaffold-layout__sidebar'})\n",
    "    return user_div is not None"
   ]
  },
  {
   "cell_type": "code",
   "execution_count": 11,
   "id": "suburban-jimmy",
   "metadata": {},
   "outputs": [],
   "source": [
    "def is_login_page(browser):\n",
    "    time.sleep(uniform(1, 2))\n",
    "    return 'uas/login' in browser.current_url"
   ]
  },
  {
   "cell_type": "code",
   "execution_count": 12,
   "id": "vital-clearing",
   "metadata": {},
   "outputs": [],
   "source": [
    "def account_status_for_current_page(browser):\n",
    "    if is_ban_page(browser): return 'banned'\n",
    "    elif is_home_page(browser): return 'active'\n",
    "    elif is_login_page(browser): return 'reauth'\n",
    "    else: return 'unknow'"
   ]
  },
  {
   "cell_type": "code",
   "execution_count": 13,
   "id": "olympic-swimming",
   "metadata": {},
   "outputs": [],
   "source": [
    "def validate_accounts():\n",
    "    df = get_accounts_df()\n",
    "    \n",
    "    for i, account in df.iterrows():\n",
    "        \n",
    "        time.sleep(uniform(1, 2))\n",
    "        \n",
    "        print('Open browser')\n",
    "        browser = webdriver.Chrome(ChromeDriverManager().install(), options=chrome_options)\n",
    "        \n",
    "        print('Accessing linkedin')        \n",
    "        time.sleep(uniform(1, 2))\n",
    "        \n",
    "        auth_linkedin(browser, account['username'], account['password']) \n",
    "        df.at[i,'status'] = account_status_for_current_page(browser)\n",
    "        df.at[i,'updated_at'] = date.today().strftime(\"%d/%m/%Y\")\n",
    "        df.to_csv(accounts_path, index=False)\n",
    "        \n",
    "        browser.close()\n",
    "        \n",
    "    return df"
   ]
  },
  {
   "cell_type": "code",
   "execution_count": 14,
   "id": "contained-planet",
   "metadata": {},
   "outputs": [],
   "source": [
    "def register_linkedin(username, password):\n",
    "    df = get_accounts_df()\n",
    "    data = { 'username': username,\n",
    "             'password': password,\n",
    "             'source': 'linkedin',\n",
    "             'created_at': date.today().strftime(\"%d/%m/%Y\"),\n",
    "            ' updated_at': date.today().strftime(\"%d/%m/%Y\"),\n",
    "             'status': 'registred' }\n",
    "    \n",
    "    df = df.append(data, ignore_index=True)\n",
    "    df = df.drop_duplicates(subset=['username'])\n",
    "    df.to_csv(accounts_path, index=False)"
   ]
  },
  {
   "cell_type": "code",
   "execution_count": 15,
   "id": "superb-election",
   "metadata": {
    "scrolled": true
   },
   "outputs": [
    {
     "name": "stderr",
     "output_type": "stream",
     "text": [
      "[WDM] - ====== WebDriver manager ======\n",
      "[WDM] - Current google-chrome version is 88.0.4324\n",
      "[WDM] - Get LATEST driver version for 88.0.4324\n",
      "[WDM] - Driver [/home/carlos.cayres/.wdm/drivers/chromedriver/linux64/88.0.4324.96/chromedriver] found in cache\n"
     ]
    },
    {
     "name": "stdout",
     "output_type": "stream",
     "text": [
      "Open browser\n",
      "\n",
      "\n",
      "Accessing linkedin\n",
      "Authenticate for:  zeipf4@gmail.com\n"
     ]
    },
    {
     "name": "stderr",
     "output_type": "stream",
     "text": [
      "[WDM] - ====== WebDriver manager ======\n",
      "[WDM] - Current google-chrome version is 88.0.4324\n",
      "[WDM] - Get LATEST driver version for 88.0.4324\n",
      "[WDM] - Driver [/home/carlos.cayres/.wdm/drivers/chromedriver/linux64/88.0.4324.96/chromedriver] found in cache\n"
     ]
    },
    {
     "name": "stdout",
     "output_type": "stream",
     "text": [
      "Open browser\n",
      "\n",
      "\n",
      "Accessing linkedin\n",
      "Authenticate for:  zeipf5@gmail.com\n"
     ]
    },
    {
     "data": {
      "text/html": [
       "<div>\n",
       "<style scoped>\n",
       "    .dataframe tbody tr th:only-of-type {\n",
       "        vertical-align: middle;\n",
       "    }\n",
       "\n",
       "    .dataframe tbody tr th {\n",
       "        vertical-align: top;\n",
       "    }\n",
       "\n",
       "    .dataframe thead th {\n",
       "        text-align: right;\n",
       "    }\n",
       "</style>\n",
       "<table border=\"1\" class=\"dataframe\">\n",
       "  <thead>\n",
       "    <tr style=\"text-align: right;\">\n",
       "      <th></th>\n",
       "      <th>updated_at</th>\n",
       "      <th>created_at</th>\n",
       "      <th>password</th>\n",
       "      <th>source</th>\n",
       "      <th>status</th>\n",
       "      <th>username</th>\n",
       "      <th>updated_at</th>\n",
       "    </tr>\n",
       "  </thead>\n",
       "  <tbody>\n",
       "    <tr>\n",
       "      <th>0</th>\n",
       "      <td>02/03/2021</td>\n",
       "      <td>02/03/2021</td>\n",
       "      <td>dextra#2021</td>\n",
       "      <td>linkedin</td>\n",
       "      <td>unknow</td>\n",
       "      <td>zeipf4@gmail.com</td>\n",
       "      <td>04/03/2021</td>\n",
       "    </tr>\n",
       "    <tr>\n",
       "      <th>1</th>\n",
       "      <td>02/03/2021</td>\n",
       "      <td>02/03/2021</td>\n",
       "      <td>dextra#2021</td>\n",
       "      <td>linkedin</td>\n",
       "      <td>banned</td>\n",
       "      <td>zeipf5@gmail.com</td>\n",
       "      <td>04/03/2021</td>\n",
       "    </tr>\n",
       "  </tbody>\n",
       "</table>\n",
       "</div>"
      ],
      "text/plain": [
       "   updated_at  created_at     password    source  status          username  \\\n",
       "0  02/03/2021  02/03/2021  dextra#2021  linkedin  unknow  zeipf4@gmail.com   \n",
       "1  02/03/2021  02/03/2021  dextra#2021  linkedin  banned  zeipf5@gmail.com   \n",
       "\n",
       "   updated_at  \n",
       "0  04/03/2021  \n",
       "1  04/03/2021  "
      ]
     },
     "execution_count": 15,
     "metadata": {},
     "output_type": "execute_result"
    }
   ],
   "source": [
    "validate_accounts()"
   ]
  },
  {
   "cell_type": "code",
   "execution_count": 18,
   "id": "timely-wayne",
   "metadata": {},
   "outputs": [
    {
     "data": {
      "text/html": [
       "<div>\n",
       "<style scoped>\n",
       "    .dataframe tbody tr th:only-of-type {\n",
       "        vertical-align: middle;\n",
       "    }\n",
       "\n",
       "    .dataframe tbody tr th {\n",
       "        vertical-align: top;\n",
       "    }\n",
       "\n",
       "    .dataframe thead th {\n",
       "        text-align: right;\n",
       "    }\n",
       "</style>\n",
       "<table border=\"1\" class=\"dataframe\">\n",
       "  <thead>\n",
       "    <tr style=\"text-align: right;\">\n",
       "      <th></th>\n",
       "      <th>updated_at</th>\n",
       "      <th>created_at</th>\n",
       "      <th>password</th>\n",
       "      <th>source</th>\n",
       "      <th>status</th>\n",
       "      <th>username</th>\n",
       "      <th>updated_at</th>\n",
       "    </tr>\n",
       "  </thead>\n",
       "  <tbody>\n",
       "    <tr>\n",
       "      <th>0</th>\n",
       "      <td>02/03/2021</td>\n",
       "      <td>02/03/2021</td>\n",
       "      <td>dextra#2021</td>\n",
       "      <td>linkedin</td>\n",
       "      <td>unknow</td>\n",
       "      <td>zeipf4@gmail.com</td>\n",
       "      <td>04/03/2021</td>\n",
       "    </tr>\n",
       "    <tr>\n",
       "      <th>1</th>\n",
       "      <td>02/03/2021</td>\n",
       "      <td>02/03/2021</td>\n",
       "      <td>dextra#2021</td>\n",
       "      <td>linkedin</td>\n",
       "      <td>banned</td>\n",
       "      <td>zeipf5@gmail.com</td>\n",
       "      <td>04/03/2021</td>\n",
       "    </tr>\n",
       "  </tbody>\n",
       "</table>\n",
       "</div>"
      ],
      "text/plain": [
       "   updated_at  created_at     password    source  status          username  \\\n",
       "0  02/03/2021  02/03/2021  dextra#2021  linkedin  unknow  zeipf4@gmail.com   \n",
       "1  02/03/2021  02/03/2021  dextra#2021  linkedin  banned  zeipf5@gmail.com   \n",
       "\n",
       "   updated_at  \n",
       "0  04/03/2021  \n",
       "1  04/03/2021  "
      ]
     },
     "execution_count": 18,
     "metadata": {},
     "output_type": "execute_result"
    }
   ],
   "source": [
    "get_accounts_df()"
   ]
  },
  {
   "cell_type": "code",
   "execution_count": 17,
   "id": "coordinate-junior",
   "metadata": {},
   "outputs": [],
   "source": [
    "#register_linkedin('zeipf5@gmail.com', 'dextra#2021')"
   ]
  },
  {
   "cell_type": "code",
   "execution_count": null,
   "id": "realistic-grave",
   "metadata": {},
   "outputs": [],
   "source": []
  }
 ],
 "metadata": {
  "kernelspec": {
   "display_name": "env-im",
   "language": "python",
   "name": "env-im"
  },
  "language_info": {
   "codemirror_mode": {
    "name": "ipython",
    "version": 3
   },
   "file_extension": ".py",
   "mimetype": "text/x-python",
   "name": "python",
   "nbconvert_exporter": "python",
   "pygments_lexer": "ipython3",
   "version": "3.8.5"
  }
 },
 "nbformat": 4,
 "nbformat_minor": 5
}
