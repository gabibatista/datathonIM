{
 "cells": [
  {
   "cell_type": "code",
   "execution_count": 2,
   "metadata": {},
   "outputs": [],
   "source": [
    "from kmodes.kmodes import KModes"
   ]
  },
  {
   "cell_type": "code",
   "execution_count": 5,
   "metadata": {},
   "outputs": [],
   "source": [
    "import matplotlib.pyplot as plt\n",
    "import seaborn as sns\n",
    "%matplotlib inline\n",
    "from matplotlib.pyplot import xticks"
   ]
  },
  {
   "cell_type": "code",
   "execution_count": 6,
   "metadata": {},
   "outputs": [],
   "source": [
    "import os, random, sys, time, shutil, re, csv, datetime, pickle, math \n",
    "\n",
    "import pandas as pd\n",
    "\n",
    "from selenium import webdriver\n",
    "from selenium.common.exceptions import TimeoutException\n",
    "from selenium.webdriver.support import expected_conditions as EC\n",
    "from selenium.webdriver.support.ui import WebDriverWait\n",
    "from selenium.webdriver.common.by import By\n",
    "from selenium.webdriver.common.keys import Keys\n",
    "from selenium.webdriver.common.action_chains import ActionChains\n",
    "from selenium.webdriver.chrome.webdriver import Options\n",
    "\n",
    "from bs4 import BeautifulSoup"
   ]
  },
  {
   "cell_type": "code",
   "execution_count": 7,
   "metadata": {},
   "outputs": [],
   "source": [
    "chrome_options = Options()\n",
    "#chrome_options.add_argument('--headless')\n",
    "chrome_options.add_argument('--no-sandbox')\n",
    "chrome_options.add_argument('--disable-dev-shm-usage')\n",
    "chrome_options.add_argument(\"--log-level=3\")  # fatal\n",
    "chrome_options.add_argument(\"--start-maximized\")"
   ]
  },
  {
   "cell_type": "code",
   "execution_count": 8,
   "metadata": {},
   "outputs": [],
   "source": [
    "#!pip install webdriver_manager --user"
   ]
  },
  {
   "cell_type": "code",
   "execution_count": 9,
   "metadata": {},
   "outputs": [
    {
     "name": "stderr",
     "output_type": "stream",
     "text": [
      "[WDM] - ====== WebDriver manager ======\n",
      "[WDM] - Current google-chrome version is 88.0.4324\n",
      "[WDM] - Get LATEST driver version for 88.0.4324\n",
      "[WDM] - Driver [/home/carlos.cayres/.wdm/drivers/chromedriver/linux64/88.0.4324.96/chromedriver] found in cache\n"
     ]
    },
    {
     "name": "stdout",
     "output_type": "stream",
     "text": [
      "\n",
      "\n"
     ]
    }
   ],
   "source": [
    "from selenium import webdriver\n",
    "from webdriver_manager.chrome import ChromeDriverManager\n",
    "\n",
    "browser = webdriver.Chrome(ChromeDriverManager().install(), options=chrome_options)\n",
    "\n",
    "#browser = webdriver.Chrome(\"chromedriver.exe\", options=chrome_options)"
   ]
  },
  {
   "cell_type": "code",
   "execution_count": null,
   "metadata": {},
   "outputs": [],
   "source": [
    "browser.get(\"https://clutch.co/it-services/outsourcing\")"
   ]
  },
  {
   "cell_type": "code",
   "execution_count": null,
   "metadata": {},
   "outputs": [],
   "source": [
    "# image = browser.find_element_by_class_name('company_logotype') #class=\"company_logotype\"\n",
    "# image.click()\n",
    "soup = BeautifulSoup(browser.page_source, features='html.parser')\n",
    "url_list = soup.find_all(\"div\",attrs={\"class\" : \"company_logotype\"}, recursive=True)"
   ]
  },
  {
   "cell_type": "code",
   "execution_count": null,
   "metadata": {},
   "outputs": [],
   "source": [
    "# nome -- h1 class header-company--title \n",
    "# nota -- span itemprop ratingValue\n",
    "# local -- span class location-name\n",
    "# clients -- div class field-name-clients // field c -> p\n",
    "browser.get(\"https://clutch.co/profile/pattern-match\")"
   ]
  },
  {
   "cell_type": "code",
   "execution_count": null,
   "metadata": {},
   "outputs": [],
   "source": [
    "url_list_string = []\n",
    "for i in range(2):\n",
    "    browser.get(f\"https://clutch.co/it-services/outsourcing?page={i}\")\n",
    "    soup = BeautifulSoup(browser.page_source, features='html.parser')\n",
    "    #url_list.append(soup.find_all(\"div\",attrs={\"class\" : \"company_logotype\"}, recursive=True))\n",
    "    url_list = (soup.find_all(\"div\",attrs={\"class\" : \"company_logotype\"}, recursive=True))\n",
    "    \n",
    "    for url in url_list:\n",
    "           url_list_string.append(url.find('a')['href'])"
   ]
  },
  {
   "cell_type": "code",
   "execution_count": null,
   "metadata": {},
   "outputs": [],
   "source": [
    "name = []\n",
    "note = []\n",
    "place = []\n",
    "client = []\n",
    "value = []\n",
    "hour_price = []\n",
    "employee = []\n",
    "\n",
    "for url in url_list_string:\n",
    "    #print(url.find('a')['href'])\n",
    "    browser.get(f\"https://clutch.co{url}\")\n",
    "    time.sleep(3)\n",
    "    soup = BeautifulSoup(browser.page_source, features='html.parser')\n",
    "\n",
    "    nome = soup.find(\"h1\", attrs={\"class\" : \"header-company--title\"})\n",
    "    nome = nome.text.replace('\\n', '').strip()\n",
    "    name.append(nome)\n",
    "    \n",
    "    main_div = soup.find(\"div\", attrs={\"class\" : \"module-list\"}) \n",
    "    main_div.find_all(\"span\")\n",
    "    \n",
    "    valor = ''\n",
    "    preco_hora = ''\n",
    "    funcionarios = ''\n",
    "    \n",
    "    main_div = [i.text for i in main_div.find_all(\"span\")]\n",
    "    main_div\n",
    "    valor, preco_hora, funcionarios = [main_div[i] for i in (0, 1, 2)]\n",
    "    value.append(valor)\n",
    "    hour_price.append(preco_hora)\n",
    "    employee.append(funcionarios)\n",
    "    \n",
    "\n",
    "    nota = soup.find(\"span\", attrs={\"itemprop\" : \"ratingValue\"})\n",
    "    nota = nota.text.replace('\\n', '').strip()\n",
    "    note.append(nota)\n",
    "\n",
    "    local = soup.find(\"span\", attrs={\"class\" : \"location-name\"})\n",
    "    local = local.text.replace('\\n', '').strip()\n",
    "    place.append(local)\n",
    "    \n",
    "    clients = ''\n",
    "    try:\n",
    "        clients = soup.find(\"div\", attrs={\"class\" : \"field-name-clients\"})\n",
    "        clients =  ' '.join([p.text.replace('\\n', ' ').strip() for p in clients.find_all('p')])\n",
    "        client.append(clients)\n",
    "    except:\n",
    "        try:\n",
    "            clients = soup.find(\"div\", attrs={\"class\" : \"field c\"})\n",
    "            clients = ' '.join([p.text.replace('\\n', ' ').strip() for p in clients.find_all('p')])\n",
    "            #clients = clients.find('p').text.replace('\\n', ' ').strip()\n",
    "            client.append(clients)\n",
    "        except:\n",
    "            clients = ' : '.join([\"Clientes não encontrados para a empresa\",nome])\n",
    "            clients = f\"Clientes não encontrados para a empresa : {nome}\"\n",
    "\n",
    "            client.append(clients)\n",
    "   #print(f\"nome: {nome}\")\n",
    "   #print(f\"nota: {nota}\")\n",
    "   #print(f\"local: {local}\")\n",
    "   #print(f\"clientes: {clients}\")\n",
    "   #print(f\"valor : {valor}\")\n",
    "   #print(f\"preco_hora : {preco_hora}\")\n",
    "   #print(f\"funcionarios : {funcionarios}\")\n",
    "print(f\"FIM\")"
   ]
  },
  {
   "cell_type": "code",
   "execution_count": null,
   "metadata": {},
   "outputs": [],
   "source": [
    "def preenche_pais(x):\n",
    "    if len(x.split(\", \")[1]) == 2:\n",
    "        return (x.split(\", \")[1]), \"United States\"\n",
    "    else:\n",
    "        return \" \", x.split(\", \")[1]\n",
    "    "
   ]
  },
  {
   "cell_type": "code",
   "execution_count": null,
   "metadata": {},
   "outputs": [],
   "source": [
    "df = pd.DataFrame({'nome': name, 'nota': note, 'valor':value, 'preco_hora':hour_price, 'funcionarios':employee, 'local': place, 'clients':client})"
   ]
  },
  {
   "cell_type": "code",
   "execution_count": null,
   "metadata": {},
   "outputs": [],
   "source": [
    "df['cidade'] = df.local.str.split(\",\",expand=True,)[0]\n",
    "df[['estado','pais']] = pd.DataFrame(df.local.apply(preenche_pais).tolist(), index=df.index)\n",
    "df.head()"
   ]
  },
  {
   "cell_type": "code",
   "execution_count": null,
   "metadata": {},
   "outputs": [],
   "source": [
    "df_model = df[['nota','valor','preco_hora','funcionarios']].copy()"
   ]
  },
  {
   "cell_type": "code",
   "execution_count": null,
   "metadata": {},
   "outputs": [],
   "source": [
    "df_model['nota'] = df['nota'].apply(lambda x : float(x))"
   ]
  },
  {
   "cell_type": "code",
   "execution_count": null,
   "metadata": {},
   "outputs": [],
   "source": [
    "df_model['faixa_notas'] = pd.cut((df_model.nota),2)\n",
    "df_model.drop(columns=[\"nota\"],inplace=True)"
   ]
  },
  {
   "cell_type": "code",
   "execution_count": null,
   "metadata": {},
   "outputs": [],
   "source": [
    "df_model.isnull().sum()*100/df_model.shape[0]"
   ]
  },
  {
   "cell_type": "code",
   "execution_count": null,
   "metadata": {},
   "outputs": [],
   "source": [
    "km = KModes(n_clusters=3, init='Huang', n_init=5, verbose=1)\n",
    "\n",
    "clusters = km.fit_predict(df_model)\n",
    "\n",
    "df_model['cluster'] = clusters\n",
    "\n",
    "# Print the cluster centroids\n",
    "print(km.cluster_centroids_)"
   ]
  },
  {
   "cell_type": "code",
   "execution_count": null,
   "metadata": {},
   "outputs": [],
   "source": [
    "plt.subplots(figsize = (15,5))\n",
    "sns.countplot(x=df_model['valor'],order=df_model['valor'].value_counts().index,hue=df_model['cluster'])\n",
    "plt.show()"
   ]
  },
  {
   "cell_type": "code",
   "execution_count": null,
   "metadata": {},
   "outputs": [],
   "source": [
    "plt.subplots(figsize = (15,5))\n",
    "sns.countplot(x=df_model['funcionarios'],order=df_model['funcionarios'].value_counts().index,hue=df_model['cluster'])\n",
    "plt.show()"
   ]
  },
  {
   "cell_type": "code",
   "execution_count": null,
   "metadata": {},
   "outputs": [],
   "source": [
    "plt.subplots(figsize = (15,5))\n",
    "sns.countplot(x=df_model['preco_hora'],order=df_model['preco_hora'].value_counts().index,hue=df_model['cluster'])\n",
    "plt.show()"
   ]
  },
  {
   "cell_type": "code",
   "execution_count": null,
   "metadata": {},
   "outputs": [],
   "source": [
    "plt.subplots(figsize = (15,5))\n",
    "sns.countplot(x=df_model['faixa_notas'],order=df_model['faixa_notas'].value_counts().index,hue=df_model['cluster'])\n",
    "plt.show()"
   ]
  },
  {
   "cell_type": "code",
   "execution_count": null,
   "metadata": {},
   "outputs": [],
   "source": []
  }
 ],
 "metadata": {
  "kernelspec": {
   "display_name": "Python 3",
   "language": "python",
   "name": "python3"
  },
  "language_info": {
   "codemirror_mode": {
    "name": "ipython",
    "version": 3
   },
   "file_extension": ".py",
   "mimetype": "text/x-python",
   "name": "python",
   "nbconvert_exporter": "python",
   "pygments_lexer": "ipython3",
   "version": "3.8.5"
  }
 },
 "nbformat": 4,
 "nbformat_minor": 4
}
