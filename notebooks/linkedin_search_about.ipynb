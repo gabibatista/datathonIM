{
 "cells": [
  {
   "cell_type": "code",
   "execution_count": 1,
   "metadata": {},
   "outputs": [],
   "source": [
    "import os, random, sys, time, shutil, re, csv, datetime, pickle, math \n",
    "\n",
    "import pandas as pd\n",
    "\n",
    "from random import seed\n",
    "from random import randrange, uniform\n",
    "\n",
    "import import_ipynb\n",
    "\n",
    "from selenium import webdriver\n",
    "from selenium.common.exceptions import TimeoutException\n",
    "from selenium.webdriver.support import expected_conditions as EC\n",
    "from selenium.webdriver.support.ui import WebDriverWait\n",
    "from selenium.webdriver.common.by import By\n",
    "from selenium.webdriver.common.keys import Keys\n",
    "from selenium.webdriver.common.action_chains import ActionChains\n",
    "from selenium.webdriver.chrome.webdriver import Options\n",
    "\n",
    "from webdriver_manager.chrome import ChromeDriverManager\n",
    "\n",
    "from bs4 import BeautifulSoup"
   ]
  },
  {
   "cell_type": "code",
   "execution_count": 2,
   "metadata": {},
   "outputs": [],
   "source": [
    "objectives_path = 'CSVs/companies/companies.csv'\n",
    "result_path = 'CSVs/linkedin_about/companies_about.csv'\n",
    "\n",
    "clutch_companies_path = 'CSVs/clutch/clutch_companies.csv'\n",
    "linkedin_accounts_path = 'CSVs/commons/accounts.csv'"
   ]
  },
  {
   "cell_type": "code",
   "execution_count": 3,
   "metadata": {},
   "outputs": [],
   "source": [
    "chrome_options = Options()\n",
    "chrome_options.add_argument('--no-sandbox')\n",
    "chrome_options.add_argument('--disable-dev-shm-usage')\n",
    "chrome_options.add_argument(\"--log-level=3\")  # fatal\n",
    "chrome_options.add_argument(\"--start-maximized\")\n",
    "chrome_options.add_argument(\"--incognito\")"
   ]
  },
  {
   "cell_type": "code",
   "execution_count": 4,
   "metadata": {},
   "outputs": [],
   "source": [
    "seed(1)"
   ]
  },
  {
   "cell_type": "code",
   "execution_count": 5,
   "metadata": {},
   "outputs": [],
   "source": [
    "def get_companies_df():\n",
    "    try: return pd.read_csv(objectives_path)\n",
    "    except: return pd.DataFrame()"
   ]
  },
  {
   "cell_type": "code",
   "execution_count": 6,
   "metadata": {},
   "outputs": [],
   "source": [
    "def get_companies_result_df():\n",
    "    try: return pd.read_csv(result_path)\n",
    "    except: return pd.DataFrame()"
   ]
  },
  {
   "cell_type": "code",
   "execution_count": 7,
   "metadata": {},
   "outputs": [],
   "source": [
    "def get_linkedin_accounts():\n",
    "    return None"
   ]
  },
  {
   "cell_type": "code",
   "execution_count": 8,
   "metadata": {},
   "outputs": [],
   "source": [
    "def get_linkedin_active_account():\n",
    "    username = 'zeipf10@gmail.com'\n",
    "    password = 'dextra#2021'\n",
    "    return username, password"
   ]
  },
  {
   "cell_type": "code",
   "execution_count": 9,
   "metadata": {},
   "outputs": [],
   "source": [
    "def auth_linkedin(browser):\n",
    "    \n",
    "    linkedin_login_url = 'https://www.linkedin.com/uas/login'\n",
    "    \n",
    "    try:\n",
    "        print('Accessing: ', linkedin_login_url)\n",
    "        browser.get(linkedin_login_url)\n",
    "        time.sleep(uniform(1,2))\n",
    "    \n",
    "        username, password = get_linkedin_active_account()\n",
    "    \n",
    "        print('Sign up with: ', username)\n",
    "        username_field = browser.find_element_by_id('username')\n",
    "        username_field.send_keys(username)\n",
    "\n",
    "        password_field = browser.find_element_by_id('password')\n",
    "        password_field.send_keys(password)\n",
    "    \n",
    "        time.sleep(uniform(1,2))\n",
    "        password_field.submit()\n",
    "    \n",
    "    except:\n",
    "        print('ERROR: AUTH LINKEDIN FAILS')"
   ]
  },
  {
   "cell_type": "code",
   "execution_count": 10,
   "metadata": {},
   "outputs": [],
   "source": [
    "def get_company_id(company):\n",
    "    \n",
    "    linkedin_search_url = 'https://www.linkedin.com/search/results/companies/?keywords=' + company\n",
    "    print('Accessing: ', linkedin_search_url)\n",
    "    browser.get(linkedin_search_url)\n",
    "    time.sleep(uniform(1,2))\n",
    "    \n",
    "    soup = BeautifulSoup(browser.page_source, features='html.parser')\n",
    "    code = soup.find_all('code')\n",
    "\n",
    "    try:\n",
    "        for code_str in code:\n",
    "            \n",
    "            if('urn:li:fsd_company:' in code_str.text):\n",
    "                \n",
    "                company_id = re.findall(r\"(?<=fsd_company:)\\d+?(?=[,|\\\"])\", code_str.text)[0]\n",
    "                \n",
    "                if company_id == '' or company_id == '8175': \n",
    "                    return ''\n",
    "                \n",
    "        return company_id\n",
    "    \n",
    "    except:\n",
    "        print('ERROR: - Company ID except for: ', company)\n",
    "        return ''"
   ]
  },
  {
   "cell_type": "code",
   "execution_count": 11,
   "metadata": {},
   "outputs": [],
   "source": [
    "def append_empty(company):\n",
    "    info_to_append = {  'company_searched': company, \n",
    "                        'company_found': '', \n",
    "                        'found': False, \n",
    "                        'company_id': '', \n",
    "                        'employees': '',\n",
    "                        'industry': '',\n",
    "                        'specialties': '',\n",
    "                        'headquarters': ''  }\n",
    "    \n",
    "    df = get_companies_result_df()\n",
    "    df = df.append(info_to_append, ignore_index=True)\n",
    "    df.to_csv(result_path, index=False)"
   ]
  },
  {
   "cell_type": "code",
   "execution_count": 12,
   "metadata": {},
   "outputs": [],
   "source": [
    "def find_company_title_on(browser):\n",
    "    soup = BeautifulSoup(browser.page_source, features='html.parser')\n",
    "    try:\n",
    "        company_title = soup.find(attrs={\"class\": \"org-top-card-summary__title\"})\n",
    "        company_title = company_title.find(\"span\").getText()\n",
    "        return company_title\n",
    "    except:\n",
    "        try:\n",
    "            time.sleep(uniform(1,2))\n",
    "            company_title = soup.find(attrs={\"class\": \"org-top-card-summary__title\"})\n",
    "            company_title = company_title.find(\"span\").getText()\n",
    "            return company_title\n",
    "        except:\n",
    "            print('ERROR: - Company Title except')\n",
    "            return 'NF'"
   ]
  },
  {
   "cell_type": "code",
   "execution_count": 13,
   "metadata": {},
   "outputs": [],
   "source": [
    "def find_company_employees_on(browser):\n",
    "    soup = BeautifulSoup(browser.page_source, features='html.parser')\n",
    "    try:\n",
    "        employees = soup.find(attrs={\"class\": \"org-about-company-module__company-size-definition-text\"})\n",
    "        employees = employees.getText().replace('\\n', '').strip()\n",
    "        return employees\n",
    "    except:\n",
    "        try:\n",
    "            time.sleep(uniform(1,2))\n",
    "            employees = soup.find(attrs={\"class\": \"org-about-company-module__company-size-definition-text\"})\n",
    "            employees = employees.getText().replace('\\n', '').strip()\n",
    "            return employees\n",
    "        except:\n",
    "            print('ERROR: - Company Employees except')\n",
    "            return 'NF'"
   ]
  },
  {
   "cell_type": "code",
   "execution_count": 14,
   "metadata": {},
   "outputs": [],
   "source": [
    "def find_company_details_dict_on(browser):\n",
    "    soup = BeautifulSoup(browser.page_source, features='html.parser')\n",
    "    try:\n",
    "        company_details_dict = {}\n",
    "        company_details = soup.find('dl', attrs={'class': 'overflow-hidden'}).find_all()\n",
    "        for num, info in enumerate(company_details):\n",
    "            if(info.name == 'dt'):\n",
    "                company_details_dict[info.text.replace('\\n', '').strip()] = company_details[num+1].text.replace('\\n', '').strip()\n",
    "        return company_details_dict\n",
    "    except:\n",
    "        print('ERROR: - Company Details except')\n",
    "        return {}"
   ]
  },
  {
   "cell_type": "code",
   "execution_count": 15,
   "metadata": {},
   "outputs": [],
   "source": [
    "def find_total_jobs_on(browser):\n",
    "    soup = BeautifulSoup(browser.page_source, features='html.parser')\n",
    "    try:\n",
    "        total_jobs = re.search(r\"(.+\\ )\", soup.find(\"div\", attrs={\"class\": \"jobs-search-results-list__title-heading\"}).find(\"small\").text)\n",
    "        total_jobs = total_jobs.group(1).strip()\n",
    "        return total_jobs\n",
    "    except:\n",
    "        print('ERROR: - Company Total Jobs except')\n",
    "        return '0'"
   ]
  },
  {
   "cell_type": "code",
   "execution_count": 16,
   "metadata": {},
   "outputs": [],
   "source": [
    "def find_usa_iteng_jobs_on(browser):\n",
    "    soup = BeautifulSoup(browser.page_source, features='html.parser')\n",
    "    try:\n",
    "        iteng_jobs = re.search(r\"(.+\\ )\", soup.find(\"div\", attrs={\"class\": \"jobs-search-results-list__title-heading\"}).find(\"small\").text)\n",
    "        iteng_jobs = iteng_jobs.group(1).strip()\n",
    "        return iteng_jobs\n",
    "    except:\n",
    "        print('ERROR: - Company IT-ENG Jobs except')\n",
    "        iteng_jobs = '0'"
   ]
  },
  {
   "cell_type": "code",
   "execution_count": 17,
   "metadata": {},
   "outputs": [],
   "source": [
    "def get_employees_number(companies):\n",
    "    \n",
    "    for processed, company in enumerate(companies):\n",
    "        \n",
    "        print('Iteração :', processed, ' de ', len(companies))\n",
    "        company_id = get_company_id(company)\n",
    "\n",
    "        if company_id == '':\n",
    "            print('**Company id empty')\n",
    "            append_empty(company)\n",
    "            continue\n",
    "        else:\n",
    "            print('**Founded some company id')\n",
    "            pass\n",
    "        \n",
    "        linkedin_url = \"https://www.linkedin.com/company/\" + company_id + \"/about/\"\n",
    "        \n",
    "        #accessing the company's page\n",
    "        print('Acessing: ', linkedin_url)\n",
    "        browser.get(linkedin_url)\n",
    "        time.sleep(uniform(3,6))\n",
    "        \n",
    "        #searching for the company title\n",
    "        company_title = find_company_title_on(browser)\n",
    "        \n",
    "        #searching for the number of employees\n",
    "        employees = find_company_employees_on(browser)\n",
    "        \n",
    "        #searching for the company info\n",
    "        company_details_dict = find_company_details_dict_on(browser)\n",
    "        \n",
    "        #searching for total jobs count\n",
    "        linkedin_total_url = 'https://www.linkedin.com/jobs/search/?geoId=92000000&f_C=' + company_id\n",
    "        print('Acessing: ', linkedin_total_url)\n",
    "        browser.get(linkedin_total_url)\n",
    "        time.sleep(uniform(3,6))\n",
    "        \n",
    "        total_jobs = find_total_jobs_on(browser)\n",
    "        \n",
    "        if total_jobs != '0':\n",
    "            #searching for it and engeneering jobs count\n",
    "            linkedin_iteng_url = 'https://www.linkedin.com/jobs/search/?f_C=' + company_id + '&f_CR=103644278&f_F=it%2Ceng&geoId=92000000&sortBy=R'\n",
    "            print('Acessing: ', linkedin_iteng_url)\n",
    "            browser.get(linkedin_iteng_url)\n",
    "            time.sleep(uniform(3,6))\n",
    "        \n",
    "            iteng_jobs = find_usa_iteng_jobs_on(browser)\n",
    "        else:\n",
    "            iteng_jobs = '0'\n",
    "        \n",
    "        info_to_append = {  'company_searched': company,\n",
    "                            'company_found': company_title, \n",
    "                            'found': True, \n",
    "                            'company_id': company_id,\n",
    "                            'linkedin': linkedin_url,\n",
    "                            'total_jobs':total_jobs,\n",
    "                            'it_eng_jobs': iteng_jobs,\n",
    "                            'website': company_details_dict.get('Site', 'NF'),\n",
    "                            'employees': company_details_dict.get('Tamanho da empresa', 'NF'),\n",
    "                            'industry': company_details_dict.get('Setor', 'NF'),\n",
    "                            'specialties': company_details_dict.get('Especializações', 'NF'),\n",
    "                            'headquarters': company_details_dict.get('Sede', 'NF')  }\n",
    "        \n",
    "        \n",
    "        df = get_companies_result_df()\n",
    "        df = df.append(info_to_append, ignore_index=True)\n",
    "        df.to_csv(result_path, index=False)\n",
    "        \n",
    "        #storing company data found\n",
    "        print('-----------DADOS-----------')\n",
    "        print('company_searched', company)\n",
    "        print('company_found', company_title) \n",
    "        print('company_id', company_id)\n",
    "        print('linkedin', linkedin_url)\n",
    "        print('total_jobs', total_jobs)\n",
    "        print('iteng_jobs', iteng_jobs)\n",
    "        print('website', company_details_dict.get('Site', ''))\n",
    "        print('employees', company_details_dict.get('Tamanho da empresa', ''))\n",
    "        print('industry', company_details_dict.get('Setor', ''))\n",
    "        print('specialties', company_details_dict.get('Especializações', ''))\n",
    "        print('headquarters', company_details_dict.get('Sede', ''))\n",
    "        print('---------------------------------------------')"
   ]
  },
  {
   "cell_type": "code",
   "execution_count": 18,
   "metadata": {
    "scrolled": true
   },
   "outputs": [],
   "source": [
    "def get_company_list():\n",
    "    try:\n",
    "        companies = get_companies_df()['company'].to_list()\n",
    "        return list(filter(lambda elm: isinstance(elm, str), companies))\n",
    "    except:\n",
    "        print('get_company_list except')\n",
    "        return []"
   ]
  },
  {
   "cell_type": "code",
   "execution_count": 19,
   "metadata": {},
   "outputs": [],
   "source": [
    "def get_company_searched():\n",
    "    try:\n",
    "        searched = pd.read_csv(result_path)['company_searched'].to_list()\n",
    "        return list(filter(lambda elm: isinstance(elm, str), searched))\n",
    "    except:\n",
    "        print('get_company_searched except')\n",
    "        return []"
   ]
  },
  {
   "cell_type": "code",
   "execution_count": 24,
   "metadata": {
    "scrolled": false
   },
   "outputs": [
    {
     "name": "stderr",
     "output_type": "stream",
     "text": [
      "[WDM] - ====== WebDriver manager ======\n",
      "[WDM] - Current google-chrome version is 88.0.4324\n",
      "[WDM] - Get LATEST driver version for 88.0.4324\n"
     ]
    },
    {
     "name": "stdout",
     "output_type": "stream",
     "text": [
      "\n",
      "\n"
     ]
    },
    {
     "name": "stderr",
     "output_type": "stream",
     "text": [
      "[WDM] - Driver [/home/carlos.cayres/.wdm/drivers/chromedriver/linux64/88.0.4324.96/chromedriver] found in cache\n"
     ]
    }
   ],
   "source": [
    "browser = webdriver.Chrome(ChromeDriverManager().install(), options=chrome_options)"
   ]
  },
  {
   "cell_type": "code",
   "execution_count": 25,
   "metadata": {},
   "outputs": [
    {
     "name": "stdout",
     "output_type": "stream",
     "text": [
      "Accessing:  https://www.linkedin.com/uas/login\n",
      "Sign up with:  zeipf10@gmail.com\n"
     ]
    }
   ],
   "source": [
    "auth_linkedin(browser)"
   ]
  },
  {
   "cell_type": "code",
   "execution_count": 26,
   "metadata": {},
   "outputs": [
    {
     "name": "stdout",
     "output_type": "stream",
     "text": [
      "De:  3830\n",
      "Restam:  2114\n"
     ]
    }
   ],
   "source": [
    "companies = get_company_list()\n",
    "companies_searched = get_company_searched()\n",
    "to_search = [c for c in companies if c not in companies_searched]\n",
    "    \n",
    "print('De: ', len(companies))\n",
    "print('Restam: ', len(to_search))"
   ]
  },
  {
   "cell_type": "code",
   "execution_count": null,
   "metadata": {
    "scrolled": true
   },
   "outputs": [
    {
     "name": "stdout",
     "output_type": "stream",
     "text": [
      "--- De:  3830\n",
      "--- Restam:  2114\n",
      "Buscando mais: 58\n",
      "Iteração : 0  de  58\n",
      "Accessing:  https://www.linkedin.com/search/results/companies/?keywords=Human Resources\n",
      "**Founded some company id\n",
      "Acessing:  https://www.linkedin.com/company/1185120/about/\n",
      "Acessing:  https://www.linkedin.com/jobs/search/?geoId=92000000&f_C=1185120\n",
      "Acessing:  https://www.linkedin.com/jobs/search/?f_C=1185120&f_CR=103644278&f_F=it%2Ceng&geoId=92000000&sortBy=R\n",
      "-----------DADOS-----------\n",
      "company_searched Human Resources\n",
      "company_found Human Resources\n",
      "company_id 1185120\n",
      "linkedin https://www.linkedin.com/company/1185120/about/\n",
      "total_jobs 15\n",
      "iteng_jobs 3\n",
      "website \n",
      "employees 11-50 funcionários\n",
      "industry Recursos humanos\n",
      "specialties \n",
      "headquarters Ciudad Autónoma de Buenos Aires, Buenos Aires\n",
      "---------------------------------------------\n",
      "Iteração : 1  de  58\n",
      "Accessing:  https://www.linkedin.com/search/results/companies/?keywords=Humana Inc.\n",
      "**Founded some company id\n",
      "Acessing:  https://www.linkedin.com/company/4257/about/\n",
      "Acessing:  https://www.linkedin.com/jobs/search/?geoId=92000000&f_C=4257\n",
      "Acessing:  https://www.linkedin.com/jobs/search/?f_C=4257&f_CR=103644278&f_F=it%2Ceng&geoId=92000000&sortBy=R\n",
      "-----------DADOS-----------\n",
      "company_searched Humana Inc.\n",
      "company_found Humana\n",
      "company_id 4257\n",
      "linkedin https://www.linkedin.com/company/4257/about/\n",
      "total_jobs 994\n",
      "iteng_jobs 254\n",
      "website http://www.humana.com/\n",
      "employees + de 10.001 funcionários\n",
      "industry Saúde, bem-estar e educação física\n",
      "specialties \n",
      "headquarters Louisville, Kentucky\n",
      "---------------------------------------------\n",
      "Iteração : 2  de  58\n",
      "Accessing:  https://www.linkedin.com/search/results/companies/?keywords=Humania Assurance Inc.\n"
     ]
    }
   ],
   "source": [
    "to_search_count = 1\n",
    "\n",
    "while to_search_count > 0:\n",
    "    \n",
    "    companies = get_company_list()\n",
    "    companies_searched = get_company_searched()\n",
    "    to_search = [c for c in companies if c not in companies_searched]\n",
    "    \n",
    "    to_search_count = len(to_search)    \n",
    "    count = min(randrange(40,70), to_search_count)\n",
    "    \n",
    "    print('--- De: ', len(companies))\n",
    "    print('--- Restam: ', len(to_search))\n",
    "    print(\"Buscando mais:\", count)\n",
    "    \n",
    "    get_employees_number(to_search[0:count])\n",
    "\n",
    "    timeSleep = randrange(30,60)\n",
    "    \n",
    "    print(\"Esperando um total de:\", timeSleep)\n",
    "    time.sleep(timeSleep)"
   ]
  },
  {
   "cell_type": "code",
   "execution_count": null,
   "metadata": {
    "scrolled": false
   },
   "outputs": [],
   "source": [
    "get_company_searched()"
   ]
  },
  {
   "cell_type": "code",
   "execution_count": null,
   "metadata": {},
   "outputs": [],
   "source": [
    "get_company_searched()['found'].value_counts()"
   ]
  },
  {
   "cell_type": "code",
   "execution_count": null,
   "metadata": {},
   "outputs": [],
   "source": []
  }
 ],
 "metadata": {
  "kernelspec": {
   "display_name": "env-im",
   "language": "python",
   "name": "env-im"
  },
  "language_info": {
   "codemirror_mode": {
    "name": "ipython",
    "version": 3
   },
   "file_extension": ".py",
   "mimetype": "text/x-python",
   "name": "python",
   "nbconvert_exporter": "python",
   "pygments_lexer": "ipython3",
   "version": "3.8.5"
  }
 },
 "nbformat": 4,
 "nbformat_minor": 4
}
