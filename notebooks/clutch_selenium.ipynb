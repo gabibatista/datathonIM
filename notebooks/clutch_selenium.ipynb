{
 "cells": [
  {
   "cell_type": "code",
   "execution_count": 1,
   "metadata": {},
   "outputs": [],
   "source": [
    "import os, random, sys, time, shutil, re, csv, datetime, pickle, math \n",
    "\n",
    "import pandas as pd\n",
    "\n",
    "from selenium import webdriver\n",
    "from selenium.common.exceptions import TimeoutException\n",
    "from selenium.webdriver.support import expected_conditions as EC\n",
    "from selenium.webdriver.support.ui import WebDriverWait\n",
    "from selenium.webdriver.common.by import By\n",
    "from selenium.webdriver.common.keys import Keys\n",
    "from selenium.webdriver.common.action_chains import ActionChains\n",
    "from selenium.webdriver.chrome.webdriver import Options\n",
    "\n",
    "from bs4 import BeautifulSoup"
   ]
  },
  {
   "cell_type": "code",
   "execution_count": 2,
   "metadata": {},
   "outputs": [],
   "source": [
    "chrome_options = Options()\n",
    "#chrome_options.add_argument('--headless')\n",
    "chrome_options.add_argument('--no-sandbox')\n",
    "chrome_options.add_argument('--disable-dev-shm-usage')\n",
    "chrome_options.add_argument(\"--log-level=3\")  # fatal\n",
    "chrome_options.add_argument(\"--start-maximized\")"
   ]
  },
  {
   "cell_type": "code",
   "execution_count": 3,
   "metadata": {},
   "outputs": [
    {
     "name": "stderr",
     "output_type": "stream",
     "text": [
      "[WDM] - ====== WebDriver manager ======\n",
      "[WDM] - Current google-chrome version is 88.0.4324\n",
      "[WDM] - Get LATEST driver version for 88.0.4324\n"
     ]
    },
    {
     "name": "stdout",
     "output_type": "stream",
     "text": [
      "\n",
      "\n"
     ]
    },
    {
     "name": "stderr",
     "output_type": "stream",
     "text": [
      "[WDM] - Driver [/home/carlos.cayres/.wdm/drivers/chromedriver/linux64/88.0.4324.96/chromedriver] found in cache\n"
     ]
    }
   ],
   "source": [
    "from selenium import webdriver\n",
    "from webdriver_manager.chrome import ChromeDriverManager\n",
    "\n",
    "browser = webdriver.Chrome(ChromeDriverManager().install(), options=chrome_options)\n",
    "\n",
    "#browser = webdriver.Chrome(\"chromedriver.exe\", options=chrome_options)"
   ]
  },
  {
   "cell_type": "code",
   "execution_count": null,
   "metadata": {},
   "outputs": [],
   "source": [
    "# browser.get(\"https://clutch.co/it-services/outsourcing\")\n",
    "browser.get(\"https://clutch.co/profile/pattern-match\")"
   ]
  },
  {
   "cell_type": "code",
   "execution_count": null,
   "metadata": {
    "scrolled": true
   },
   "outputs": [],
   "source": [
    "# image = browser.find_element_by_class_name('company_logotype') #class=\"company_logotype\"\n",
    "# image.click()\n",
    "soup = BeautifulSoup(browser.page_source, features='html.parser')\n",
    "url_list = soup.find_all(\"div\",attrs={\"class\" : \"company_logotype\"}, recursive=True)\n",
    "\n",
    "url_list"
   ]
  },
  {
   "cell_type": "code",
   "execution_count": null,
   "metadata": {
    "scrolled": true
   },
   "outputs": [],
   "source": [
    "for url in url_list:\n",
    "    print(url.find('a')['href'])\n",
    "    #browser.get(f\"https://clutch.co{url.find('a')['href']}\")\n",
    "    time.sleep(3)\n",
    "    \n",
    "    soup = BeautifulSoup(browser.page_source, features='html.parser')\n",
    "\n",
    "    nome = soup.find(\"h1\", attrs={\"class\" : \"header-company--title\"})\n",
    "    nome = nome.text.replace('\\n', '').strip()\n",
    "\n",
    "    nota = soup.find(\"span\", attrs={\"itemprop\" : \"ratingValue\"})\n",
    "    nota = nota.text.replace('\\n', '').strip()\n",
    "\n",
    "    local = soup.find(\"span\", attrs={\"class\" : \"location-name\"})\n",
    "    local = local.text.replace('\\n', '').strip()\n",
    "    \n",
    "    clients = ''\n",
    "    try:\n",
    "        clients = soup.find(\"div\", attrs={\"class\" : \"field-name-clients\"})\n",
    "        clients =  ' '.join([p.text.replace('\\n', ' ').strip() for p in clients.find_all('p')])\n",
    "    except:\n",
    "        try:\n",
    "            clients = soup.find(\"div\", attrs={\"class\" : \"field c\"})\n",
    "            clients = ' '.join([p.text.replace('\\n', ' ').strip() for p in clients.find_all('p')])\n",
    "            #clients = clients.find('p').text.replace('\\n', ' ').strip()\n",
    "        except:\n",
    "            print(f\"CLIENTES NÃO ENCONTRADOS EM {nome}\")\n",
    "            \n",
    "    print(f\"nome: {nome}\")\n",
    "    print(f\"nota: {nota}\")\n",
    "    print(f\"local: {local}\")\n",
    "    print(f\"clientes: {clients}\")"
   ]
  },
  {
   "cell_type": "code",
   "execution_count": null,
   "metadata": {},
   "outputs": [],
   "source": [
    "for i in range(4):\n",
    "    browser.get(f\"https://clutch.co/it-services/outsourcing?page={i}\")\n",
    "    soup = BeautifulSoup(browser.page_source, features='html.parser')\n",
    "    url_list = soup.find_all(\"div\",attrs={\"class\" : \"company_logotype\"}, recursive=True)\n",
    "    for url in url_list:\n",
    "        print(url.find('a')['href'])"
   ]
  },
  {
   "cell_type": "code",
   "execution_count": null,
   "metadata": {},
   "outputs": [],
   "source": [
    "# nome -- h1 class header-company--title \n",
    "# nota -- span itemprop ratingValue\n",
    "# local -- span class location-name\n",
    "# clients -- div class field-name-clients // field c -> p\n",
    "browser.get(\"https://clutch.co/profile/pattern-match\")"
   ]
  },
  {
   "cell_type": "code",
   "execution_count": null,
   "metadata": {},
   "outputs": [],
   "source": [
    "soup = BeautifulSoup(browser.page_source, features='html.parser')\n",
    "\n",
    "nome = soup.find(\"h1\", attrs={\"class\" : \"header-company--title\"})\n",
    "nome = nome.text.replace('\\n', '').strip()\n",
    "\n",
    "nota = soup.find(\"span\", attrs={\"itemprop\" : \"ratingValue\"})\n",
    "nota = nota.text.replace('\\n', '').strip()\n",
    "\n",
    "local = soup.find(\"span\", attrs={\"class\" : \"location-name\"})\n",
    "local = local.text.replace('\\n', '').strip()\n",
    "\n",
    "try:\n",
    "    clients = soup.find(\"div\", attrs={\"class\" : \"field-name-clients\"})\n",
    "    clients = ' '.join([p.text for p in clients.find_all('p')])\n",
    "except:\n",
    "    try:\n",
    "        clients = soup.find(\"div\", attrs={\"class\" : \"field c\"})\n",
    "        clients = ' '.join([p.text for p in clients.find_all('p')])\n",
    "    except:\n",
    "        print(nome)\n",
    "\n",
    "print(f\"nome: {nome}\")\n",
    "print(f\"nota: {nota}\")\n",
    "print(f\"local: {local}\")\n",
    "print(f\"clientes: {clients}\")"
   ]
  },
  {
   "cell_type": "code",
   "execution_count": null,
   "metadata": {},
   "outputs": [],
   "source": [
    "soup = BeautifulSoup(browser.page_source, features='html.parser')\n",
    "\n",
    "\n",
    "main_div = soup.find(\"div\", attrs={\"class\" : \"module-list\"}) \n",
    "main_div.find_all(\"span\")\n",
    "\n",
    "valor = ''\n",
    "preco_hora = ''\n",
    "funcionarios = ''\n",
    "\n",
    "main_div = [i.text for i in main_div.find_all(\"span\")]\n",
    "main_div\n",
    "valor, preco_hora, funcionarios = [main_div[i] for i in (0, 1, 2)]\n",
    "\n",
    "print(f\"valor {valor}\")\n",
    "print(f\"preco_hora {preco_hora}\")\n",
    "print(f\"funcionarios {funcionarios}\")"
   ]
  },
  {
   "cell_type": "code",
   "execution_count": null,
   "metadata": {},
   "outputs": [],
   "source": []
  }
 ],
 "metadata": {
  "kernelspec": {
   "display_name": "env-datathon",
   "language": "python",
   "name": "env-datathon"
  },
  "language_info": {
   "codemirror_mode": {
    "name": "ipython",
    "version": 3
   },
   "file_extension": ".py",
   "mimetype": "text/x-python",
   "name": "python",
   "nbconvert_exporter": "python",
   "pygments_lexer": "ipython3",
   "version": "3.8.5"
  }
 },
 "nbformat": 4,
 "nbformat_minor": 4
}
