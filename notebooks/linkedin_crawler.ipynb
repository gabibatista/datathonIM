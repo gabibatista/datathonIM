{
 "cells": [
  {
   "cell_type": "code",
   "execution_count": 1,
   "id": "wooden-payday",
   "metadata": {},
   "outputs": [],
   "source": [
    "import os, random, sys, time, shutil, re, csv, datetime, pickle, math \n",
    "\n",
    "import pandas as pd\n",
    "\n",
    "from random import seed\n",
    "from random import randrange, uniform\n",
    "\n",
    "from selenium import webdriver\n",
    "from selenium.common.exceptions import TimeoutException\n",
    "from selenium.webdriver.support import expected_conditions as EC\n",
    "from selenium.webdriver.support.ui import WebDriverWait\n",
    "from selenium.webdriver.common.by import By\n",
    "from selenium.webdriver.common.keys import Keys\n",
    "from selenium.webdriver.common.action_chains import ActionChains\n",
    "from selenium.webdriver.chrome.webdriver import Options\n",
    "from webdriver_manager.chrome import ChromeDriverManager\n",
    "\n",
    "from bs4 import BeautifulSoup"
   ]
  },
  {
   "cell_type": "code",
   "execution_count": 2,
   "id": "hidden-remark",
   "metadata": {},
   "outputs": [],
   "source": [
    "chrome_options = Options()\n",
    "chrome_options.add_argument('--no-sandbox')\n",
    "chrome_options.add_argument('--disable-dev-shm-usage')\n",
    "chrome_options.add_argument(\"--log-level=3\")  # fatal\n",
    "chrome_options.add_argument(\"--start-maximized\")\n",
    "chrome_options.add_argument(\"--incognito\")"
   ]
  },
  {
   "cell_type": "code",
   "execution_count": null,
   "id": "unnecessary-individual",
   "metadata": {},
   "outputs": [],
   "source": [
    "def get_linkedin_active_account():\n",
    "    username = 'zeipf6@gmail.com'\n",
    "    password = 'dextra#2021'\n",
    "    return username, password"
   ]
  },
  {
   "cell_type": "code",
   "execution_count": 17,
   "id": "stock-battery",
   "metadata": {},
   "outputs": [],
   "source": [
    "def auth_linkedin(browser):\n",
    "    \n",
    "    linkedin_login_url = 'https://www.linkedin.com/uas/login'\n",
    "    \n",
    "    try:\n",
    "        print('Accessing: ', linkedin_login_url)\n",
    "        browser.get(linkedin_login_url)\n",
    "        time.sleep(uniform(1,2))\n",
    "    \n",
    "        username, password = get_linkedin_active_account()\n",
    "    \n",
    "        print('Sign up with: ', username)\n",
    "        username_field = browser.find_element_by_id('username')\n",
    "        username_field.send_keys(username)\n",
    "\n",
    "        password_field = browser.find_element_by_id('password')\n",
    "        password_field.send_keys(password)\n",
    "    \n",
    "        time.sleep(uniform(1,2))\n",
    "        password_field.submit()\n",
    "    \n",
    "    except:\n",
    "        print('ERROR: AUTH LINKEDIN FAILS')"
   ]
  },
  {
   "cell_type": "code",
   "execution_count": 4,
   "id": "covered-liability",
   "metadata": {},
   "outputs": [],
   "source": [
    "def get_jobs_list(browser, retry: bool = True):    \n",
    "    try:\n",
    "        element = WebDriverWait(browser, 3).until(EC.presence_of_element_located((By.CLASS_NAME, 'artdeco-pagination__pages--number')))\n",
    "        soup = BeautifulSoup(browser.page_source, features='html.parser')\n",
    "        time.sleep(random())\n",
    "        li_list = soup.find_all('li',attrs={'data-occludable-entity-urn' :True}, recursive=True)\n",
    "        return li_list\n",
    "    except:\n",
    "        time.sleep(uniform(1,2))\n",
    "        if retry: return get_job_description_on(browser, False)\n",
    "        else: return []"
   ]
  },
  {
   "cell_type": "code",
   "execution_count": 5,
   "id": "superior-observer",
   "metadata": {},
   "outputs": [],
   "source": [
    "def get_job_description_on(browser, retry: bool = True):\n",
    "    soup = BeautifulSoup(browser.page_source, features='html.parser')\n",
    "    try:\n",
    "        job_description = soup.find(attrs={\"class\": \"jobs-description-content__text\"}).getText(separator=' ')\n",
    "        job_description = re.sub(r'\\ +', ' ', job_description.replace('\\n', '')).strip()\n",
    "        return job_description\n",
    "    except:\n",
    "        time.sleep(uniform(1,2))\n",
    "        if retry: return get_job_description_on(browser, False)\n",
    "        else: return 'NF'"
   ]
  },
  {
   "cell_type": "code",
   "execution_count": 6,
   "id": "reflected-reminder",
   "metadata": {},
   "outputs": [],
   "source": [
    "def get_job_applicants(browser, retry: bool = True):\n",
    "    soup = BeautifulSoup(browser.page_source, features='html.parser')\n",
    "    try:\n",
    "        applicants = soup.find(attrs={'class': 'jobs-details-job-summary'}).find(text=re.compile('\\d\\ applicant')).replace('\\n', '').strip()\n",
    "        applicants = re.sub(r'[a-zA-Z\\ ]', '', applicants)\n",
    "        return applicants\n",
    "    except:\n",
    "        time.sleep(uniform(1,2))\n",
    "        if retry: return get_job_applicants(browser, False)\n",
    "        else: return 'NF'"
   ]
  },
  {
   "cell_type": "code",
   "execution_count": 7,
   "id": "european-reporter",
   "metadata": {},
   "outputs": [],
   "source": [
    "def get_job_employees(browser, retry: bool = True):\n",
    "    soup = BeautifulSoup(browser.page_source, features='html.parser')\n",
    "    try:\n",
    "        employees = soup.find(attrs={'class': 'jobs-details-job-summary'}).find(text=re.compile('[\\+\\d]\\ employees')).replace('\\n', '').strip()\n",
    "        employees = re.sub(r'[a-zA-Z\\ ]', '', employees)\n",
    "        return employees\n",
    "    except:\n",
    "        time.sleep(uniform(1,2))\n",
    "        if retry: return get_job_employees(browser, False)\n",
    "        else: return 'NF'"
   ]
  },
  {
   "cell_type": "code",
   "execution_count": 8,
   "id": "legislative-buffer",
   "metadata": {},
   "outputs": [],
   "source": [
    "def get_job_views(browser, retry: bool = True):\n",
    "    soup = BeautifulSoup(browser.page_source, features='html.parser')\n",
    "    try:\n",
    "        views = soup.find(attrs={'class': 'jobs-details-top-card__content-container'}).find(text=re.compile('\\d\\ view')).replace('\\n', '').strip()\n",
    "        views = re.sub(r'[a-zA-Z\\ ]', '', views)\n",
    "        return views\n",
    "    except:\n",
    "        time.sleep(uniform(1,2))\n",
    "        if retry: return get_job_views(browser, False)\n",
    "        else: return 'NF'"
   ]
  },
  {
   "cell_type": "code",
   "execution_count": 9,
   "id": "ahead-optimum",
   "metadata": {},
   "outputs": [],
   "source": [
    "def get_job_date(browser, retry: bool = True):\n",
    "    soup = BeautifulSoup(browser.page_source, features='html.parser')\n",
    "    try:\n",
    "        job_li = soup.find('li',{'data-occludable-entity-urn': 'urn:li:fs_normalized_jobPosting:' + job_number})\n",
    "        job_date = job_li.find(\"time\")[\"datetime\"]\n",
    "    except:\n",
    "        time.sleep(uniform(1,2))\n",
    "        if retry: return get_job_date(browser, False)\n",
    "        else: return 'NF'"
   ]
  },
  {
   "cell_type": "code",
   "execution_count": 10,
   "id": "polish-tyler",
   "metadata": {},
   "outputs": [],
   "source": [
    "def find_company_title_on(browser, retry: bool = True):\n",
    "    soup = BeautifulSoup(browser.page_source, features='html.parser')\n",
    "    try:\n",
    "        company_title = soup.find(attrs={\"class\": \"org-top-card-summary__title\"})\n",
    "        company_title = company_title.find(\"span\").getText()\n",
    "        return company_title\n",
    "    except:\n",
    "        time.sleep(uniform(1,2))\n",
    "        if retry: return find_company_title_on(browser, False)\n",
    "        else: return 'NF'"
   ]
  },
  {
   "cell_type": "code",
   "execution_count": 11,
   "id": "aquatic-closure",
   "metadata": {},
   "outputs": [],
   "source": [
    "def find_company_employees_on(browser, retry: bool = True):\n",
    "    soup = BeautifulSoup(browser.page_source, features='html.parser')\n",
    "    try:\n",
    "        employees = soup.find(attrs={\"class\": \"org-about-company-module__company-size-definition-text\"})\n",
    "        employees = employees.getText().replace('\\n', '').strip()\n",
    "        return employees\n",
    "    except:\n",
    "        time.sleep(uniform(1,2))\n",
    "        if retry: return find_company_employees_on(browser, False)\n",
    "        else: return 'NF'"
   ]
  },
  {
   "cell_type": "code",
   "execution_count": 12,
   "id": "checked-agenda",
   "metadata": {},
   "outputs": [],
   "source": [
    "def find_company_details_dict_on(browser, retry: bool = True):\n",
    "    soup = BeautifulSoup(browser.page_source, features='html.parser')\n",
    "    try:\n",
    "        company_details_dict = {}\n",
    "        company_details = soup.find('dl', attrs={'class': 'overflow-hidden'}).find_all()\n",
    "        for num, info in enumerate(company_details):\n",
    "            if(info.name == 'dt'):\n",
    "                company_details_dict[info.text.replace('\\n', '').strip()] = company_details[num+1].text.replace('\\n', '').strip()\n",
    "        return company_details_dict\n",
    "    except:\n",
    "        time.sleep(uniform(1,2))\n",
    "        if retry: return find_company_details_dict_on(browser, False)\n",
    "        else: return {}"
   ]
  },
  {
   "cell_type": "code",
   "execution_count": 13,
   "id": "sonic-parker",
   "metadata": {},
   "outputs": [],
   "source": [
    "def find_total_jobs_on(browser, retry: bool = True):\n",
    "    soup = BeautifulSoup(browser.page_source, features='html.parser')\n",
    "    try:\n",
    "        total_jobs = re.search(r\"(.+\\ )\", soup.find(\"div\", attrs={\"class\": \"jobs-search-results-list__title-heading\"}).find(\"small\").text)\n",
    "        total_jobs = total_jobs.group(1).strip()\n",
    "        return total_jobs\n",
    "    except:\n",
    "        time.sleep(uniform(1,2))\n",
    "        if retry: return find_total_jobs_on(browser, False)\n",
    "        else: return 'NF'"
   ]
  },
  {
   "cell_type": "code",
   "execution_count": 14,
   "id": "three-pitch",
   "metadata": {},
   "outputs": [],
   "source": [
    "def find_usa_iteng_jobs_on(browser, retry: bool = True):\n",
    "    soup = BeautifulSoup(browser.page_source, features='html.parser')\n",
    "    try:\n",
    "        iteng_jobs = re.search(r\"(.+\\ )\", soup.find(\"div\", attrs={\"class\": \"jobs-search-results-list__title-heading\"}).find(\"small\").text)\n",
    "        iteng_jobs = iteng_jobs.group(1).strip()\n",
    "        return iteng_jobs\n",
    "    except:\n",
    "        time.sleep(uniform(1,2))\n",
    "        if retry: return find_usa_iteng_jobs_on(browser, False)\n",
    "        else: return 'NF'"
   ]
  },
  {
   "cell_type": "code",
   "execution_count": 18,
   "id": "literary-france",
   "metadata": {},
   "outputs": [
    {
     "name": "stderr",
     "output_type": "stream",
     "text": [
      "[WDM] - ====== WebDriver manager ======\n",
      "[WDM] - Current google-chrome version is 88.0.4324\n",
      "[WDM] - Get LATEST driver version for 88.0.4324\n"
     ]
    },
    {
     "name": "stdout",
     "output_type": "stream",
     "text": [
      "\n",
      "\n"
     ]
    },
    {
     "name": "stderr",
     "output_type": "stream",
     "text": [
      "[WDM] - Driver [/home/carlos.cayres/.wdm/drivers/chromedriver/linux64/88.0.4324.96/chromedriver] found in cache\n"
     ]
    },
    {
     "name": "stdout",
     "output_type": "stream",
     "text": [
      "Accessing:  https://www.linkedin.com/uas/login\n",
      "Sign up with:  zeipf6@gmail.com\n"
     ]
    }
   ],
   "source": [
    "browser = webdriver.Chrome(ChromeDriverManager().install(), options=chrome_options)\n",
    "auth_linkedin(browser)"
   ]
  },
  {
   "cell_type": "code",
   "execution_count": 16,
   "id": "descending-minnesota",
   "metadata": {},
   "outputs": [
    {
     "name": "stdout",
     "output_type": "stream",
     "text": [
      "Apple\n",
      "+ de 10.001 funcionários\n",
      "{'Site': 'http://www.apple.com/jobs/', 'Setor': 'Produtos eletrônicos', 'Tamanho da empresa': '+ de 10.001 funcionários', 'Sede': 'Cupertino, California', 'Tipo': 'Empresa de capital aberto', 'Fundada em': '1976', 'Especializações': 'Innovative Product Development, World-Class Operations, Retail e Telephone Support'}\n",
      "NF\n",
      "NF\n"
     ]
    }
   ],
   "source": [
    "print(find_company_title_on(browser))\n",
    "print(find_company_employees_on(browser))\n",
    "print(find_company_details_dict_on(browser))\n",
    "print(find_total_jobs_on(browser))\n",
    "print(find_usa_iteng_jobs_on(browser))"
   ]
  },
  {
   "cell_type": "code",
   "execution_count": 32,
   "id": "velvet-crest",
   "metadata": {},
   "outputs": [
    {
     "name": "stdout",
     "output_type": "stream",
     "text": [
      "NF\n",
      "NF\n",
      "NF\n",
      "NF\n",
      "NF\n",
      "NF\n"
     ]
    }
   ],
   "source": [
    "print(get_jobs_list(browser))\n",
    "print(get_job_description_on(browser))\n",
    "print(get_job_applicants(browser))\n",
    "print(get_job_employees(browser))\n",
    "print(get_job_views(browser))\n",
    "print(get_job_date(browser))"
   ]
  },
  {
   "cell_type": "code",
   "execution_count": null,
   "id": "billion-ticket",
   "metadata": {},
   "outputs": [],
   "source": []
  },
  {
   "cell_type": "code",
   "execution_count": null,
   "id": "indie-leader",
   "metadata": {},
   "outputs": [],
   "source": []
  },
  {
   "cell_type": "code",
   "execution_count": null,
   "id": "animal-dubai",
   "metadata": {},
   "outputs": [],
   "source": []
  },
  {
   "cell_type": "code",
   "execution_count": null,
   "id": "understood-shower",
   "metadata": {},
   "outputs": [],
   "source": []
  }
 ],
 "metadata": {
  "kernelspec": {
   "display_name": "env-im",
   "language": "python",
   "name": "env-im"
  },
  "language_info": {
   "codemirror_mode": {
    "name": "ipython",
    "version": 3
   },
   "file_extension": ".py",
   "mimetype": "text/x-python",
   "name": "python",
   "nbconvert_exporter": "python",
   "pygments_lexer": "ipython3",
   "version": "3.8.5"
  }
 },
 "nbformat": 4,
 "nbformat_minor": 5
}
