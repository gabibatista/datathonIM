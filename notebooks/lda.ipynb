{
 "cells": [
  {
   "cell_type": "code",
   "execution_count": null,
   "metadata": {},
   "outputs": [],
   "source": [
    "#!pip install texthero nltk -q"
   ]
  },
  {
   "cell_type": "code",
   "execution_count": 13,
   "metadata": {},
   "outputs": [
    {
     "name": "stderr",
     "output_type": "stream",
     "text": [
      "/work/tools/anaconda3/envs/dna-brand-platform/lib/python3.8/site-packages/ipykernel/ipkernel.py:287: DeprecationWarning:\n",
      "\n",
      "`should_run_async` will not call `transform_cell` automatically in the future. Please pass the result to `transformed_cell` argument and any exception that happen during thetransform in `preprocessing_exc_tuple` in IPython 7.17 and above.\n",
      "\n"
     ]
    }
   ],
   "source": [
    "#!pip install jupyterlab \"ipywidgets==7.0\" -q"
   ]
  },
  {
   "cell_type": "code",
   "execution_count": null,
   "metadata": {},
   "outputs": [],
   "source": [
    "#!conda install -y -c conda-forge nodejs"
   ]
  },
  {
   "cell_type": "code",
   "execution_count": null,
   "metadata": {},
   "outputs": [],
   "source": [
    "# JupyterLab renderer support\n",
    "#!jupyter labextension install jupyterlab-plotly@4.12.0"
   ]
  },
  {
   "cell_type": "code",
   "execution_count": null,
   "metadata": {},
   "outputs": [],
   "source": [
    "# OPTIONAL: Jupyter widgets extension\n",
    "#!jupyter labextension install @jupyter-widgets/jupyterlab-manager plotlywidget@4.12.0"
   ]
  },
  {
   "cell_type": "code",
   "execution_count": null,
   "metadata": {},
   "outputs": [],
   "source": [
    "#!conda install -y -c conda-forge pyldavis"
   ]
  },
  {
   "cell_type": "markdown",
   "metadata": {},
   "source": [
    "### MODELAGEM DE TÓPICOS DE POSTAGENS DO LINKEDIN"
   ]
  },
  {
   "cell_type": "markdown",
   "metadata": {},
   "source": [
    "##### IMPORT LIBS"
   ]
  },
  {
   "cell_type": "code",
   "execution_count": 44,
   "metadata": {},
   "outputs": [
    {
     "name": "stderr",
     "output_type": "stream",
     "text": [
      "[nltk_data] Downloading package stopwords to\n",
      "[nltk_data]     /home/altieris/nltk_data...\n",
      "[nltk_data]   Package stopwords is already up-to-date!\n"
     ]
    }
   ],
   "source": [
    "import nltk\n",
    "from nltk.stem.porter import *\n",
    "nltk.download('stopwords')\n",
    "\n",
    "import pandas as pd\n",
    "import texthero as hero\n",
    "import plotly.express as px\n",
    "from texthero import preprocessing\n",
    "pd.set_option('display.max_colwidth', None)\n",
    "\n",
    "import gensim\n",
    "from gensim import corpora, models\n",
    "from gensim.utils import simple_preprocess\n",
    "from gensim.models import CoherenceModel\n",
    "\n",
    "import pyLDAvis\n",
    "import pyLDAvis.gensim\n",
    "\n",
    "import numpy as np\n",
    "np.random.seed(2018)\n",
    "\n",
    "import matplotlib.pyplot as plt\n",
    "%matplotlib inline\n",
    "\n",
    "import warnings\n",
    "warnings.simplefilter('once')"
   ]
  },
  {
   "cell_type": "code",
   "execution_count": 45,
   "metadata": {},
   "outputs": [
    {
     "name": "stderr",
     "output_type": "stream",
     "text": [
      "/work/tools/anaconda3/envs/dna-brand-platform/lib/python3.8/site-packages/ipykernel/ipkernel.py:287: DeprecationWarning:\n",
      "\n",
      "`should_run_async` will not call `transform_cell` automatically in the future. Please pass the result to `transformed_cell` argument and any exception that happen during thetransform in `preprocessing_exc_tuple` in IPython 7.17 and above.\n",
      "\n"
     ]
    }
   ],
   "source": [
    "nltk_stopwords = nltk.corpus.stopwords.words('portuguese')\n",
    "\n",
    "words_to_remove = ['everis','everisbrasil','everistalks','dutra','fabiola','zannier','weslley','cinq','cinqagoraedextra','lnkd','in','ja','bit','ly','hamsi',\n",
    "                  'beeveris','invillia','midi','accntu','gozup','vemprazupremoto','chazzsaopaulo','smartworking','paulo','everisdx','ricardo','nttdata','gpnc'\n",
    "                   ,'bill','coutinho','everisnamidia','zupopentalks','zupinsights','devcamp','dextra']"
   ]
  },
  {
   "cell_type": "markdown",
   "metadata": {},
   "source": [
    "---"
   ]
  },
  {
   "cell_type": "markdown",
   "metadata": {},
   "source": [
    "#### PRÉ PROCESSAMENTO"
   ]
  },
  {
   "cell_type": "code",
   "execution_count": 3,
   "metadata": {},
   "outputs": [],
   "source": [
    "pdf = pd.read_csv(\"../datalake/raw/companies_data.csv\")"
   ]
  },
  {
   "cell_type": "code",
   "execution_count": 4,
   "metadata": {},
   "outputs": [
    {
     "data": {
      "text/plain": [
       "(1185, 10)"
      ]
     },
     "execution_count": 4,
     "metadata": {},
     "output_type": "execute_result"
    }
   ],
   "source": [
    "pdf.shape"
   ]
  },
  {
   "cell_type": "code",
   "execution_count": 5,
   "metadata": {},
   "outputs": [
    {
     "data": {
      "text/html": [
       "<div>\n",
       "<style scoped>\n",
       "    .dataframe tbody tr th:only-of-type {\n",
       "        vertical-align: middle;\n",
       "    }\n",
       "\n",
       "    .dataframe tbody tr th {\n",
       "        vertical-align: top;\n",
       "    }\n",
       "\n",
       "    .dataframe thead th {\n",
       "        text-align: right;\n",
       "    }\n",
       "</style>\n",
       "<table border=\"1\" class=\"dataframe\">\n",
       "  <thead>\n",
       "    <tr style=\"text-align: right;\">\n",
       "      <th></th>\n",
       "      <th>id</th>\n",
       "      <th>company</th>\n",
       "      <th>post_title</th>\n",
       "      <th>post_date</th>\n",
       "      <th>post_text</th>\n",
       "      <th>post_likes</th>\n",
       "      <th>post_comments</th>\n",
       "      <th>post_video_views</th>\n",
       "      <th>post_hashtags</th>\n",
       "      <th>origin</th>\n",
       "    </tr>\n",
       "  </thead>\n",
       "  <tbody>\n",
       "    <tr>\n",
       "      <th>0</th>\n",
       "      <td>0</td>\n",
       "      <td>everis</td>\n",
       "      <td>NaN</td>\n",
       "      <td>2020-10-01</td>\n",
       "      <td>'Em parceria com o #MITSloanReviewBrasil, realizamos hoje um Round Table com especialistas em #InteligênciaArtificial da América Latina, para debater sobre os principais impactos desta tecnologia no Brasil. Agradecemos a todos que participaram do evento online e também a presença de todos os speakers, Evandro Armelin, head de data &amp; analytics da everis Brasil; Lluis Quiles Ardila, diretor de data science da everis Brasil; Sara Álvarez, diretora de inovação da MIT Technology Review; Renato Vieira, gerente de arquitetura e inovação na BR Distribuidora; Washington Vital, head de data analytics na SulAmérica e Fabricio Bindi, diretor de customer insights e inteligência artificial da Vivo. Você pode conferir o estudo completo, acessando https://lnkd.in/dq45j2R #everis #everisBrasil #EstudioIA'</td>\n",
       "      <td>17</td>\n",
       "      <td>1</td>\n",
       "      <td>0</td>\n",
       "      <td>#MITSloanReviewBrasil,, #InteligênciaArtificial, #everis, #everisBrasil, #EstudioIA'</td>\n",
       "      <td>linkedin</td>\n",
       "    </tr>\n",
       "    <tr>\n",
       "      <th>1</th>\n",
       "      <td>1</td>\n",
       "      <td>everis</td>\n",
       "      <td>NaN</td>\n",
       "      <td>2020-10-01</td>\n",
       "      <td>'Neste #webinar, especialistas da #everisBrasil falarão sobre as estratégias de Qualidade e como elas poderão melhorar a implementação do SRE. Inscreva-se: https://lnkd.in/g6hrP5P #everis #ITServices'</td>\n",
       "      <td>14</td>\n",
       "      <td>0</td>\n",
       "      <td>0</td>\n",
       "      <td>#webinar,, #everisBrasil, #everis, #ITServices'</td>\n",
       "      <td>linkedin</td>\n",
       "    </tr>\n",
       "    <tr>\n",
       "      <th>2</th>\n",
       "      <td>2</td>\n",
       "      <td>everis</td>\n",
       "      <td>NaN</td>\n",
       "      <td>2020-10-01</td>\n",
       "      <td>'Apresentamos o painel “2020: Visão dos diferentes elos da cadeia de saúde sobre qual foi a tecnologia mais alavancada pelas mudanças recentes do cenário do setor” na da 6ª edição do Healthcare Innovation Show (HIS), com Alejandro Morán Marco, Head Global de Health da everis. Agradecemos a todos que participaram. Veja como foi! #NTTDATA #everisBrasil #HIS'</td>\n",
       "      <td>20</td>\n",
       "      <td>1</td>\n",
       "      <td>0</td>\n",
       "      <td>#NTTDATA, #everisBrasil, #HIS'</td>\n",
       "      <td>linkedin</td>\n",
       "    </tr>\n",
       "    <tr>\n",
       "      <th>3</th>\n",
       "      <td>3</td>\n",
       "      <td>everis</td>\n",
       "      <td>NaN</td>\n",
       "      <td>2020-09-30</td>\n",
       "      <td>'Neste #webinar, especialistas da #everisBrasil falarão sobre as estratégias de Qualidade e como elas poderão melhorar a implementação do SRE. Inscreva-se: https://lnkd.in/g6hrP5P #everis #ITServices'</td>\n",
       "      <td>35</td>\n",
       "      <td>0</td>\n",
       "      <td>0</td>\n",
       "      <td>#webinar,, #everisBrasil, #everis, #ITServices'</td>\n",
       "      <td>linkedin</td>\n",
       "    </tr>\n",
       "    <tr>\n",
       "      <th>4</th>\n",
       "      <td>4</td>\n",
       "      <td>everis</td>\n",
       "      <td>NaN</td>\n",
       "      <td>2020-09-30</td>\n",
       "      <td>'No episódio de hoje, da série #WakeUp, Adam aprendeu que priorização e automação inteligente, economizam tempo e também aumentam a produtividade. Acesse o vídeo e veja como estamos planejando o futuro!https://lnkd.in/gNP-iuC #everis #everisBrasil #NTTDATA #everisWakeUp'</td>\n",
       "      <td>3</td>\n",
       "      <td>0</td>\n",
       "      <td>0</td>\n",
       "      <td>#WakeUp,, #everis, #everisBrasil, #NTTDATA, #everisWakeUp'</td>\n",
       "      <td>linkedin</td>\n",
       "    </tr>\n",
       "  </tbody>\n",
       "</table>\n",
       "</div>"
      ],
      "text/plain": [
       "   id company  post_title   post_date  \\\n",
       "0  0   everis NaN          2020-10-01   \n",
       "1  1   everis NaN          2020-10-01   \n",
       "2  2   everis NaN          2020-10-01   \n",
       "3  3   everis NaN          2020-09-30   \n",
       "4  4   everis NaN          2020-09-30   \n",
       "\n",
       "                                                                                                                                                                                                                                                                                                                                                                                                                                                                                                                                                                                                                                                                                                                                                                                                                         post_text  \\\n",
       "0  'Em parceria com o #MITSloanReviewBrasil, realizamos hoje um Round Table com especialistas em #InteligênciaArtificial da América Latina, para debater sobre os principais impactos desta tecnologia no Brasil. Agradecemos a todos que participaram do evento online e também a presença de todos os speakers, Evandro Armelin, head de data & analytics da everis Brasil; Lluis Quiles Ardila, diretor de data science da everis Brasil; Sara Álvarez, diretora de inovação da MIT Technology Review; Renato Vieira, gerente de arquitetura e inovação na BR Distribuidora; Washington Vital, head de data analytics na SulAmérica e Fabricio Bindi, diretor de customer insights e inteligência artificial da Vivo. Você pode conferir o estudo completo, acessando https://lnkd.in/dq45j2R #everis #everisBrasil #EstudioIA'   \n",
       "1  'Neste #webinar, especialistas da #everisBrasil falarão sobre as estratégias de Qualidade e como elas poderão melhorar a implementação do SRE. Inscreva-se: https://lnkd.in/g6hrP5P #everis #ITServices'                                                                                                                                                                                                                                                                                                                                                                                                                                                                                                                                                                                                                          \n",
       "2  'Apresentamos o painel “2020: Visão dos diferentes elos da cadeia de saúde sobre qual foi a tecnologia mais alavancada pelas mudanças recentes do cenário do setor” na da 6ª edição do Healthcare Innovation Show (HIS), com Alejandro Morán Marco, Head Global de Health da everis. Agradecemos a todos que participaram. Veja como foi! #NTTDATA #everisBrasil #HIS'                                                                                                                                                                                                                                                                                                                                                                                                                                                            \n",
       "3  'Neste #webinar, especialistas da #everisBrasil falarão sobre as estratégias de Qualidade e como elas poderão melhorar a implementação do SRE. Inscreva-se: https://lnkd.in/g6hrP5P #everis #ITServices'                                                                                                                                                                                                                                                                                                                                                                                                                                                                                                                                                                                                                          \n",
       "4  'No episódio de hoje, da série #WakeUp, Adam aprendeu que priorização e automação inteligente, economizam tempo e também aumentam a produtividade. Acesse o vídeo e veja como estamos planejando o futuro!https://lnkd.in/gNP-iuC #everis #everisBrasil #NTTDATA #everisWakeUp'                                                                                                                                                                                                                                                                                                                                                                                                                                                                                                                                                   \n",
       "\n",
       "   post_likes  post_comments  post_video_views  \\\n",
       "0  17          1              0                  \n",
       "1  14          0              0                  \n",
       "2  20          1              0                  \n",
       "3  35          0              0                  \n",
       "4  3           0              0                  \n",
       "\n",
       "                                                                          post_hashtags  \\\n",
       "0  #MITSloanReviewBrasil,, #InteligênciaArtificial, #everis, #everisBrasil, #EstudioIA'   \n",
       "1  #webinar,, #everisBrasil, #everis, #ITServices'                                        \n",
       "2  #NTTDATA, #everisBrasil, #HIS'                                                         \n",
       "3  #webinar,, #everisBrasil, #everis, #ITServices'                                        \n",
       "4  #WakeUp,, #everis, #everisBrasil, #NTTDATA, #everisWakeUp'                             \n",
       "\n",
       "     origin  \n",
       "0  linkedin  \n",
       "1  linkedin  \n",
       "2  linkedin  \n",
       "3  linkedin  \n",
       "4  linkedin  "
      ]
     },
     "execution_count": 5,
     "metadata": {},
     "output_type": "execute_result"
    }
   ],
   "source": [
    "pdf.head()"
   ]
  },
  {
   "cell_type": "code",
   "execution_count": 6,
   "metadata": {},
   "outputs": [
    {
     "name": "stderr",
     "output_type": "stream",
     "text": [
      "/work/tools/anaconda3/envs/dna-brand-platform/lib/python3.8/site-packages/ipykernel/ipkernel.py:287: DeprecationWarning: `should_run_async` will not call `transform_cell` automatically in the future. Please pass the result to `transformed_cell` argument and any exception that happen during thetransform in `preprocessing_exc_tuple` in IPython 7.17 and above.\n",
      "  and should_run_async(code)\n"
     ]
    }
   ],
   "source": [
    "posts = pdf[['id','post_text']]"
   ]
  },
  {
   "cell_type": "code",
   "execution_count": 7,
   "metadata": {},
   "outputs": [
    {
     "data": {
      "text/html": [
       "<div>\n",
       "<style scoped>\n",
       "    .dataframe tbody tr th:only-of-type {\n",
       "        vertical-align: middle;\n",
       "    }\n",
       "\n",
       "    .dataframe tbody tr th {\n",
       "        vertical-align: top;\n",
       "    }\n",
       "\n",
       "    .dataframe thead th {\n",
       "        text-align: right;\n",
       "    }\n",
       "</style>\n",
       "<table border=\"1\" class=\"dataframe\">\n",
       "  <thead>\n",
       "    <tr style=\"text-align: right;\">\n",
       "      <th></th>\n",
       "      <th>id</th>\n",
       "      <th>post_text</th>\n",
       "    </tr>\n",
       "  </thead>\n",
       "  <tbody>\n",
       "    <tr>\n",
       "      <th>0</th>\n",
       "      <td>0</td>\n",
       "      <td>'Em parceria com o #MITSloanReviewBrasil, realizamos hoje um Round Table com especialistas em #InteligênciaArtificial da América Latina, para debater sobre os principais impactos desta tecnologia no Brasil. Agradecemos a todos que participaram do evento online e também a presença de todos os speakers, Evandro Armelin, head de data &amp; analytics da everis Brasil; Lluis Quiles Ardila, diretor de data science da everis Brasil; Sara Álvarez, diretora de inovação da MIT Technology Review; Renato Vieira, gerente de arquitetura e inovação na BR Distribuidora; Washington Vital, head de data analytics na SulAmérica e Fabricio Bindi, diretor de customer insights e inteligência artificial da Vivo. Você pode conferir o estudo completo, acessando https://lnkd.in/dq45j2R #everis #everisBrasil #EstudioIA'</td>\n",
       "    </tr>\n",
       "    <tr>\n",
       "      <th>1</th>\n",
       "      <td>1</td>\n",
       "      <td>'Neste #webinar, especialistas da #everisBrasil falarão sobre as estratégias de Qualidade e como elas poderão melhorar a implementação do SRE. Inscreva-se: https://lnkd.in/g6hrP5P #everis #ITServices'</td>\n",
       "    </tr>\n",
       "    <tr>\n",
       "      <th>2</th>\n",
       "      <td>2</td>\n",
       "      <td>'Apresentamos o painel “2020: Visão dos diferentes elos da cadeia de saúde sobre qual foi a tecnologia mais alavancada pelas mudanças recentes do cenário do setor” na da 6ª edição do Healthcare Innovation Show (HIS), com Alejandro Morán Marco, Head Global de Health da everis. Agradecemos a todos que participaram. Veja como foi! #NTTDATA #everisBrasil #HIS'</td>\n",
       "    </tr>\n",
       "    <tr>\n",
       "      <th>3</th>\n",
       "      <td>3</td>\n",
       "      <td>'Neste #webinar, especialistas da #everisBrasil falarão sobre as estratégias de Qualidade e como elas poderão melhorar a implementação do SRE. Inscreva-se: https://lnkd.in/g6hrP5P #everis #ITServices'</td>\n",
       "    </tr>\n",
       "    <tr>\n",
       "      <th>4</th>\n",
       "      <td>4</td>\n",
       "      <td>'No episódio de hoje, da série #WakeUp, Adam aprendeu que priorização e automação inteligente, economizam tempo e também aumentam a produtividade. Acesse o vídeo e veja como estamos planejando o futuro!https://lnkd.in/gNP-iuC #everis #everisBrasil #NTTDATA #everisWakeUp'</td>\n",
       "    </tr>\n",
       "  </tbody>\n",
       "</table>\n",
       "</div>"
      ],
      "text/plain": [
       "   id  \\\n",
       "0  0    \n",
       "1  1    \n",
       "2  2    \n",
       "3  3    \n",
       "4  4    \n",
       "\n",
       "                                                                                                                                                                                                                                                                                                                                                                                                                                                                                                                                                                                                                                                                                                                                                                                                                         post_text  \n",
       "0  'Em parceria com o #MITSloanReviewBrasil, realizamos hoje um Round Table com especialistas em #InteligênciaArtificial da América Latina, para debater sobre os principais impactos desta tecnologia no Brasil. Agradecemos a todos que participaram do evento online e também a presença de todos os speakers, Evandro Armelin, head de data & analytics da everis Brasil; Lluis Quiles Ardila, diretor de data science da everis Brasil; Sara Álvarez, diretora de inovação da MIT Technology Review; Renato Vieira, gerente de arquitetura e inovação na BR Distribuidora; Washington Vital, head de data analytics na SulAmérica e Fabricio Bindi, diretor de customer insights e inteligência artificial da Vivo. Você pode conferir o estudo completo, acessando https://lnkd.in/dq45j2R #everis #everisBrasil #EstudioIA'  \n",
       "1  'Neste #webinar, especialistas da #everisBrasil falarão sobre as estratégias de Qualidade e como elas poderão melhorar a implementação do SRE. Inscreva-se: https://lnkd.in/g6hrP5P #everis #ITServices'                                                                                                                                                                                                                                                                                                                                                                                                                                                                                                                                                                                                                         \n",
       "2  'Apresentamos o painel “2020: Visão dos diferentes elos da cadeia de saúde sobre qual foi a tecnologia mais alavancada pelas mudanças recentes do cenário do setor” na da 6ª edição do Healthcare Innovation Show (HIS), com Alejandro Morán Marco, Head Global de Health da everis. Agradecemos a todos que participaram. Veja como foi! #NTTDATA #everisBrasil #HIS'                                                                                                                                                                                                                                                                                                                                                                                                                                                           \n",
       "3  'Neste #webinar, especialistas da #everisBrasil falarão sobre as estratégias de Qualidade e como elas poderão melhorar a implementação do SRE. Inscreva-se: https://lnkd.in/g6hrP5P #everis #ITServices'                                                                                                                                                                                                                                                                                                                                                                                                                                                                                                                                                                                                                         \n",
       "4  'No episódio de hoje, da série #WakeUp, Adam aprendeu que priorização e automação inteligente, economizam tempo e também aumentam a produtividade. Acesse o vídeo e veja como estamos planejando o futuro!https://lnkd.in/gNP-iuC #everis #everisBrasil #NTTDATA #everisWakeUp'                                                                                                                                                                                                                                                                                                                                                                                                                                                                                                                                                  "
      ]
     },
     "execution_count": 7,
     "metadata": {},
     "output_type": "execute_result"
    }
   ],
   "source": [
    "posts.head()"
   ]
  },
  {
   "cell_type": "code",
   "execution_count": 48,
   "metadata": {},
   "outputs": [],
   "source": [
    "#create a custom cleaning pipeline\n",
    "custom_pipeline = [preprocessing.fillna\n",
    "                   , preprocessing.lowercase\n",
    "                   , preprocessing.remove_punctuation\n",
    "                   , preprocessing.remove_brackets\n",
    "                   , preprocessing.remove_urls\n",
    "                   , preprocessing.remove_square_brackets\n",
    "                   , preprocessing.remove_curly_brackets\n",
    "                   , preprocessing.remove_angle_brackets\n",
    "                   , preprocessing.remove_html_tags\n",
    "                   , preprocessing.remove_diacritics\n",
    "                   , preprocessing.remove_whitespace\n",
    "                    ]\n",
    "\n",
    "#pass the custom_pipeline to the pipeline argument\n",
    "posts.loc[:,'post_text_cleansed'] = hero.clean(posts['post_text'], pipeline = custom_pipeline)\n",
    "\n",
    "posts.loc[:,'post_text_cleansed'] = hero.remove_digits(posts['post_text_cleansed'], only_blocks=False)\n",
    "\n",
    "#Call remove_stopwords and pass the custom_stopwords list\n",
    "posts.loc[:,'post_text_cleansed']  = hero.remove_stopwords(posts['post_text_cleansed'], nltk_stopwords + words_to_remove)"
   ]
  },
  {
   "cell_type": "code",
   "execution_count": 49,
   "metadata": {},
   "outputs": [
    {
     "data": {
      "application/vnd.plotly.v1+json": {
       "config": {
        "plotlyServerURL": "https://plot.ly"
       },
       "data": [
        {
         "alignmentgroup": "True",
         "hovertemplate": "variable=post_text_cleansed<br>index=%{x}<br>value=%{y}<extra></extra>",
         "legendgroup": "post_text_cleansed",
         "marker": {
          "color": "#636efa"
         },
         "name": "post_text_cleansed",
         "offsetgroup": "post_text_cleansed",
         "orientation": "v",
         "showlegend": true,
         "textposition": "auto",
         "type": "bar",
         "x": [
          "sobre",
          "voce",
          "digital",
          "nao",
          "brasil",
          "dia",
          "inscreva",
          "inovacao",
          "pessoas",
          "tecnologia"
         ],
         "xaxis": "x",
         "y": [
          369,
          317,
          291,
          229,
          222,
          208,
          183,
          146,
          145,
          144
         ],
         "yaxis": "y"
        }
       ],
       "layout": {
        "barmode": "relative",
        "legend": {
         "title": {
          "text": "variable"
         },
         "tracegroupgap": 0
        },
        "margin": {
         "t": 60
        },
        "template": {
         "data": {
          "bar": [
           {
            "error_x": {
             "color": "#2a3f5f"
            },
            "error_y": {
             "color": "#2a3f5f"
            },
            "marker": {
             "line": {
              "color": "#E5ECF6",
              "width": 0.5
             }
            },
            "type": "bar"
           }
          ],
          "barpolar": [
           {
            "marker": {
             "line": {
              "color": "#E5ECF6",
              "width": 0.5
             }
            },
            "type": "barpolar"
           }
          ],
          "carpet": [
           {
            "aaxis": {
             "endlinecolor": "#2a3f5f",
             "gridcolor": "white",
             "linecolor": "white",
             "minorgridcolor": "white",
             "startlinecolor": "#2a3f5f"
            },
            "baxis": {
             "endlinecolor": "#2a3f5f",
             "gridcolor": "white",
             "linecolor": "white",
             "minorgridcolor": "white",
             "startlinecolor": "#2a3f5f"
            },
            "type": "carpet"
           }
          ],
          "choropleth": [
           {
            "colorbar": {
             "outlinewidth": 0,
             "ticks": ""
            },
            "type": "choropleth"
           }
          ],
          "contour": [
           {
            "colorbar": {
             "outlinewidth": 0,
             "ticks": ""
            },
            "colorscale": [
             [
              0,
              "#0d0887"
             ],
             [
              0.1111111111111111,
              "#46039f"
             ],
             [
              0.2222222222222222,
              "#7201a8"
             ],
             [
              0.3333333333333333,
              "#9c179e"
             ],
             [
              0.4444444444444444,
              "#bd3786"
             ],
             [
              0.5555555555555556,
              "#d8576b"
             ],
             [
              0.6666666666666666,
              "#ed7953"
             ],
             [
              0.7777777777777778,
              "#fb9f3a"
             ],
             [
              0.8888888888888888,
              "#fdca26"
             ],
             [
              1,
              "#f0f921"
             ]
            ],
            "type": "contour"
           }
          ],
          "contourcarpet": [
           {
            "colorbar": {
             "outlinewidth": 0,
             "ticks": ""
            },
            "type": "contourcarpet"
           }
          ],
          "heatmap": [
           {
            "colorbar": {
             "outlinewidth": 0,
             "ticks": ""
            },
            "colorscale": [
             [
              0,
              "#0d0887"
             ],
             [
              0.1111111111111111,
              "#46039f"
             ],
             [
              0.2222222222222222,
              "#7201a8"
             ],
             [
              0.3333333333333333,
              "#9c179e"
             ],
             [
              0.4444444444444444,
              "#bd3786"
             ],
             [
              0.5555555555555556,
              "#d8576b"
             ],
             [
              0.6666666666666666,
              "#ed7953"
             ],
             [
              0.7777777777777778,
              "#fb9f3a"
             ],
             [
              0.8888888888888888,
              "#fdca26"
             ],
             [
              1,
              "#f0f921"
             ]
            ],
            "type": "heatmap"
           }
          ],
          "heatmapgl": [
           {
            "colorbar": {
             "outlinewidth": 0,
             "ticks": ""
            },
            "colorscale": [
             [
              0,
              "#0d0887"
             ],
             [
              0.1111111111111111,
              "#46039f"
             ],
             [
              0.2222222222222222,
              "#7201a8"
             ],
             [
              0.3333333333333333,
              "#9c179e"
             ],
             [
              0.4444444444444444,
              "#bd3786"
             ],
             [
              0.5555555555555556,
              "#d8576b"
             ],
             [
              0.6666666666666666,
              "#ed7953"
             ],
             [
              0.7777777777777778,
              "#fb9f3a"
             ],
             [
              0.8888888888888888,
              "#fdca26"
             ],
             [
              1,
              "#f0f921"
             ]
            ],
            "type": "heatmapgl"
           }
          ],
          "histogram": [
           {
            "marker": {
             "colorbar": {
              "outlinewidth": 0,
              "ticks": ""
             }
            },
            "type": "histogram"
           }
          ],
          "histogram2d": [
           {
            "colorbar": {
             "outlinewidth": 0,
             "ticks": ""
            },
            "colorscale": [
             [
              0,
              "#0d0887"
             ],
             [
              0.1111111111111111,
              "#46039f"
             ],
             [
              0.2222222222222222,
              "#7201a8"
             ],
             [
              0.3333333333333333,
              "#9c179e"
             ],
             [
              0.4444444444444444,
              "#bd3786"
             ],
             [
              0.5555555555555556,
              "#d8576b"
             ],
             [
              0.6666666666666666,
              "#ed7953"
             ],
             [
              0.7777777777777778,
              "#fb9f3a"
             ],
             [
              0.8888888888888888,
              "#fdca26"
             ],
             [
              1,
              "#f0f921"
             ]
            ],
            "type": "histogram2d"
           }
          ],
          "histogram2dcontour": [
           {
            "colorbar": {
             "outlinewidth": 0,
             "ticks": ""
            },
            "colorscale": [
             [
              0,
              "#0d0887"
             ],
             [
              0.1111111111111111,
              "#46039f"
             ],
             [
              0.2222222222222222,
              "#7201a8"
             ],
             [
              0.3333333333333333,
              "#9c179e"
             ],
             [
              0.4444444444444444,
              "#bd3786"
             ],
             [
              0.5555555555555556,
              "#d8576b"
             ],
             [
              0.6666666666666666,
              "#ed7953"
             ],
             [
              0.7777777777777778,
              "#fb9f3a"
             ],
             [
              0.8888888888888888,
              "#fdca26"
             ],
             [
              1,
              "#f0f921"
             ]
            ],
            "type": "histogram2dcontour"
           }
          ],
          "mesh3d": [
           {
            "colorbar": {
             "outlinewidth": 0,
             "ticks": ""
            },
            "type": "mesh3d"
           }
          ],
          "parcoords": [
           {
            "line": {
             "colorbar": {
              "outlinewidth": 0,
              "ticks": ""
             }
            },
            "type": "parcoords"
           }
          ],
          "pie": [
           {
            "automargin": true,
            "type": "pie"
           }
          ],
          "scatter": [
           {
            "marker": {
             "colorbar": {
              "outlinewidth": 0,
              "ticks": ""
             }
            },
            "type": "scatter"
           }
          ],
          "scatter3d": [
           {
            "line": {
             "colorbar": {
              "outlinewidth": 0,
              "ticks": ""
             }
            },
            "marker": {
             "colorbar": {
              "outlinewidth": 0,
              "ticks": ""
             }
            },
            "type": "scatter3d"
           }
          ],
          "scattercarpet": [
           {
            "marker": {
             "colorbar": {
              "outlinewidth": 0,
              "ticks": ""
             }
            },
            "type": "scattercarpet"
           }
          ],
          "scattergeo": [
           {
            "marker": {
             "colorbar": {
              "outlinewidth": 0,
              "ticks": ""
             }
            },
            "type": "scattergeo"
           }
          ],
          "scattergl": [
           {
            "marker": {
             "colorbar": {
              "outlinewidth": 0,
              "ticks": ""
             }
            },
            "type": "scattergl"
           }
          ],
          "scattermapbox": [
           {
            "marker": {
             "colorbar": {
              "outlinewidth": 0,
              "ticks": ""
             }
            },
            "type": "scattermapbox"
           }
          ],
          "scatterpolar": [
           {
            "marker": {
             "colorbar": {
              "outlinewidth": 0,
              "ticks": ""
             }
            },
            "type": "scatterpolar"
           }
          ],
          "scatterpolargl": [
           {
            "marker": {
             "colorbar": {
              "outlinewidth": 0,
              "ticks": ""
             }
            },
            "type": "scatterpolargl"
           }
          ],
          "scatterternary": [
           {
            "marker": {
             "colorbar": {
              "outlinewidth": 0,
              "ticks": ""
             }
            },
            "type": "scatterternary"
           }
          ],
          "surface": [
           {
            "colorbar": {
             "outlinewidth": 0,
             "ticks": ""
            },
            "colorscale": [
             [
              0,
              "#0d0887"
             ],
             [
              0.1111111111111111,
              "#46039f"
             ],
             [
              0.2222222222222222,
              "#7201a8"
             ],
             [
              0.3333333333333333,
              "#9c179e"
             ],
             [
              0.4444444444444444,
              "#bd3786"
             ],
             [
              0.5555555555555556,
              "#d8576b"
             ],
             [
              0.6666666666666666,
              "#ed7953"
             ],
             [
              0.7777777777777778,
              "#fb9f3a"
             ],
             [
              0.8888888888888888,
              "#fdca26"
             ],
             [
              1,
              "#f0f921"
             ]
            ],
            "type": "surface"
           }
          ],
          "table": [
           {
            "cells": {
             "fill": {
              "color": "#EBF0F8"
             },
             "line": {
              "color": "white"
             }
            },
            "header": {
             "fill": {
              "color": "#C8D4E3"
             },
             "line": {
              "color": "white"
             }
            },
            "type": "table"
           }
          ]
         },
         "layout": {
          "annotationdefaults": {
           "arrowcolor": "#2a3f5f",
           "arrowhead": 0,
           "arrowwidth": 1
          },
          "coloraxis": {
           "colorbar": {
            "outlinewidth": 0,
            "ticks": ""
           }
          },
          "colorscale": {
           "diverging": [
            [
             0,
             "#8e0152"
            ],
            [
             0.1,
             "#c51b7d"
            ],
            [
             0.2,
             "#de77ae"
            ],
            [
             0.3,
             "#f1b6da"
            ],
            [
             0.4,
             "#fde0ef"
            ],
            [
             0.5,
             "#f7f7f7"
            ],
            [
             0.6,
             "#e6f5d0"
            ],
            [
             0.7,
             "#b8e186"
            ],
            [
             0.8,
             "#7fbc41"
            ],
            [
             0.9,
             "#4d9221"
            ],
            [
             1,
             "#276419"
            ]
           ],
           "sequential": [
            [
             0,
             "#0d0887"
            ],
            [
             0.1111111111111111,
             "#46039f"
            ],
            [
             0.2222222222222222,
             "#7201a8"
            ],
            [
             0.3333333333333333,
             "#9c179e"
            ],
            [
             0.4444444444444444,
             "#bd3786"
            ],
            [
             0.5555555555555556,
             "#d8576b"
            ],
            [
             0.6666666666666666,
             "#ed7953"
            ],
            [
             0.7777777777777778,
             "#fb9f3a"
            ],
            [
             0.8888888888888888,
             "#fdca26"
            ],
            [
             1,
             "#f0f921"
            ]
           ],
           "sequentialminus": [
            [
             0,
             "#0d0887"
            ],
            [
             0.1111111111111111,
             "#46039f"
            ],
            [
             0.2222222222222222,
             "#7201a8"
            ],
            [
             0.3333333333333333,
             "#9c179e"
            ],
            [
             0.4444444444444444,
             "#bd3786"
            ],
            [
             0.5555555555555556,
             "#d8576b"
            ],
            [
             0.6666666666666666,
             "#ed7953"
            ],
            [
             0.7777777777777778,
             "#fb9f3a"
            ],
            [
             0.8888888888888888,
             "#fdca26"
            ],
            [
             1,
             "#f0f921"
            ]
           ]
          },
          "colorway": [
           "#636efa",
           "#EF553B",
           "#00cc96",
           "#ab63fa",
           "#FFA15A",
           "#19d3f3",
           "#FF6692",
           "#B6E880",
           "#FF97FF",
           "#FECB52"
          ],
          "font": {
           "color": "#2a3f5f"
          },
          "geo": {
           "bgcolor": "white",
           "lakecolor": "white",
           "landcolor": "#E5ECF6",
           "showlakes": true,
           "showland": true,
           "subunitcolor": "white"
          },
          "hoverlabel": {
           "align": "left"
          },
          "hovermode": "closest",
          "mapbox": {
           "style": "light"
          },
          "paper_bgcolor": "white",
          "plot_bgcolor": "#E5ECF6",
          "polar": {
           "angularaxis": {
            "gridcolor": "white",
            "linecolor": "white",
            "ticks": ""
           },
           "bgcolor": "#E5ECF6",
           "radialaxis": {
            "gridcolor": "white",
            "linecolor": "white",
            "ticks": ""
           }
          },
          "scene": {
           "xaxis": {
            "backgroundcolor": "#E5ECF6",
            "gridcolor": "white",
            "gridwidth": 2,
            "linecolor": "white",
            "showbackground": true,
            "ticks": "",
            "zerolinecolor": "white"
           },
           "yaxis": {
            "backgroundcolor": "#E5ECF6",
            "gridcolor": "white",
            "gridwidth": 2,
            "linecolor": "white",
            "showbackground": true,
            "ticks": "",
            "zerolinecolor": "white"
           },
           "zaxis": {
            "backgroundcolor": "#E5ECF6",
            "gridcolor": "white",
            "gridwidth": 2,
            "linecolor": "white",
            "showbackground": true,
            "ticks": "",
            "zerolinecolor": "white"
           }
          },
          "shapedefaults": {
           "line": {
            "color": "#2a3f5f"
           }
          },
          "ternary": {
           "aaxis": {
            "gridcolor": "white",
            "linecolor": "white",
            "ticks": ""
           },
           "baxis": {
            "gridcolor": "white",
            "linecolor": "white",
            "ticks": ""
           },
           "bgcolor": "#E5ECF6",
           "caxis": {
            "gridcolor": "white",
            "linecolor": "white",
            "ticks": ""
           }
          },
          "title": {
           "x": 0.05
          },
          "xaxis": {
           "automargin": true,
           "gridcolor": "white",
           "linecolor": "white",
           "ticks": "",
           "title": {
            "standoff": 15
           },
           "zerolinecolor": "white",
           "zerolinewidth": 2
          },
          "yaxis": {
           "automargin": true,
           "gridcolor": "white",
           "linecolor": "white",
           "ticks": "",
           "title": {
            "standoff": 15
           },
           "zerolinecolor": "white",
           "zerolinewidth": 2
          }
         }
        },
        "xaxis": {
         "anchor": "y",
         "domain": [
          0,
          1
         ],
         "title": {
          "text": "index"
         }
        },
        "yaxis": {
         "anchor": "x",
         "domain": [
          0,
          1
         ],
         "title": {
          "text": "value"
         }
        }
       }
      },
      "text/html": [
       "<div>                            <div id=\"361008ee-6569-4df0-9ac8-0d005610b6c1\" class=\"plotly-graph-div\" style=\"height:525px; width:100%;\"></div>            <script type=\"text/javascript\">                require([\"plotly\"], function(Plotly) {                    window.PLOTLYENV=window.PLOTLYENV || {};                                    if (document.getElementById(\"361008ee-6569-4df0-9ac8-0d005610b6c1\")) {                    Plotly.newPlot(                        \"361008ee-6569-4df0-9ac8-0d005610b6c1\",                        [{\"alignmentgroup\": \"True\", \"hovertemplate\": \"variable=post_text_cleansed<br>index=%{x}<br>value=%{y}<extra></extra>\", \"legendgroup\": \"post_text_cleansed\", \"marker\": {\"color\": \"#636efa\"}, \"name\": \"post_text_cleansed\", \"offsetgroup\": \"post_text_cleansed\", \"orientation\": \"v\", \"showlegend\": true, \"textposition\": \"auto\", \"type\": \"bar\", \"x\": [\"sobre\", \"voce\", \"digital\", \"nao\", \"brasil\", \"dia\", \"inscreva\", \"inovacao\", \"pessoas\", \"tecnologia\"], \"xaxis\": \"x\", \"y\": [369, 317, 291, 229, 222, 208, 183, 146, 145, 144], \"yaxis\": \"y\"}],                        {\"barmode\": \"relative\", \"legend\": {\"title\": {\"text\": \"variable\"}, \"tracegroupgap\": 0}, \"margin\": {\"t\": 60}, \"template\": {\"data\": {\"bar\": [{\"error_x\": {\"color\": \"#2a3f5f\"}, \"error_y\": {\"color\": \"#2a3f5f\"}, \"marker\": {\"line\": {\"color\": \"#E5ECF6\", \"width\": 0.5}}, \"type\": \"bar\"}], \"barpolar\": [{\"marker\": {\"line\": {\"color\": \"#E5ECF6\", \"width\": 0.5}}, \"type\": \"barpolar\"}], \"carpet\": [{\"aaxis\": {\"endlinecolor\": \"#2a3f5f\", \"gridcolor\": \"white\", \"linecolor\": \"white\", \"minorgridcolor\": \"white\", \"startlinecolor\": \"#2a3f5f\"}, \"baxis\": {\"endlinecolor\": \"#2a3f5f\", \"gridcolor\": \"white\", \"linecolor\": \"white\", \"minorgridcolor\": \"white\", \"startlinecolor\": \"#2a3f5f\"}, \"type\": \"carpet\"}], \"choropleth\": [{\"colorbar\": {\"outlinewidth\": 0, \"ticks\": \"\"}, \"type\": \"choropleth\"}], \"contour\": [{\"colorbar\": {\"outlinewidth\": 0, \"ticks\": \"\"}, \"colorscale\": [[0.0, \"#0d0887\"], [0.1111111111111111, \"#46039f\"], [0.2222222222222222, \"#7201a8\"], [0.3333333333333333, \"#9c179e\"], [0.4444444444444444, \"#bd3786\"], [0.5555555555555556, \"#d8576b\"], [0.6666666666666666, \"#ed7953\"], [0.7777777777777778, \"#fb9f3a\"], [0.8888888888888888, \"#fdca26\"], [1.0, \"#f0f921\"]], \"type\": \"contour\"}], \"contourcarpet\": [{\"colorbar\": {\"outlinewidth\": 0, \"ticks\": \"\"}, \"type\": \"contourcarpet\"}], \"heatmap\": [{\"colorbar\": {\"outlinewidth\": 0, \"ticks\": \"\"}, \"colorscale\": [[0.0, \"#0d0887\"], [0.1111111111111111, \"#46039f\"], [0.2222222222222222, \"#7201a8\"], [0.3333333333333333, \"#9c179e\"], [0.4444444444444444, \"#bd3786\"], [0.5555555555555556, \"#d8576b\"], [0.6666666666666666, \"#ed7953\"], [0.7777777777777778, \"#fb9f3a\"], [0.8888888888888888, \"#fdca26\"], [1.0, \"#f0f921\"]], \"type\": \"heatmap\"}], \"heatmapgl\": [{\"colorbar\": {\"outlinewidth\": 0, \"ticks\": \"\"}, \"colorscale\": [[0.0, \"#0d0887\"], [0.1111111111111111, \"#46039f\"], [0.2222222222222222, \"#7201a8\"], [0.3333333333333333, \"#9c179e\"], [0.4444444444444444, \"#bd3786\"], [0.5555555555555556, \"#d8576b\"], [0.6666666666666666, \"#ed7953\"], [0.7777777777777778, \"#fb9f3a\"], [0.8888888888888888, \"#fdca26\"], [1.0, \"#f0f921\"]], \"type\": \"heatmapgl\"}], \"histogram\": [{\"marker\": {\"colorbar\": {\"outlinewidth\": 0, \"ticks\": \"\"}}, \"type\": \"histogram\"}], \"histogram2d\": [{\"colorbar\": {\"outlinewidth\": 0, \"ticks\": \"\"}, \"colorscale\": [[0.0, \"#0d0887\"], [0.1111111111111111, \"#46039f\"], [0.2222222222222222, \"#7201a8\"], [0.3333333333333333, \"#9c179e\"], [0.4444444444444444, \"#bd3786\"], [0.5555555555555556, \"#d8576b\"], [0.6666666666666666, \"#ed7953\"], [0.7777777777777778, \"#fb9f3a\"], [0.8888888888888888, \"#fdca26\"], [1.0, \"#f0f921\"]], \"type\": \"histogram2d\"}], \"histogram2dcontour\": [{\"colorbar\": {\"outlinewidth\": 0, \"ticks\": \"\"}, \"colorscale\": [[0.0, \"#0d0887\"], [0.1111111111111111, \"#46039f\"], [0.2222222222222222, \"#7201a8\"], [0.3333333333333333, \"#9c179e\"], [0.4444444444444444, \"#bd3786\"], [0.5555555555555556, \"#d8576b\"], [0.6666666666666666, \"#ed7953\"], [0.7777777777777778, \"#fb9f3a\"], [0.8888888888888888, \"#fdca26\"], [1.0, \"#f0f921\"]], \"type\": \"histogram2dcontour\"}], \"mesh3d\": [{\"colorbar\": {\"outlinewidth\": 0, \"ticks\": \"\"}, \"type\": \"mesh3d\"}], \"parcoords\": [{\"line\": {\"colorbar\": {\"outlinewidth\": 0, \"ticks\": \"\"}}, \"type\": \"parcoords\"}], \"pie\": [{\"automargin\": true, \"type\": \"pie\"}], \"scatter\": [{\"marker\": {\"colorbar\": {\"outlinewidth\": 0, \"ticks\": \"\"}}, \"type\": \"scatter\"}], \"scatter3d\": [{\"line\": {\"colorbar\": {\"outlinewidth\": 0, \"ticks\": \"\"}}, \"marker\": {\"colorbar\": {\"outlinewidth\": 0, \"ticks\": \"\"}}, \"type\": \"scatter3d\"}], \"scattercarpet\": [{\"marker\": {\"colorbar\": {\"outlinewidth\": 0, \"ticks\": \"\"}}, \"type\": \"scattercarpet\"}], \"scattergeo\": [{\"marker\": {\"colorbar\": {\"outlinewidth\": 0, \"ticks\": \"\"}}, \"type\": \"scattergeo\"}], \"scattergl\": [{\"marker\": {\"colorbar\": {\"outlinewidth\": 0, \"ticks\": \"\"}}, \"type\": \"scattergl\"}], \"scattermapbox\": [{\"marker\": {\"colorbar\": {\"outlinewidth\": 0, \"ticks\": \"\"}}, \"type\": \"scattermapbox\"}], \"scatterpolar\": [{\"marker\": {\"colorbar\": {\"outlinewidth\": 0, \"ticks\": \"\"}}, \"type\": \"scatterpolar\"}], \"scatterpolargl\": [{\"marker\": {\"colorbar\": {\"outlinewidth\": 0, \"ticks\": \"\"}}, \"type\": \"scatterpolargl\"}], \"scatterternary\": [{\"marker\": {\"colorbar\": {\"outlinewidth\": 0, \"ticks\": \"\"}}, \"type\": \"scatterternary\"}], \"surface\": [{\"colorbar\": {\"outlinewidth\": 0, \"ticks\": \"\"}, \"colorscale\": [[0.0, \"#0d0887\"], [0.1111111111111111, \"#46039f\"], [0.2222222222222222, \"#7201a8\"], [0.3333333333333333, \"#9c179e\"], [0.4444444444444444, \"#bd3786\"], [0.5555555555555556, \"#d8576b\"], [0.6666666666666666, \"#ed7953\"], [0.7777777777777778, \"#fb9f3a\"], [0.8888888888888888, \"#fdca26\"], [1.0, \"#f0f921\"]], \"type\": \"surface\"}], \"table\": [{\"cells\": {\"fill\": {\"color\": \"#EBF0F8\"}, \"line\": {\"color\": \"white\"}}, \"header\": {\"fill\": {\"color\": \"#C8D4E3\"}, \"line\": {\"color\": \"white\"}}, \"type\": \"table\"}]}, \"layout\": {\"annotationdefaults\": {\"arrowcolor\": \"#2a3f5f\", \"arrowhead\": 0, \"arrowwidth\": 1}, \"coloraxis\": {\"colorbar\": {\"outlinewidth\": 0, \"ticks\": \"\"}}, \"colorscale\": {\"diverging\": [[0, \"#8e0152\"], [0.1, \"#c51b7d\"], [0.2, \"#de77ae\"], [0.3, \"#f1b6da\"], [0.4, \"#fde0ef\"], [0.5, \"#f7f7f7\"], [0.6, \"#e6f5d0\"], [0.7, \"#b8e186\"], [0.8, \"#7fbc41\"], [0.9, \"#4d9221\"], [1, \"#276419\"]], \"sequential\": [[0.0, \"#0d0887\"], [0.1111111111111111, \"#46039f\"], [0.2222222222222222, \"#7201a8\"], [0.3333333333333333, \"#9c179e\"], [0.4444444444444444, \"#bd3786\"], [0.5555555555555556, \"#d8576b\"], [0.6666666666666666, \"#ed7953\"], [0.7777777777777778, \"#fb9f3a\"], [0.8888888888888888, \"#fdca26\"], [1.0, \"#f0f921\"]], \"sequentialminus\": [[0.0, \"#0d0887\"], [0.1111111111111111, \"#46039f\"], [0.2222222222222222, \"#7201a8\"], [0.3333333333333333, \"#9c179e\"], [0.4444444444444444, \"#bd3786\"], [0.5555555555555556, \"#d8576b\"], [0.6666666666666666, \"#ed7953\"], [0.7777777777777778, \"#fb9f3a\"], [0.8888888888888888, \"#fdca26\"], [1.0, \"#f0f921\"]]}, \"colorway\": [\"#636efa\", \"#EF553B\", \"#00cc96\", \"#ab63fa\", \"#FFA15A\", \"#19d3f3\", \"#FF6692\", \"#B6E880\", \"#FF97FF\", \"#FECB52\"], \"font\": {\"color\": \"#2a3f5f\"}, \"geo\": {\"bgcolor\": \"white\", \"lakecolor\": \"white\", \"landcolor\": \"#E5ECF6\", \"showlakes\": true, \"showland\": true, \"subunitcolor\": \"white\"}, \"hoverlabel\": {\"align\": \"left\"}, \"hovermode\": \"closest\", \"mapbox\": {\"style\": \"light\"}, \"paper_bgcolor\": \"white\", \"plot_bgcolor\": \"#E5ECF6\", \"polar\": {\"angularaxis\": {\"gridcolor\": \"white\", \"linecolor\": \"white\", \"ticks\": \"\"}, \"bgcolor\": \"#E5ECF6\", \"radialaxis\": {\"gridcolor\": \"white\", \"linecolor\": \"white\", \"ticks\": \"\"}}, \"scene\": {\"xaxis\": {\"backgroundcolor\": \"#E5ECF6\", \"gridcolor\": \"white\", \"gridwidth\": 2, \"linecolor\": \"white\", \"showbackground\": true, \"ticks\": \"\", \"zerolinecolor\": \"white\"}, \"yaxis\": {\"backgroundcolor\": \"#E5ECF6\", \"gridcolor\": \"white\", \"gridwidth\": 2, \"linecolor\": \"white\", \"showbackground\": true, \"ticks\": \"\", \"zerolinecolor\": \"white\"}, \"zaxis\": {\"backgroundcolor\": \"#E5ECF6\", \"gridcolor\": \"white\", \"gridwidth\": 2, \"linecolor\": \"white\", \"showbackground\": true, \"ticks\": \"\", \"zerolinecolor\": \"white\"}}, \"shapedefaults\": {\"line\": {\"color\": \"#2a3f5f\"}}, \"ternary\": {\"aaxis\": {\"gridcolor\": \"white\", \"linecolor\": \"white\", \"ticks\": \"\"}, \"baxis\": {\"gridcolor\": \"white\", \"linecolor\": \"white\", \"ticks\": \"\"}, \"bgcolor\": \"#E5ECF6\", \"caxis\": {\"gridcolor\": \"white\", \"linecolor\": \"white\", \"ticks\": \"\"}}, \"title\": {\"x\": 0.05}, \"xaxis\": {\"automargin\": true, \"gridcolor\": \"white\", \"linecolor\": \"white\", \"ticks\": \"\", \"title\": {\"standoff\": 15}, \"zerolinecolor\": \"white\", \"zerolinewidth\": 2}, \"yaxis\": {\"automargin\": true, \"gridcolor\": \"white\", \"linecolor\": \"white\", \"ticks\": \"\", \"title\": {\"standoff\": 15}, \"zerolinecolor\": \"white\", \"zerolinewidth\": 2}}}, \"xaxis\": {\"anchor\": \"y\", \"domain\": [0.0, 1.0], \"title\": {\"text\": \"index\"}}, \"yaxis\": {\"anchor\": \"x\", \"domain\": [0.0, 1.0], \"title\": {\"text\": \"value\"}}},                        {\"responsive\": true}                    ).then(function(){\n",
       "                            \n",
       "var gd = document.getElementById('361008ee-6569-4df0-9ac8-0d005610b6c1');\n",
       "var x = new MutationObserver(function (mutations, observer) {{\n",
       "        var display = window.getComputedStyle(gd).display;\n",
       "        if (!display || display === 'none') {{\n",
       "            console.log([gd, 'removed!']);\n",
       "            Plotly.purge(gd);\n",
       "            observer.disconnect();\n",
       "        }}\n",
       "}});\n",
       "\n",
       "// Listen for the removal of the full notebook cells\n",
       "var notebookContainer = gd.closest('#notebook-container');\n",
       "if (notebookContainer) {{\n",
       "    x.observe(notebookContainer, {childList: true});\n",
       "}}\n",
       "\n",
       "// Listen for the clearing of the current output cell\n",
       "var outputEl = gd.closest('.output');\n",
       "if (outputEl) {{\n",
       "    x.observe(outputEl, {childList: true});\n",
       "}}\n",
       "\n",
       "                        })                };                });            </script>        </div>"
      ]
     },
     "metadata": {},
     "output_type": "display_data"
    },
    {
     "data": {
      "text/plain": [
       "sobre      369\n",
       "voce       317\n",
       "digital    291\n",
       "nao        229\n",
       "brasil     222\n",
       "Name: post_text_cleansed, dtype: int64"
      ]
     },
     "execution_count": 49,
     "metadata": {},
     "output_type": "execute_result"
    }
   ],
   "source": [
    "tw = hero.visualization.top_words(posts['post_text_cleansed']).head(10)\n",
    "fig = px.bar(tw)\n",
    "fig.show()\n",
    "tw.head()"
   ]
  },
  {
   "cell_type": "code",
   "execution_count": 50,
   "metadata": {},
   "outputs": [
    {
     "data": {
      "application/vnd.plotly.v1+json": {
       "config": {
        "plotlyServerURL": "https://plot.ly"
       },
       "data": [
        {
         "alignmentgroup": "True",
         "hovertemplate": "variable=post_text_cleansed<br>index=%{x}<br>value=%{y}<extra></extra>",
         "legendgroup": "post_text_cleansed",
         "marker": {
          "color": "#636efa"
         },
         "name": "post_text_cleansed",
         "offsetgroup": "post_text_cleansed",
         "orientation": "v",
         "showlegend": true,
         "textposition": "auto",
         "type": "bar",
         "x": [
          "resultar",
          "aproveitamos",
          "burnout",
          "interna",
          "aguardam",
          "confundido",
          "desperdicios",
          "ams",
          "ro",
          "conforto"
         ],
         "xaxis": "x",
         "y": [
          1,
          1,
          1,
          1,
          1,
          1,
          1,
          1,
          1,
          1
         ],
         "yaxis": "y"
        }
       ],
       "layout": {
        "barmode": "relative",
        "legend": {
         "title": {
          "text": "variable"
         },
         "tracegroupgap": 0
        },
        "margin": {
         "t": 60
        },
        "template": {
         "data": {
          "bar": [
           {
            "error_x": {
             "color": "#2a3f5f"
            },
            "error_y": {
             "color": "#2a3f5f"
            },
            "marker": {
             "line": {
              "color": "#E5ECF6",
              "width": 0.5
             }
            },
            "type": "bar"
           }
          ],
          "barpolar": [
           {
            "marker": {
             "line": {
              "color": "#E5ECF6",
              "width": 0.5
             }
            },
            "type": "barpolar"
           }
          ],
          "carpet": [
           {
            "aaxis": {
             "endlinecolor": "#2a3f5f",
             "gridcolor": "white",
             "linecolor": "white",
             "minorgridcolor": "white",
             "startlinecolor": "#2a3f5f"
            },
            "baxis": {
             "endlinecolor": "#2a3f5f",
             "gridcolor": "white",
             "linecolor": "white",
             "minorgridcolor": "white",
             "startlinecolor": "#2a3f5f"
            },
            "type": "carpet"
           }
          ],
          "choropleth": [
           {
            "colorbar": {
             "outlinewidth": 0,
             "ticks": ""
            },
            "type": "choropleth"
           }
          ],
          "contour": [
           {
            "colorbar": {
             "outlinewidth": 0,
             "ticks": ""
            },
            "colorscale": [
             [
              0,
              "#0d0887"
             ],
             [
              0.1111111111111111,
              "#46039f"
             ],
             [
              0.2222222222222222,
              "#7201a8"
             ],
             [
              0.3333333333333333,
              "#9c179e"
             ],
             [
              0.4444444444444444,
              "#bd3786"
             ],
             [
              0.5555555555555556,
              "#d8576b"
             ],
             [
              0.6666666666666666,
              "#ed7953"
             ],
             [
              0.7777777777777778,
              "#fb9f3a"
             ],
             [
              0.8888888888888888,
              "#fdca26"
             ],
             [
              1,
              "#f0f921"
             ]
            ],
            "type": "contour"
           }
          ],
          "contourcarpet": [
           {
            "colorbar": {
             "outlinewidth": 0,
             "ticks": ""
            },
            "type": "contourcarpet"
           }
          ],
          "heatmap": [
           {
            "colorbar": {
             "outlinewidth": 0,
             "ticks": ""
            },
            "colorscale": [
             [
              0,
              "#0d0887"
             ],
             [
              0.1111111111111111,
              "#46039f"
             ],
             [
              0.2222222222222222,
              "#7201a8"
             ],
             [
              0.3333333333333333,
              "#9c179e"
             ],
             [
              0.4444444444444444,
              "#bd3786"
             ],
             [
              0.5555555555555556,
              "#d8576b"
             ],
             [
              0.6666666666666666,
              "#ed7953"
             ],
             [
              0.7777777777777778,
              "#fb9f3a"
             ],
             [
              0.8888888888888888,
              "#fdca26"
             ],
             [
              1,
              "#f0f921"
             ]
            ],
            "type": "heatmap"
           }
          ],
          "heatmapgl": [
           {
            "colorbar": {
             "outlinewidth": 0,
             "ticks": ""
            },
            "colorscale": [
             [
              0,
              "#0d0887"
             ],
             [
              0.1111111111111111,
              "#46039f"
             ],
             [
              0.2222222222222222,
              "#7201a8"
             ],
             [
              0.3333333333333333,
              "#9c179e"
             ],
             [
              0.4444444444444444,
              "#bd3786"
             ],
             [
              0.5555555555555556,
              "#d8576b"
             ],
             [
              0.6666666666666666,
              "#ed7953"
             ],
             [
              0.7777777777777778,
              "#fb9f3a"
             ],
             [
              0.8888888888888888,
              "#fdca26"
             ],
             [
              1,
              "#f0f921"
             ]
            ],
            "type": "heatmapgl"
           }
          ],
          "histogram": [
           {
            "marker": {
             "colorbar": {
              "outlinewidth": 0,
              "ticks": ""
             }
            },
            "type": "histogram"
           }
          ],
          "histogram2d": [
           {
            "colorbar": {
             "outlinewidth": 0,
             "ticks": ""
            },
            "colorscale": [
             [
              0,
              "#0d0887"
             ],
             [
              0.1111111111111111,
              "#46039f"
             ],
             [
              0.2222222222222222,
              "#7201a8"
             ],
             [
              0.3333333333333333,
              "#9c179e"
             ],
             [
              0.4444444444444444,
              "#bd3786"
             ],
             [
              0.5555555555555556,
              "#d8576b"
             ],
             [
              0.6666666666666666,
              "#ed7953"
             ],
             [
              0.7777777777777778,
              "#fb9f3a"
             ],
             [
              0.8888888888888888,
              "#fdca26"
             ],
             [
              1,
              "#f0f921"
             ]
            ],
            "type": "histogram2d"
           }
          ],
          "histogram2dcontour": [
           {
            "colorbar": {
             "outlinewidth": 0,
             "ticks": ""
            },
            "colorscale": [
             [
              0,
              "#0d0887"
             ],
             [
              0.1111111111111111,
              "#46039f"
             ],
             [
              0.2222222222222222,
              "#7201a8"
             ],
             [
              0.3333333333333333,
              "#9c179e"
             ],
             [
              0.4444444444444444,
              "#bd3786"
             ],
             [
              0.5555555555555556,
              "#d8576b"
             ],
             [
              0.6666666666666666,
              "#ed7953"
             ],
             [
              0.7777777777777778,
              "#fb9f3a"
             ],
             [
              0.8888888888888888,
              "#fdca26"
             ],
             [
              1,
              "#f0f921"
             ]
            ],
            "type": "histogram2dcontour"
           }
          ],
          "mesh3d": [
           {
            "colorbar": {
             "outlinewidth": 0,
             "ticks": ""
            },
            "type": "mesh3d"
           }
          ],
          "parcoords": [
           {
            "line": {
             "colorbar": {
              "outlinewidth": 0,
              "ticks": ""
             }
            },
            "type": "parcoords"
           }
          ],
          "pie": [
           {
            "automargin": true,
            "type": "pie"
           }
          ],
          "scatter": [
           {
            "marker": {
             "colorbar": {
              "outlinewidth": 0,
              "ticks": ""
             }
            },
            "type": "scatter"
           }
          ],
          "scatter3d": [
           {
            "line": {
             "colorbar": {
              "outlinewidth": 0,
              "ticks": ""
             }
            },
            "marker": {
             "colorbar": {
              "outlinewidth": 0,
              "ticks": ""
             }
            },
            "type": "scatter3d"
           }
          ],
          "scattercarpet": [
           {
            "marker": {
             "colorbar": {
              "outlinewidth": 0,
              "ticks": ""
             }
            },
            "type": "scattercarpet"
           }
          ],
          "scattergeo": [
           {
            "marker": {
             "colorbar": {
              "outlinewidth": 0,
              "ticks": ""
             }
            },
            "type": "scattergeo"
           }
          ],
          "scattergl": [
           {
            "marker": {
             "colorbar": {
              "outlinewidth": 0,
              "ticks": ""
             }
            },
            "type": "scattergl"
           }
          ],
          "scattermapbox": [
           {
            "marker": {
             "colorbar": {
              "outlinewidth": 0,
              "ticks": ""
             }
            },
            "type": "scattermapbox"
           }
          ],
          "scatterpolar": [
           {
            "marker": {
             "colorbar": {
              "outlinewidth": 0,
              "ticks": ""
             }
            },
            "type": "scatterpolar"
           }
          ],
          "scatterpolargl": [
           {
            "marker": {
             "colorbar": {
              "outlinewidth": 0,
              "ticks": ""
             }
            },
            "type": "scatterpolargl"
           }
          ],
          "scatterternary": [
           {
            "marker": {
             "colorbar": {
              "outlinewidth": 0,
              "ticks": ""
             }
            },
            "type": "scatterternary"
           }
          ],
          "surface": [
           {
            "colorbar": {
             "outlinewidth": 0,
             "ticks": ""
            },
            "colorscale": [
             [
              0,
              "#0d0887"
             ],
             [
              0.1111111111111111,
              "#46039f"
             ],
             [
              0.2222222222222222,
              "#7201a8"
             ],
             [
              0.3333333333333333,
              "#9c179e"
             ],
             [
              0.4444444444444444,
              "#bd3786"
             ],
             [
              0.5555555555555556,
              "#d8576b"
             ],
             [
              0.6666666666666666,
              "#ed7953"
             ],
             [
              0.7777777777777778,
              "#fb9f3a"
             ],
             [
              0.8888888888888888,
              "#fdca26"
             ],
             [
              1,
              "#f0f921"
             ]
            ],
            "type": "surface"
           }
          ],
          "table": [
           {
            "cells": {
             "fill": {
              "color": "#EBF0F8"
             },
             "line": {
              "color": "white"
             }
            },
            "header": {
             "fill": {
              "color": "#C8D4E3"
             },
             "line": {
              "color": "white"
             }
            },
            "type": "table"
           }
          ]
         },
         "layout": {
          "annotationdefaults": {
           "arrowcolor": "#2a3f5f",
           "arrowhead": 0,
           "arrowwidth": 1
          },
          "coloraxis": {
           "colorbar": {
            "outlinewidth": 0,
            "ticks": ""
           }
          },
          "colorscale": {
           "diverging": [
            [
             0,
             "#8e0152"
            ],
            [
             0.1,
             "#c51b7d"
            ],
            [
             0.2,
             "#de77ae"
            ],
            [
             0.3,
             "#f1b6da"
            ],
            [
             0.4,
             "#fde0ef"
            ],
            [
             0.5,
             "#f7f7f7"
            ],
            [
             0.6,
             "#e6f5d0"
            ],
            [
             0.7,
             "#b8e186"
            ],
            [
             0.8,
             "#7fbc41"
            ],
            [
             0.9,
             "#4d9221"
            ],
            [
             1,
             "#276419"
            ]
           ],
           "sequential": [
            [
             0,
             "#0d0887"
            ],
            [
             0.1111111111111111,
             "#46039f"
            ],
            [
             0.2222222222222222,
             "#7201a8"
            ],
            [
             0.3333333333333333,
             "#9c179e"
            ],
            [
             0.4444444444444444,
             "#bd3786"
            ],
            [
             0.5555555555555556,
             "#d8576b"
            ],
            [
             0.6666666666666666,
             "#ed7953"
            ],
            [
             0.7777777777777778,
             "#fb9f3a"
            ],
            [
             0.8888888888888888,
             "#fdca26"
            ],
            [
             1,
             "#f0f921"
            ]
           ],
           "sequentialminus": [
            [
             0,
             "#0d0887"
            ],
            [
             0.1111111111111111,
             "#46039f"
            ],
            [
             0.2222222222222222,
             "#7201a8"
            ],
            [
             0.3333333333333333,
             "#9c179e"
            ],
            [
             0.4444444444444444,
             "#bd3786"
            ],
            [
             0.5555555555555556,
             "#d8576b"
            ],
            [
             0.6666666666666666,
             "#ed7953"
            ],
            [
             0.7777777777777778,
             "#fb9f3a"
            ],
            [
             0.8888888888888888,
             "#fdca26"
            ],
            [
             1,
             "#f0f921"
            ]
           ]
          },
          "colorway": [
           "#636efa",
           "#EF553B",
           "#00cc96",
           "#ab63fa",
           "#FFA15A",
           "#19d3f3",
           "#FF6692",
           "#B6E880",
           "#FF97FF",
           "#FECB52"
          ],
          "font": {
           "color": "#2a3f5f"
          },
          "geo": {
           "bgcolor": "white",
           "lakecolor": "white",
           "landcolor": "#E5ECF6",
           "showlakes": true,
           "showland": true,
           "subunitcolor": "white"
          },
          "hoverlabel": {
           "align": "left"
          },
          "hovermode": "closest",
          "mapbox": {
           "style": "light"
          },
          "paper_bgcolor": "white",
          "plot_bgcolor": "#E5ECF6",
          "polar": {
           "angularaxis": {
            "gridcolor": "white",
            "linecolor": "white",
            "ticks": ""
           },
           "bgcolor": "#E5ECF6",
           "radialaxis": {
            "gridcolor": "white",
            "linecolor": "white",
            "ticks": ""
           }
          },
          "scene": {
           "xaxis": {
            "backgroundcolor": "#E5ECF6",
            "gridcolor": "white",
            "gridwidth": 2,
            "linecolor": "white",
            "showbackground": true,
            "ticks": "",
            "zerolinecolor": "white"
           },
           "yaxis": {
            "backgroundcolor": "#E5ECF6",
            "gridcolor": "white",
            "gridwidth": 2,
            "linecolor": "white",
            "showbackground": true,
            "ticks": "",
            "zerolinecolor": "white"
           },
           "zaxis": {
            "backgroundcolor": "#E5ECF6",
            "gridcolor": "white",
            "gridwidth": 2,
            "linecolor": "white",
            "showbackground": true,
            "ticks": "",
            "zerolinecolor": "white"
           }
          },
          "shapedefaults": {
           "line": {
            "color": "#2a3f5f"
           }
          },
          "ternary": {
           "aaxis": {
            "gridcolor": "white",
            "linecolor": "white",
            "ticks": ""
           },
           "baxis": {
            "gridcolor": "white",
            "linecolor": "white",
            "ticks": ""
           },
           "bgcolor": "#E5ECF6",
           "caxis": {
            "gridcolor": "white",
            "linecolor": "white",
            "ticks": ""
           }
          },
          "title": {
           "x": 0.05
          },
          "xaxis": {
           "automargin": true,
           "gridcolor": "white",
           "linecolor": "white",
           "ticks": "",
           "title": {
            "standoff": 15
           },
           "zerolinecolor": "white",
           "zerolinewidth": 2
          },
          "yaxis": {
           "automargin": true,
           "gridcolor": "white",
           "linecolor": "white",
           "ticks": "",
           "title": {
            "standoff": 15
           },
           "zerolinecolor": "white",
           "zerolinewidth": 2
          }
         }
        },
        "xaxis": {
         "anchor": "y",
         "domain": [
          0,
          1
         ],
         "title": {
          "text": "index"
         }
        },
        "yaxis": {
         "anchor": "x",
         "domain": [
          0,
          1
         ],
         "title": {
          "text": "value"
         }
        }
       }
      },
      "text/html": [
       "<div>                            <div id=\"f1112245-76f0-480d-8671-4784531f6c68\" class=\"plotly-graph-div\" style=\"height:525px; width:100%;\"></div>            <script type=\"text/javascript\">                require([\"plotly\"], function(Plotly) {                    window.PLOTLYENV=window.PLOTLYENV || {};                                    if (document.getElementById(\"f1112245-76f0-480d-8671-4784531f6c68\")) {                    Plotly.newPlot(                        \"f1112245-76f0-480d-8671-4784531f6c68\",                        [{\"alignmentgroup\": \"True\", \"hovertemplate\": \"variable=post_text_cleansed<br>index=%{x}<br>value=%{y}<extra></extra>\", \"legendgroup\": \"post_text_cleansed\", \"marker\": {\"color\": \"#636efa\"}, \"name\": \"post_text_cleansed\", \"offsetgroup\": \"post_text_cleansed\", \"orientation\": \"v\", \"showlegend\": true, \"textposition\": \"auto\", \"type\": \"bar\", \"x\": [\"resultar\", \"aproveitamos\", \"burnout\", \"interna\", \"aguardam\", \"confundido\", \"desperdicios\", \"ams\", \"ro\", \"conforto\"], \"xaxis\": \"x\", \"y\": [1, 1, 1, 1, 1, 1, 1, 1, 1, 1], \"yaxis\": \"y\"}],                        {\"barmode\": \"relative\", \"legend\": {\"title\": {\"text\": \"variable\"}, \"tracegroupgap\": 0}, \"margin\": {\"t\": 60}, \"template\": {\"data\": {\"bar\": [{\"error_x\": {\"color\": \"#2a3f5f\"}, \"error_y\": {\"color\": \"#2a3f5f\"}, \"marker\": {\"line\": {\"color\": \"#E5ECF6\", \"width\": 0.5}}, \"type\": \"bar\"}], \"barpolar\": [{\"marker\": {\"line\": {\"color\": \"#E5ECF6\", \"width\": 0.5}}, \"type\": \"barpolar\"}], \"carpet\": [{\"aaxis\": {\"endlinecolor\": \"#2a3f5f\", \"gridcolor\": \"white\", \"linecolor\": \"white\", \"minorgridcolor\": \"white\", \"startlinecolor\": \"#2a3f5f\"}, \"baxis\": {\"endlinecolor\": \"#2a3f5f\", \"gridcolor\": \"white\", \"linecolor\": \"white\", \"minorgridcolor\": \"white\", \"startlinecolor\": \"#2a3f5f\"}, \"type\": \"carpet\"}], \"choropleth\": [{\"colorbar\": {\"outlinewidth\": 0, \"ticks\": \"\"}, \"type\": \"choropleth\"}], \"contour\": [{\"colorbar\": {\"outlinewidth\": 0, \"ticks\": \"\"}, \"colorscale\": [[0.0, \"#0d0887\"], [0.1111111111111111, \"#46039f\"], [0.2222222222222222, \"#7201a8\"], [0.3333333333333333, \"#9c179e\"], [0.4444444444444444, \"#bd3786\"], [0.5555555555555556, \"#d8576b\"], [0.6666666666666666, \"#ed7953\"], [0.7777777777777778, \"#fb9f3a\"], [0.8888888888888888, \"#fdca26\"], [1.0, \"#f0f921\"]], \"type\": \"contour\"}], \"contourcarpet\": [{\"colorbar\": {\"outlinewidth\": 0, \"ticks\": \"\"}, \"type\": \"contourcarpet\"}], \"heatmap\": [{\"colorbar\": {\"outlinewidth\": 0, \"ticks\": \"\"}, \"colorscale\": [[0.0, \"#0d0887\"], [0.1111111111111111, \"#46039f\"], [0.2222222222222222, \"#7201a8\"], [0.3333333333333333, \"#9c179e\"], [0.4444444444444444, \"#bd3786\"], [0.5555555555555556, \"#d8576b\"], [0.6666666666666666, \"#ed7953\"], [0.7777777777777778, \"#fb9f3a\"], [0.8888888888888888, \"#fdca26\"], [1.0, \"#f0f921\"]], \"type\": \"heatmap\"}], \"heatmapgl\": [{\"colorbar\": {\"outlinewidth\": 0, \"ticks\": \"\"}, \"colorscale\": [[0.0, \"#0d0887\"], [0.1111111111111111, \"#46039f\"], [0.2222222222222222, \"#7201a8\"], [0.3333333333333333, \"#9c179e\"], [0.4444444444444444, \"#bd3786\"], [0.5555555555555556, \"#d8576b\"], [0.6666666666666666, \"#ed7953\"], [0.7777777777777778, \"#fb9f3a\"], [0.8888888888888888, \"#fdca26\"], [1.0, \"#f0f921\"]], \"type\": \"heatmapgl\"}], \"histogram\": [{\"marker\": {\"colorbar\": {\"outlinewidth\": 0, \"ticks\": \"\"}}, \"type\": \"histogram\"}], \"histogram2d\": [{\"colorbar\": {\"outlinewidth\": 0, \"ticks\": \"\"}, \"colorscale\": [[0.0, \"#0d0887\"], [0.1111111111111111, \"#46039f\"], [0.2222222222222222, \"#7201a8\"], [0.3333333333333333, \"#9c179e\"], [0.4444444444444444, \"#bd3786\"], [0.5555555555555556, \"#d8576b\"], [0.6666666666666666, \"#ed7953\"], [0.7777777777777778, \"#fb9f3a\"], [0.8888888888888888, \"#fdca26\"], [1.0, \"#f0f921\"]], \"type\": \"histogram2d\"}], \"histogram2dcontour\": [{\"colorbar\": {\"outlinewidth\": 0, \"ticks\": \"\"}, \"colorscale\": [[0.0, \"#0d0887\"], [0.1111111111111111, \"#46039f\"], [0.2222222222222222, \"#7201a8\"], [0.3333333333333333, \"#9c179e\"], [0.4444444444444444, \"#bd3786\"], [0.5555555555555556, \"#d8576b\"], [0.6666666666666666, \"#ed7953\"], [0.7777777777777778, \"#fb9f3a\"], [0.8888888888888888, \"#fdca26\"], [1.0, \"#f0f921\"]], \"type\": \"histogram2dcontour\"}], \"mesh3d\": [{\"colorbar\": {\"outlinewidth\": 0, \"ticks\": \"\"}, \"type\": \"mesh3d\"}], \"parcoords\": [{\"line\": {\"colorbar\": {\"outlinewidth\": 0, \"ticks\": \"\"}}, \"type\": \"parcoords\"}], \"pie\": [{\"automargin\": true, \"type\": \"pie\"}], \"scatter\": [{\"marker\": {\"colorbar\": {\"outlinewidth\": 0, \"ticks\": \"\"}}, \"type\": \"scatter\"}], \"scatter3d\": [{\"line\": {\"colorbar\": {\"outlinewidth\": 0, \"ticks\": \"\"}}, \"marker\": {\"colorbar\": {\"outlinewidth\": 0, \"ticks\": \"\"}}, \"type\": \"scatter3d\"}], \"scattercarpet\": [{\"marker\": {\"colorbar\": {\"outlinewidth\": 0, \"ticks\": \"\"}}, \"type\": \"scattercarpet\"}], \"scattergeo\": [{\"marker\": {\"colorbar\": {\"outlinewidth\": 0, \"ticks\": \"\"}}, \"type\": \"scattergeo\"}], \"scattergl\": [{\"marker\": {\"colorbar\": {\"outlinewidth\": 0, \"ticks\": \"\"}}, \"type\": \"scattergl\"}], \"scattermapbox\": [{\"marker\": {\"colorbar\": {\"outlinewidth\": 0, \"ticks\": \"\"}}, \"type\": \"scattermapbox\"}], \"scatterpolar\": [{\"marker\": {\"colorbar\": {\"outlinewidth\": 0, \"ticks\": \"\"}}, \"type\": \"scatterpolar\"}], \"scatterpolargl\": [{\"marker\": {\"colorbar\": {\"outlinewidth\": 0, \"ticks\": \"\"}}, \"type\": \"scatterpolargl\"}], \"scatterternary\": [{\"marker\": {\"colorbar\": {\"outlinewidth\": 0, \"ticks\": \"\"}}, \"type\": \"scatterternary\"}], \"surface\": [{\"colorbar\": {\"outlinewidth\": 0, \"ticks\": \"\"}, \"colorscale\": [[0.0, \"#0d0887\"], [0.1111111111111111, \"#46039f\"], [0.2222222222222222, \"#7201a8\"], [0.3333333333333333, \"#9c179e\"], [0.4444444444444444, \"#bd3786\"], [0.5555555555555556, \"#d8576b\"], [0.6666666666666666, \"#ed7953\"], [0.7777777777777778, \"#fb9f3a\"], [0.8888888888888888, \"#fdca26\"], [1.0, \"#f0f921\"]], \"type\": \"surface\"}], \"table\": [{\"cells\": {\"fill\": {\"color\": \"#EBF0F8\"}, \"line\": {\"color\": \"white\"}}, \"header\": {\"fill\": {\"color\": \"#C8D4E3\"}, \"line\": {\"color\": \"white\"}}, \"type\": \"table\"}]}, \"layout\": {\"annotationdefaults\": {\"arrowcolor\": \"#2a3f5f\", \"arrowhead\": 0, \"arrowwidth\": 1}, \"coloraxis\": {\"colorbar\": {\"outlinewidth\": 0, \"ticks\": \"\"}}, \"colorscale\": {\"diverging\": [[0, \"#8e0152\"], [0.1, \"#c51b7d\"], [0.2, \"#de77ae\"], [0.3, \"#f1b6da\"], [0.4, \"#fde0ef\"], [0.5, \"#f7f7f7\"], [0.6, \"#e6f5d0\"], [0.7, \"#b8e186\"], [0.8, \"#7fbc41\"], [0.9, \"#4d9221\"], [1, \"#276419\"]], \"sequential\": [[0.0, \"#0d0887\"], [0.1111111111111111, \"#46039f\"], [0.2222222222222222, \"#7201a8\"], [0.3333333333333333, \"#9c179e\"], [0.4444444444444444, \"#bd3786\"], [0.5555555555555556, \"#d8576b\"], [0.6666666666666666, \"#ed7953\"], [0.7777777777777778, \"#fb9f3a\"], [0.8888888888888888, \"#fdca26\"], [1.0, \"#f0f921\"]], \"sequentialminus\": [[0.0, \"#0d0887\"], [0.1111111111111111, \"#46039f\"], [0.2222222222222222, \"#7201a8\"], [0.3333333333333333, \"#9c179e\"], [0.4444444444444444, \"#bd3786\"], [0.5555555555555556, \"#d8576b\"], [0.6666666666666666, \"#ed7953\"], [0.7777777777777778, \"#fb9f3a\"], [0.8888888888888888, \"#fdca26\"], [1.0, \"#f0f921\"]]}, \"colorway\": [\"#636efa\", \"#EF553B\", \"#00cc96\", \"#ab63fa\", \"#FFA15A\", \"#19d3f3\", \"#FF6692\", \"#B6E880\", \"#FF97FF\", \"#FECB52\"], \"font\": {\"color\": \"#2a3f5f\"}, \"geo\": {\"bgcolor\": \"white\", \"lakecolor\": \"white\", \"landcolor\": \"#E5ECF6\", \"showlakes\": true, \"showland\": true, \"subunitcolor\": \"white\"}, \"hoverlabel\": {\"align\": \"left\"}, \"hovermode\": \"closest\", \"mapbox\": {\"style\": \"light\"}, \"paper_bgcolor\": \"white\", \"plot_bgcolor\": \"#E5ECF6\", \"polar\": {\"angularaxis\": {\"gridcolor\": \"white\", \"linecolor\": \"white\", \"ticks\": \"\"}, \"bgcolor\": \"#E5ECF6\", \"radialaxis\": {\"gridcolor\": \"white\", \"linecolor\": \"white\", \"ticks\": \"\"}}, \"scene\": {\"xaxis\": {\"backgroundcolor\": \"#E5ECF6\", \"gridcolor\": \"white\", \"gridwidth\": 2, \"linecolor\": \"white\", \"showbackground\": true, \"ticks\": \"\", \"zerolinecolor\": \"white\"}, \"yaxis\": {\"backgroundcolor\": \"#E5ECF6\", \"gridcolor\": \"white\", \"gridwidth\": 2, \"linecolor\": \"white\", \"showbackground\": true, \"ticks\": \"\", \"zerolinecolor\": \"white\"}, \"zaxis\": {\"backgroundcolor\": \"#E5ECF6\", \"gridcolor\": \"white\", \"gridwidth\": 2, \"linecolor\": \"white\", \"showbackground\": true, \"ticks\": \"\", \"zerolinecolor\": \"white\"}}, \"shapedefaults\": {\"line\": {\"color\": \"#2a3f5f\"}}, \"ternary\": {\"aaxis\": {\"gridcolor\": \"white\", \"linecolor\": \"white\", \"ticks\": \"\"}, \"baxis\": {\"gridcolor\": \"white\", \"linecolor\": \"white\", \"ticks\": \"\"}, \"bgcolor\": \"#E5ECF6\", \"caxis\": {\"gridcolor\": \"white\", \"linecolor\": \"white\", \"ticks\": \"\"}}, \"title\": {\"x\": 0.05}, \"xaxis\": {\"automargin\": true, \"gridcolor\": \"white\", \"linecolor\": \"white\", \"ticks\": \"\", \"title\": {\"standoff\": 15}, \"zerolinecolor\": \"white\", \"zerolinewidth\": 2}, \"yaxis\": {\"automargin\": true, \"gridcolor\": \"white\", \"linecolor\": \"white\", \"ticks\": \"\", \"title\": {\"standoff\": 15}, \"zerolinecolor\": \"white\", \"zerolinewidth\": 2}}}, \"xaxis\": {\"anchor\": \"y\", \"domain\": [0.0, 1.0], \"title\": {\"text\": \"index\"}}, \"yaxis\": {\"anchor\": \"x\", \"domain\": [0.0, 1.0], \"title\": {\"text\": \"value\"}}},                        {\"responsive\": true}                    ).then(function(){\n",
       "                            \n",
       "var gd = document.getElementById('f1112245-76f0-480d-8671-4784531f6c68');\n",
       "var x = new MutationObserver(function (mutations, observer) {{\n",
       "        var display = window.getComputedStyle(gd).display;\n",
       "        if (!display || display === 'none') {{\n",
       "            console.log([gd, 'removed!']);\n",
       "            Plotly.purge(gd);\n",
       "            observer.disconnect();\n",
       "        }}\n",
       "}});\n",
       "\n",
       "// Listen for the removal of the full notebook cells\n",
       "var notebookContainer = gd.closest('#notebook-container');\n",
       "if (notebookContainer) {{\n",
       "    x.observe(notebookContainer, {childList: true});\n",
       "}}\n",
       "\n",
       "// Listen for the clearing of the current output cell\n",
       "var outputEl = gd.closest('.output');\n",
       "if (outputEl) {{\n",
       "    x.observe(outputEl, {childList: true});\n",
       "}}\n",
       "\n",
       "                        })                };                });            </script>        </div>"
      ]
     },
     "metadata": {},
     "output_type": "display_data"
    },
    {
     "data": {
      "text/plain": [
       "resultar        1\n",
       "aproveitamos    1\n",
       "burnout         1\n",
       "interna         1\n",
       "aguardam        1\n",
       "Name: post_text_cleansed, dtype: int64"
      ]
     },
     "execution_count": 50,
     "metadata": {},
     "output_type": "execute_result"
    }
   ],
   "source": [
    "tw = hero.visualization.top_words(posts['post_text_cleansed']).tail(10)\n",
    "fig = px.bar(tw)\n",
    "fig.show()\n",
    "tw.head()"
   ]
  },
  {
   "cell_type": "code",
   "execution_count": 51,
   "metadata": {},
   "outputs": [
    {
     "data": {
      "text/html": [
       "<div>\n",
       "<style scoped>\n",
       "    .dataframe tbody tr th:only-of-type {\n",
       "        vertical-align: middle;\n",
       "    }\n",
       "\n",
       "    .dataframe tbody tr th {\n",
       "        vertical-align: top;\n",
       "    }\n",
       "\n",
       "    .dataframe thead th {\n",
       "        text-align: right;\n",
       "    }\n",
       "</style>\n",
       "<table border=\"1\" class=\"dataframe\">\n",
       "  <thead>\n",
       "    <tr style=\"text-align: right;\">\n",
       "      <th></th>\n",
       "      <th>id</th>\n",
       "      <th>post_text</th>\n",
       "      <th>post_text_cleansed</th>\n",
       "    </tr>\n",
       "  </thead>\n",
       "  <tbody>\n",
       "    <tr>\n",
       "      <th>0</th>\n",
       "      <td>0</td>\n",
       "      <td>'Em parceria com o #MITSloanReviewBrasil, realizamos hoje um Round Table com especialistas em #InteligênciaArtificial da América Latina, para debater sobre os principais impactos desta tecnologia no Brasil. Agradecemos a todos que participaram do evento online e também a presença de todos os speakers, Evandro Armelin, head de data &amp; analytics da everis Brasil; Lluis Quiles Ardila, diretor de data science da everis Brasil; Sara Álvarez, diretora de inovação da MIT Technology Review; Renato Vieira, gerente de arquitetura e inovação na BR Distribuidora; Washington Vital, head de data analytics na SulAmérica e Fabricio Bindi, diretor de customer insights e inteligência artificial da Vivo. Você pode conferir o estudo completo, acessando https://lnkd.in/dq45j2R #everis #everisBrasil #EstudioIA'</td>\n",
       "      <td>parceria   mitsloanreviewbrasil realizamos hoje  round table  especialistas  inteligenciaartificial  america latina  debater sobre  principais impactos desta tecnologia  brasil agradecemos  todos  participaram  evento online  tambem  presenca  todos  speakers evandro armelin head  data analytics   brasil lluis quiles ardila diretor  data science   brasil sara alvarez diretora  inovacao  mit technology review renato vieira gerente  arquitetura  inovacao  br distribuidora washington vital head  data analytics  sulamerica  fabricio bindi diretor  customer insights  inteligencia artificial  vivo voce pode conferir  estudo completo acessando   dq j r   estudioia</td>\n",
       "    </tr>\n",
       "    <tr>\n",
       "      <th>1</th>\n",
       "      <td>1</td>\n",
       "      <td>'Neste #webinar, especialistas da #everisBrasil falarão sobre as estratégias de Qualidade e como elas poderão melhorar a implementação do SRE. Inscreva-se: https://lnkd.in/g6hrP5P #everis #ITServices'</td>\n",
       "      <td>neste webinar especialistas   falarao sobre  estrategias  qualidade    poderao melhorar  implementacao  sre inscreva    g hrp p  itservices</td>\n",
       "    </tr>\n",
       "    <tr>\n",
       "      <th>2</th>\n",
       "      <td>2</td>\n",
       "      <td>'Apresentamos o painel “2020: Visão dos diferentes elos da cadeia de saúde sobre qual foi a tecnologia mais alavancada pelas mudanças recentes do cenário do setor” na da 6ª edição do Healthcare Innovation Show (HIS), com Alejandro Morán Marco, Head Global de Health da everis. Agradecemos a todos que participaram. Veja como foi! #NTTDATA #everisBrasil #HIS'</td>\n",
       "      <td>apresentamos  painel \"  visao  diferentes elos  cadeia  saude sobre    tecnologia  alavancada  mudancas recentes  cenario  setor\"     edicao  healthcare innovation show his  alejandro moran marco head global  health   agradecemos  todos  participaram veja     his</td>\n",
       "    </tr>\n",
       "    <tr>\n",
       "      <th>3</th>\n",
       "      <td>3</td>\n",
       "      <td>'Neste #webinar, especialistas da #everisBrasil falarão sobre as estratégias de Qualidade e como elas poderão melhorar a implementação do SRE. Inscreva-se: https://lnkd.in/g6hrP5P #everis #ITServices'</td>\n",
       "      <td>neste webinar especialistas   falarao sobre  estrategias  qualidade    poderao melhorar  implementacao  sre inscreva    g hrp p  itservices</td>\n",
       "    </tr>\n",
       "    <tr>\n",
       "      <th>4</th>\n",
       "      <td>4</td>\n",
       "      <td>'No episódio de hoje, da série #WakeUp, Adam aprendeu que priorização e automação inteligente, economizam tempo e também aumentam a produtividade. Acesse o vídeo e veja como estamos planejando o futuro!https://lnkd.in/gNP-iuC #everis #everisBrasil #NTTDATA #everisWakeUp'</td>\n",
       "      <td>episodio  hoje  serie wakeup adam aprendeu  priorizacao  automacao inteligente economizam tempo  tambem aumentam  produtividade acesse  video  veja   planejando  futuro   gnp iuc    everiswakeup</td>\n",
       "    </tr>\n",
       "  </tbody>\n",
       "</table>\n",
       "</div>"
      ],
      "text/plain": [
       "   id  \\\n",
       "0   0   \n",
       "1   1   \n",
       "2   2   \n",
       "3   3   \n",
       "4   4   \n",
       "\n",
       "                                                                                                                                                                                                                                                                                                                                                                                                                                                                                                                                                                                                                                                                                                                                                                                                                         post_text  \\\n",
       "0  'Em parceria com o #MITSloanReviewBrasil, realizamos hoje um Round Table com especialistas em #InteligênciaArtificial da América Latina, para debater sobre os principais impactos desta tecnologia no Brasil. Agradecemos a todos que participaram do evento online e também a presença de todos os speakers, Evandro Armelin, head de data & analytics da everis Brasil; Lluis Quiles Ardila, diretor de data science da everis Brasil; Sara Álvarez, diretora de inovação da MIT Technology Review; Renato Vieira, gerente de arquitetura e inovação na BR Distribuidora; Washington Vital, head de data analytics na SulAmérica e Fabricio Bindi, diretor de customer insights e inteligência artificial da Vivo. Você pode conferir o estudo completo, acessando https://lnkd.in/dq45j2R #everis #everisBrasil #EstudioIA'   \n",
       "1                                                                                                                                                                                                                                                                                                                                                                                                                                                                                                                                                                                                                         'Neste #webinar, especialistas da #everisBrasil falarão sobre as estratégias de Qualidade e como elas poderão melhorar a implementação do SRE. Inscreva-se: https://lnkd.in/g6hrP5P #everis #ITServices'   \n",
       "2                                                                                                                                                                                                                                                                                                                                                                                                                                                           'Apresentamos o painel “2020: Visão dos diferentes elos da cadeia de saúde sobre qual foi a tecnologia mais alavancada pelas mudanças recentes do cenário do setor” na da 6ª edição do Healthcare Innovation Show (HIS), com Alejandro Morán Marco, Head Global de Health da everis. Agradecemos a todos que participaram. Veja como foi! #NTTDATA #everisBrasil #HIS'   \n",
       "3                                                                                                                                                                                                                                                                                                                                                                                                                                                                                                                                                                                                                         'Neste #webinar, especialistas da #everisBrasil falarão sobre as estratégias de Qualidade e como elas poderão melhorar a implementação do SRE. Inscreva-se: https://lnkd.in/g6hrP5P #everis #ITServices'   \n",
       "4                                                                                                                                                                                                                                                                                                                                                                                                                                                                                                                                                  'No episódio de hoje, da série #WakeUp, Adam aprendeu que priorização e automação inteligente, economizam tempo e também aumentam a produtividade. Acesse o vídeo e veja como estamos planejando o futuro!https://lnkd.in/gNP-iuC #everis #everisBrasil #NTTDATA #everisWakeUp'   \n",
       "\n",
       "                                                                                                                                                                                                                                                                                                                                                                                                                                                                                                                                                                                                                                                                           post_text_cleansed  \n",
       "0   parceria   mitsloanreviewbrasil realizamos hoje  round table  especialistas  inteligenciaartificial  america latina  debater sobre  principais impactos desta tecnologia  brasil agradecemos  todos  participaram  evento online  tambem  presenca  todos  speakers evandro armelin head  data analytics   brasil lluis quiles ardila diretor  data science   brasil sara alvarez diretora  inovacao  mit technology review renato vieira gerente  arquitetura  inovacao  br distribuidora washington vital head  data analytics  sulamerica  fabricio bindi diretor  customer insights  inteligencia artificial  vivo voce pode conferir  estudo completo acessando   dq j r   estudioia  \n",
       "1                                                                                                                                                                                                                                                                                                                                                                                                                                                                                                                                                 neste webinar especialistas   falarao sobre  estrategias  qualidade    poderao melhorar  implementacao  sre inscreva    g hrp p  itservices  \n",
       "2                                                                                                                                                                                                                                                                                                                                                                                                                     apresentamos  painel \"  visao  diferentes elos  cadeia  saude sobre    tecnologia  alavancada  mudancas recentes  cenario  setor\"     edicao  healthcare innovation show his  alejandro moran marco head global  health   agradecemos  todos  participaram veja     his  \n",
       "3                                                                                                                                                                                                                                                                                                                                                                                                                                                                                                                                                 neste webinar especialistas   falarao sobre  estrategias  qualidade    poderao melhorar  implementacao  sre inscreva    g hrp p  itservices  \n",
       "4                                                                                                                                                                                                                                                                                                                                                                                                                                                                                          episodio  hoje  serie wakeup adam aprendeu  priorizacao  automacao inteligente economizam tempo  tambem aumentam  produtividade acesse  video  veja   planejando  futuro   gnp iuc    everiswakeup  "
      ]
     },
     "execution_count": 51,
     "metadata": {},
     "output_type": "execute_result"
    }
   ],
   "source": [
    "posts.head(5)"
   ]
  },
  {
   "cell_type": "markdown",
   "metadata": {},
   "source": [
    "--- "
   ]
  },
  {
   "cell_type": "markdown",
   "metadata": {},
   "source": [
    "##### FEATURE ENGINEERING"
   ]
  },
  {
   "cell_type": "code",
   "execution_count": 52,
   "metadata": {},
   "outputs": [
    {
     "name": "stderr",
     "output_type": "stream",
     "text": [
      "/work/tools/anaconda3/envs/dna-brand-platform/lib/python3.8/site-packages/ipykernel/ipkernel.py:287: DeprecationWarning:\n",
      "\n",
      "`should_run_async` will not call `transform_cell` automatically in the future. Please pass the result to `transformed_cell` argument and any exception that happen during thetransform in `preprocessing_exc_tuple` in IPython 7.17 and above.\n",
      "\n"
     ]
    }
   ],
   "source": [
    "def preprocess(text):\n",
    "    result = []\n",
    "    for token in gensim.utils.simple_preprocess(text):\n",
    "        if len(token) > 3:\n",
    "            result.append(token)\n",
    "    return result"
   ]
  },
  {
   "cell_type": "code",
   "execution_count": 53,
   "metadata": {},
   "outputs": [
    {
     "data": {
      "text/plain": [
       "0    [parceria, realizamos, hoje, round, table, especialistas, america, latina, debater, sobre, principais, impactos, desta, tecnologia, brasil, agradecemos, todos, participaram, evento, online, tambem, presenca, todos, speakers, evandro, armelin, head, data, analytics, brasil, lluis, quiles, ardila, diretor, data, science, brasil, sara, alvarez, diretora, inovacao, technology, review, renato, vieira, gerente, arquitetura, inovacao, distribuidora, washington, vital, head, data, analytics, sulamerica, fabricio, bindi, diretor, customer, insights, inteligencia, artificial, vivo, voce, pode, conferir, estudo, completo, acessando, estudioia]\n",
       "1                                                                                                                                                                                                                                                                                                                                                                                                                                                                                                                                     [neste, webinar, especialistas, falarao, sobre, estrategias, qualidade, poderao, melhorar, implementacao, inscreva, itservices]\n",
       "2                                                                                                                                                                                                                                                                                                                                                                                                      [apresentamos, painel, visao, diferentes, elos, cadeia, saude, sobre, tecnologia, alavancada, mudancas, recentes, cenario, setor, edicao, healthcare, innovation, show, alejandro, moran, marco, head, global, health, agradecemos, todos, participaram, veja]\n",
       "3                                                                                                                                                                                                                                                                                                                                                                                                                                                                                                                                     [neste, webinar, especialistas, falarao, sobre, estrategias, qualidade, poderao, melhorar, implementacao, inscreva, itservices]\n",
       "4                                                                                                                                                                                                                                                                                                                                                                                                                                                                     [episodio, hoje, serie, wakeup, adam, aprendeu, priorizacao, automacao, inteligente, economizam, tempo, tambem, aumentam, produtividade, acesse, video, veja, planejando, futuro, everiswakeup]\n",
       "5                                                                                                                                                                                                                                                                                                                                                                                                                                                                [podcast, interessante, especialistas, sobre, dados, desenhar, melhor, experiencia, cliente, spotify, spoti, hkweeo, google, fjzqfbapple, apple, ivqjl, deezer, hnmodjtunein, rkuuj, strategy, tech]\n",
       "6                                                                                                                                                                                                                                                                                                                                                                                                                       [startup, pode, proxima, representar, brasil, buscamos, projetos, areas, banking, telecom, utilities, energy, retail, consumergoods, trabalhando, mudar, setores, conheca, edicao, agora, queremos, conhecer, voce, inscreva, openinnovation]\n",
       "7                                                                                                                                                                                                                                                                                                                                                                                                                                                                                                                             [saiba, quais, principais, capacidades, devem, desenvolvidas, aprimoradas, melhorar, condicoes, empregabilidade, tempos, crise, acesse]\n",
       "8                                                                                                                                                                                                                                                                                                                                                                                                                                                                                  [eber, anacleto, silva, analista, testes, acessibilidade, brasil, explica, neste, artigo, acessibilidade, digital, quais, implicacoes, acesse, gkkrthp, strategy, tech, everiscoe]\n",
       "9                                                                                                                                                                                                                                                                                                                                                                                                                    [neste, podcast, abordamos, importancia, governanca, dados, pode, fazer, diferenca, qualidade, dados, serao, utilizados, negocio, tomada, decisoes, spotify, spoti, abgoogle, gjkzw, eapple, apple, hnoguldeezer, tunein, gsfui, strategy, tech]\n",
       "Name: post_text_cleansed, dtype: object"
      ]
     },
     "execution_count": 53,
     "metadata": {},
     "output_type": "execute_result"
    }
   ],
   "source": [
    "processed_docs = posts['post_text_cleansed'].map(preprocess)\n",
    "processed_docs[:10]"
   ]
  },
  {
   "cell_type": "code",
   "execution_count": 54,
   "metadata": {},
   "outputs": [],
   "source": [
    "id2word = gensim.corpora.Dictionary(processed_docs)\n",
    "\n",
    "# less than 15 documents (absolute number) or\n",
    "# more than 0.5 (50%) documents (fraction of total corpus size, not absolute number).\n",
    "# after the above two steps, keep only the first 100000 most frequent tokens.\n",
    "\n",
    "id2word.filter_extremes(no_below=15, no_above=0.5, keep_n=100000)\n",
    "\n",
    "# Term Document Frequency\n",
    "corpus = [id2word.doc2bow(doc) for doc in processed_docs]"
   ]
  },
  {
   "cell_type": "code",
   "execution_count": 55,
   "metadata": {},
   "outputs": [
    {
     "data": {
      "text/plain": [
       "[[('america', 1),\n",
       "  ('analytics', 2),\n",
       "  ('artificial', 1),\n",
       "  ('brasil', 3),\n",
       "  ('completo', 1),\n",
       "  ('data', 3),\n",
       "  ('diretor', 2),\n",
       "  ('diretora', 1),\n",
       "  ('especialistas', 1),\n",
       "  ('estudo', 1),\n",
       "  ('evento', 1),\n",
       "  ('gerente', 1),\n",
       "  ('head', 2),\n",
       "  ('hoje', 1),\n",
       "  ('impactos', 1),\n",
       "  ('inovacao', 2),\n",
       "  ('insights', 1),\n",
       "  ('inteligencia', 1),\n",
       "  ('latina', 1),\n",
       "  ('online', 1),\n",
       "  ('parceria', 1),\n",
       "  ('pode', 1),\n",
       "  ('presenca', 1),\n",
       "  ('principais', 1),\n",
       "  ('renato', 1),\n",
       "  ('science', 1),\n",
       "  ('sobre', 1),\n",
       "  ('tambem', 1),\n",
       "  ('tecnologia', 1),\n",
       "  ('todos', 2),\n",
       "  ('vivo', 1),\n",
       "  ('voce', 1)]]"
      ]
     },
     "execution_count": 55,
     "metadata": {},
     "output_type": "execute_result"
    }
   ],
   "source": [
    "[[(id2word[id], freq) for id, freq in cp] for cp in corpus[:1]]"
   ]
  },
  {
   "cell_type": "code",
   "execution_count": 56,
   "metadata": {},
   "outputs": [
    {
     "data": {
      "text/plain": [
       "'america'"
      ]
     },
     "execution_count": 56,
     "metadata": {},
     "output_type": "execute_result"
    }
   ],
   "source": [
    "id2word[0]"
   ]
  },
  {
   "cell_type": "code",
   "execution_count": 57,
   "metadata": {},
   "outputs": [
    {
     "name": "stdout",
     "output_type": "stream",
     "text": [
      "Word 3 (\"brasil\") appears 1 time.\n",
      "Word 33 (\"inscreva\") appears 1 time.\n",
      "Word 67 (\"conheca\") appears 1 time.\n",
      "Word 84 (\"completa\") appears 1 time.\n",
      "Word 245 (\"conceito\") appears 1 time.\n",
      "Word 252 (\"clientes\") appears 1 time.\n",
      "Word 287 (\"necessidades\") appears 1 time.\n",
      "Word 381 (\"unica\") appears 1 time.\n"
     ]
    }
   ],
   "source": [
    "doc_430 = corpus[430]\n",
    "for i in range(len(doc_430)):\n",
    "    print(\"Word {} (\\\"{}\\\") appears {} time.\".format(doc_430[i][0], id2word[doc_430[i][0]], doc_430[i][1]))"
   ]
  },
  {
   "cell_type": "code",
   "execution_count": 58,
   "metadata": {},
   "outputs": [],
   "source": [
    "# TF-IDF\n",
    "tfidf = models.TfidfModel(corpus)\n",
    "corpus_tfidf = tfidf[corpus]"
   ]
  },
  {
   "cell_type": "markdown",
   "metadata": {},
   "source": [
    "---"
   ]
  },
  {
   "cell_type": "markdown",
   "metadata": {},
   "source": [
    "##### MODEL TRAINING"
   ]
  },
  {
   "cell_type": "code",
   "execution_count": 59,
   "metadata": {},
   "outputs": [],
   "source": [
    "lda_model = gensim.models.LdaMulticore(corpus_tfidf, num_topics=8, id2word=id2word, passes=10, workers=4, chunksize=100,random_state=42)"
   ]
  },
  {
   "cell_type": "code",
   "execution_count": 60,
   "metadata": {},
   "outputs": [
    {
     "name": "stdout",
     "output_type": "stream",
     "text": [
      "Topic: 0 Formula: 0.033*\"open\" + 0.023*\"youtube\" + 0.022*\"produto\" + 0.021*\"source\" + 0.018*\"nesse\" + 0.018*\"ainda\" + 0.017*\"tudo\" + 0.015*\"opensource\" + 0.015*\"mulheres\" + 0.015*\"abertas\"\n",
      "---\n",
      "Topic: 1 Formula: 0.018*\"voce\" + 0.017*\"link\" + 0.014*\"http\" + 0.013*\"vemprazup\" + 0.012*\"live\" + 0.012*\"evento\" + 0.012*\"aqui\" + 0.011*\"gente\" + 0.011*\"java\" + 0.011*\"desenvolvedor\"\n",
      "---\n",
      "Topic: 2 Formula: 0.026*\"blog\" + 0.017*\"dados\" + 0.015*\"outros\" + 0.014*\"digital\" + 0.014*\"podcast\" + 0.014*\"resultados\" + 0.014*\"conheca\" + 0.013*\"artigo\" + 0.013*\"texto\" + 0.012*\"spotify\"\n",
      "---\n",
      "Topic: 3 Formula: 0.029*\"codigo\" + 0.021*\"pessoas\" + 0.018*\"acesse\" + 0.017*\"parte\" + 0.016*\"weareciandt\" + 0.016*\"imagem\" + 0.016*\"conhece\" + 0.016*\"pracegover\" + 0.015*\"carreira\" + 0.015*\"ciandt\"\n",
      "---\n",
      "Topic: 4 Formula: 0.016*\"futureofwork\" + 0.014*\"trabalho\" + 0.013*\"mundo\" + 0.013*\"engagedbypeople\" + 0.012*\"instation\" + 0.012*\"engagedbydata\" + 0.012*\"innovation\" + 0.012*\"with\" + 0.010*\"carreiras\" + 0.010*\"oportunidades\"\n",
      "---\n",
      "Topic: 5 Formula: 0.024*\"diretor\" + 0.018*\"garanta\" + 0.017*\"brasil\" + 0.016*\"digital\" + 0.015*\"inovacao\" + 0.015*\"vivo\" + 0.015*\"head\" + 0.013*\"sobre\" + 0.012*\"papo\" + 0.012*\"gratuito\"\n",
      "---\n",
      "Topic: 6 Formula: 0.022*\"artigo\" + 0.019*\"saiba\" + 0.017*\"orgulho\" + 0.017*\"ainda\" + 0.017*\"tech\" + 0.015*\"strategy\" + 0.015*\"clientes\" + 0.014*\"leia\" + 0.014*\"melhor\" + 0.013*\"ajudar\"\n",
      "---\n",
      "Topic: 7 Formula: 0.061*\"mutant\" + 0.052*\"live\" + 0.042*\"grupo\" + 0.023*\"garantir\" + 0.022*\"quinta\" + 0.022*\"estrategia\" + 0.021*\"agile\" + 0.021*\"confira\" + 0.019*\"presenca\" + 0.019*\"design\"\n",
      "---\n"
     ]
    }
   ],
   "source": [
    "for idx, topic in lda_model.print_topics():\n",
    "    print('Topic: {} Formula: {}'.format(idx, lda_model.print_topic(idx, 10)))\n",
    "    print('---')"
   ]
  },
  {
   "cell_type": "code",
   "execution_count": 61,
   "metadata": {},
   "outputs": [
    {
     "name": "stdout",
     "output_type": "stream",
     "text": [
      "\n",
      "Perplexity:  -9.768452920577031\n"
     ]
    }
   ],
   "source": [
    "doc_lda = lda_model[corpus_tfidf]\n",
    "\n",
    "# Compute Perplexity\n",
    "print('\\nPerplexity: ', lda_model.log_perplexity(doc_lda))  # a measure of how good the model is. lower the better."
   ]
  },
  {
   "cell_type": "code",
   "execution_count": 62,
   "metadata": {},
   "outputs": [
    {
     "name": "stdout",
     "output_type": "stream",
     "text": [
      "\n",
      "Coherence Score:  0.3758072817156895\n"
     ]
    }
   ],
   "source": [
    "\n",
    "# Compute Coherence Score\n",
    "coherence_model_lda = CoherenceModel(model=lda_model, texts=processed_docs, dictionary=id2word, coherence='c_v')\n",
    "coherence_lda = coherence_model_lda.get_coherence()\n",
    "print('\\nCoherence Score: ', coherence_lda)"
   ]
  },
  {
   "cell_type": "code",
   "execution_count": 63,
   "metadata": {},
   "outputs": [
    {
     "name": "stdout",
     "output_type": "stream",
     "text": [
      "LdaModel(num_terms=444, num_topics=8, decay=0.5, chunksize=100)\n"
     ]
    }
   ],
   "source": [
    "print(lda_model)"
   ]
  },
  {
   "cell_type": "code",
   "execution_count": 64,
   "metadata": {},
   "outputs": [],
   "source": [
    "# Visualize the topics\n",
    "# pyLDAvis.enable_notebook()\n",
    "# vis = pyLDAvis.gensim.prepare(lda_model, corpus_tfidf, id2word)\n",
    "# vis"
   ]
  },
  {
   "cell_type": "markdown",
   "metadata": {},
   "source": [
    "---"
   ]
  },
  {
   "cell_type": "markdown",
   "metadata": {},
   "source": [
    "### How to find the optimal number of topics for LDA?\n",
    "\n",
    "My approach to finding the optimal number of topics is to build many LDA models with different values of number of topics (k) and pick the one that gives the highest coherence value.\n",
    "\n",
    "Choosing a ‘k’ that marks the end of a rapid growth of topic coherence usually offers meaningful and interpretable topics. Picking an even higher value can sometimes provide more granular sub-topics.\n",
    "\n",
    "If you see the same keywords being repeated in multiple topics, it’s probably a sign that the ‘k’ is too large.\n",
    "\n",
    "The compute_coherence_values() (see below) trains multiple LDA models and provides the models and their corresponding coherence scores.\n"
   ]
  },
  {
   "cell_type": "code",
   "execution_count": 65,
   "metadata": {},
   "outputs": [],
   "source": [
    "def compute_coherence_values(dictionary, corpus, texts, limit, start=2, step=3):\n",
    "    \"\"\"\n",
    "    Compute c_v coherence for various number of topics\n",
    "\n",
    "    Parameters:\n",
    "    ----------\n",
    "    dictionary : Gensim dictionary\n",
    "    corpus : Gensim corpus\n",
    "    texts : List of input texts\n",
    "    limit : Max num of topics\n",
    "\n",
    "    Returns:\n",
    "    -------\n",
    "    model_list : List of LDA topic models\n",
    "    coherence_values : Coherence values corresponding to the LDA model with respective number of topics\n",
    "    \"\"\"\n",
    "    coherence_values = []\n",
    "    model_list = []\n",
    "    for num_topics in range(start, limit, step):\n",
    "        \n",
    "        model = gensim.models.LdaMulticore(corpus, num_topics=num_topics, id2word=id2word, passes=10, workers=4, chunksize=100,random_state=42)\n",
    "        model_list.append(model)\n",
    "        coherencemodel = CoherenceModel(model=model, texts=texts, dictionary=dictionary, coherence='c_v')\n",
    "        coherence_values.append(coherencemodel.get_coherence())\n",
    "\n",
    "    return model_list, coherence_values"
   ]
  },
  {
   "cell_type": "code",
   "execution_count": 93,
   "metadata": {},
   "outputs": [
    {
     "name": "stderr",
     "output_type": "stream",
     "text": [
      "/work/tools/anaconda3/envs/dna-brand-platform/lib/python3.8/site-packages/ipykernel/ipkernel.py:287: DeprecationWarning:\n",
      "\n",
      "`should_run_async` will not call `transform_cell` automatically in the future. Please pass the result to `transformed_cell` argument and any exception that happen during thetransform in `preprocessing_exc_tuple` in IPython 7.17 and above.\n",
      "\n"
     ]
    }
   ],
   "source": [
    "# Can take a long time to run.\n",
    "model_list, coherence_values = compute_coherence_values(dictionary=id2word, corpus=corpus_tfidf, texts=processed_docs, start=2, limit=20, step=1)"
   ]
  },
  {
   "cell_type": "code",
   "execution_count": 96,
   "metadata": {},
   "outputs": [
    {
     "data": {
      "text/plain": [
       "[0.3502769824789597,\n",
       " 0.33381719832019763,\n",
       " 0.3445305475997429,\n",
       " 0.37426211819859717,\n",
       " 0.39707681165697206,\n",
       " 0.4221404639245487,\n",
       " 0.3520168939755769,\n",
       " 0.3626967694899451,\n",
       " 0.3686601636204633,\n",
       " 0.37830534314621106,\n",
       " 0.34995674354957096,\n",
       " 0.35553704615335857,\n",
       " 0.3364533921858948,\n",
       " 0.3745622610772178,\n",
       " 0.37380940331147716,\n",
       " 0.32577097876895417,\n",
       " 0.31198033539110764,\n",
       " 0.3435785210645037]"
      ]
     },
     "execution_count": 96,
     "metadata": {},
     "output_type": "execute_result"
    }
   ],
   "source": [
    "coherence_values"
   ]
  },
  {
   "cell_type": "code",
   "execution_count": 97,
   "metadata": {},
   "outputs": [
    {
     "data": {
      "image/png": "[encoded data removed]",
      "text/plain": [
       "<Figure size 432x288 with 1 Axes>"
      ]
     },
     "metadata": {
      "needs_background": "light"
     },
     "output_type": "display_data"
    }
   ],
   "source": [
    "# Show graph\n",
    "limit=20; start=2; step=1;\n",
    "x = range(start, limit, step)\n",
    "plt.plot(x, coherence_values)\n",
    "plt.xlabel(\"Num Topics\")\n",
    "plt.ylabel(\"Coherence score\")\n",
    "plt.legend((\"coherence_values\"), loc='best')\n",
    "plt.show()"
   ]
  },
  {
   "cell_type": "code",
   "execution_count": 98,
   "metadata": {},
   "outputs": [
    {
     "name": "stdout",
     "output_type": "stream",
     "text": [
      "Num Topics = 2  has Coherence Value of 0.3503\n",
      "Num Topics = 3  has Coherence Value of 0.3338\n",
      "Num Topics = 4  has Coherence Value of 0.3445\n",
      "Num Topics = 5  has Coherence Value of 0.3743\n",
      "Num Topics = 6  has Coherence Value of 0.3971\n",
      "Num Topics = 7  has Coherence Value of 0.4221\n",
      "Num Topics = 8  has Coherence Value of 0.352\n",
      "Num Topics = 9  has Coherence Value of 0.3627\n",
      "Num Topics = 10  has Coherence Value of 0.3687\n",
      "Num Topics = 11  has Coherence Value of 0.3783\n",
      "Num Topics = 12  has Coherence Value of 0.35\n",
      "Num Topics = 13  has Coherence Value of 0.3555\n",
      "Num Topics = 14  has Coherence Value of 0.3365\n",
      "Num Topics = 15  has Coherence Value of 0.3746\n",
      "Num Topics = 16  has Coherence Value of 0.3738\n",
      "Num Topics = 17  has Coherence Value of 0.3258\n",
      "Num Topics = 18  has Coherence Value of 0.312\n",
      "Num Topics = 19  has Coherence Value of 0.3436\n"
     ]
    }
   ],
   "source": [
    "# Print the coherence scores\n",
    "for m, cv in zip(x, coherence_values):\n",
    "    print(\"Num Topics =\", m, \" has Coherence Value of\", round(cv, 4))"
   ]
  },
  {
   "cell_type": "code",
   "execution_count": 100,
   "metadata": {},
   "outputs": [
    {
     "data": {
      "text/plain": [
       "[(0,\n",
       "  '0.071*\"blog\" + 0.036*\"mulheres\" + 0.034*\"lideranca\" + 0.029*\"texto\" + 0.029*\"leia\" + 0.022*\"manager\" + 0.022*\"saiba\" + 0.020*\"artigo\" + 0.015*\"tempos\" + 0.014*\"podemos\" + 0.013*\"solucoes\" + 0.013*\"operations\" + 0.012*\"melhorar\" + 0.012*\"importante\" + 0.012*\"virtual\" + 0.012*\"tema\" + 0.011*\"produto\" + 0.010*\"tecnologia\" + 0.009*\"desafio\" + 0.009*\"agora\" + 0.009*\"integra\" + 0.009*\"plataforma\" + 0.008*\"strategy\" + 0.008*\"tech\" + 0.008*\"colaboracao\" + 0.008*\"cesar\" + 0.008*\"automacao\" + 0.008*\"operacoes\" + 0.008*\"diversas\" + 0.007*\"experiencia\"'),\n",
       " (1,\n",
       "  '0.016*\"voce\" + 0.011*\"link\" + 0.011*\"gente\" + 0.011*\"hoje\" + 0.011*\"sobre\" + 0.010*\"aqui\" + 0.009*\"live\" + 0.009*\"ainda\" + 0.009*\"tudo\" + 0.009*\"programa\" + 0.009*\"http\" + 0.009*\"vamos\" + 0.008*\"vemprazup\" + 0.008*\"open\" + 0.008*\"inscreva\" + 0.008*\"fazer\" + 0.008*\"evento\" + 0.008*\"confira\" + 0.008*\"vagas\" + 0.007*\"quer\" + 0.007*\"agora\" + 0.007*\"nesse\" + 0.007*\"todos\" + 0.007*\"venha\" + 0.007*\"tecnologia\" + 0.006*\"mundo\" + 0.006*\"lugar\" + 0.006*\"pessoas\" + 0.006*\"semana\" + 0.006*\"grupo\"'),\n",
       " (2,\n",
       "  '0.020*\"growth\" + 0.018*\"digital\" + 0.017*\"dados\" + 0.017*\"with\" + 0.014*\"global\" + 0.013*\"innovation\" + 0.013*\"power\" + 0.013*\"infinite\" + 0.013*\"more\" + 0.012*\"framework\" + 0.012*\"that\" + 0.012*\"neste\" + 0.011*\"setembro\" + 0.011*\"podcast\" + 0.011*\"pode\" + 0.011*\"product\" + 0.010*\"conheca\" + 0.010*\"clientes\" + 0.010*\"canal\" + 0.010*\"estrategias\" + 0.009*\"conceito\" + 0.009*\"spotify\" + 0.009*\"possivel\" + 0.009*\"trazer\" + 0.009*\"webinar\" + 0.009*\"problemas\" + 0.009*\"solucoes\" + 0.009*\"empresas\" + 0.008*\"melhor\" + 0.008*\"strategy\"'),\n",
       " (3,\n",
       "  '0.020*\"transformacao\" + 0.017*\"empresas\" + 0.016*\"digital\" + 0.014*\"brasil\" + 0.014*\"impacto\" + 0.013*\"acesse\" + 0.013*\"melhores\" + 0.012*\"microsoft\" + 0.012*\"pessoas\" + 0.012*\"novo\" + 0.011*\"conheca\" + 0.011*\"estao\" + 0.010*\"sobre\" + 0.010*\"negocios\" + 0.010*\"diretor\" + 0.010*\"head\" + 0.010*\"tecnologia\" + 0.009*\"proximo\" + 0.009*\"inscreva\" + 0.009*\"cenario\" + 0.009*\"julho\" + 0.008*\"agosto\" + 0.008*\"evento\" + 0.008*\"imagem\" + 0.008*\"observamos\" + 0.008*\"conference\" + 0.008*\"negocio\" + 0.007*\"agile\" + 0.007*\"impactos\" + 0.007*\"sistemas\"'),\n",
       " (4,\n",
       "  '0.022*\"futureofwork\" + 0.019*\"engagedbypeople\" + 0.018*\"instation\" + 0.018*\"engagedbydata\" + 0.016*\"oportunidades\" + 0.015*\"globalcommunity\" + 0.014*\"trabalho\" + 0.014*\"equipe\" + 0.013*\"carreiras\" + 0.013*\"vagas\" + 0.011*\"innovation\" + 0.011*\"engagedbyaction\" + 0.010*\"people\" + 0.010*\"lado\" + 0.010*\"techtalents\" + 0.010*\"gamechangers\" + 0.010*\"recrutamento\" + 0.010*\"forgamechangers\" + 0.010*\"invilliaacademy\" + 0.009*\"talentos\" + 0.009*\"forma\" + 0.009*\"manter\" + 0.009*\"ertpytj\" + 0.009*\"performance\" + 0.009*\"garantir\" + 0.009*\"maneira\" + 0.009*\"metodologia\" + 0.008*\"unica\" + 0.008*\"unicornios\" + 0.008*\"descubra\"'),\n",
       " (5,\n",
       "  '0.016*\"diretor\" + 0.016*\"brasil\" + 0.015*\"inovacao\" + 0.015*\"digital\" + 0.013*\"data\" + 0.013*\"desenvolvedor\" + 0.012*\"design\" + 0.011*\"negocio\" + 0.011*\"estudo\" + 0.010*\"inscricao\" + 0.009*\"sobre\" + 0.009*\"analytics\" + 0.009*\"saiba\" + 0.009*\"papo\" + 0.009*\"entao\" + 0.009*\"sendo\" + 0.009*\"estrategia\" + 0.009*\"orgulho\" + 0.009*\"head\" + 0.009*\"ajudar\" + 0.008*\"toda\" + 0.008*\"science\" + 0.008*\"accenture\" + 0.008*\"bate\" + 0.008*\"lean\" + 0.008*\"america\" + 0.007*\"digitais\" + 0.007*\"produtos\" + 0.007*\"valor\" + 0.007*\"premio\"'),\n",
       " (6,\n",
       "  '0.042*\"mutant\" + 0.028*\"live\" + 0.024*\"site\" + 0.023*\"conhece\" + 0.023*\"oportunidade\" + 0.022*\"busca\" + 0.019*\"tech\" + 0.019*\"strategy\" + 0.019*\"neste\" + 0.018*\"conteudos\" + 0.018*\"solucao\" + 0.017*\"nova\" + 0.016*\"artigo\" + 0.016*\"baixe\" + 0.015*\"saiba\" + 0.015*\"empresa\" + 0.014*\"recursos\" + 0.014*\"acesse\" + 0.014*\"desenvolvimento\" + 0.013*\"sido\" + 0.012*\"fazer\" + 0.012*\"presenca\" + 0.011*\"crescimento\" + 0.011*\"testes\" + 0.011*\"negocios\" + 0.010*\"confira\" + 0.010*\"tecnologias\" + 0.010*\"principais\" + 0.009*\"itservices\" + 0.009*\"plataformas\"')]"
      ]
     },
     "execution_count": 100,
     "metadata": {},
     "output_type": "execute_result"
    }
   ],
   "source": [
    "# Select the model and print the topics\n",
    "optimal_model = model_list[5]\n",
    "model_topics = optimal_model.show_topics(formatted=True)\n",
    "optimal_model.print_topics(num_words=30)"
   ]
  },
  {
   "cell_type": "markdown",
   "metadata": {},
   "source": [
    "---"
   ]
  },
  {
   "cell_type": "markdown",
   "metadata": {},
   "source": [
    "### Finding the dominant topic in each sentence\n",
    "\n",
    "One of the practical application of topic modeling is to determine what topic a given document is about.\n",
    "\n",
    "To find that, we find the topic number that has the highest percentage contribution in that document.\n",
    "\n",
    "The format_topics_sentences() function below nicely aggregates this information in a presentable table."
   ]
  },
  {
   "cell_type": "code",
   "execution_count": 101,
   "metadata": {},
   "outputs": [],
   "source": [
    "data = posts['post_text_cleansed'].values\n",
    "\n",
    "def format_topics_sentences(ldamodel=lda_model, corpus=corpus, texts=data):\n",
    "    # Init output\n",
    "    sent_topics_df = pd.DataFrame()\n",
    "\n",
    "    # Get main topic in each document\n",
    "    for i, row in enumerate(ldamodel[corpus]):\n",
    "        row = sorted(row, key=lambda x: (x[1]), reverse=True)\n",
    "        # Get the Dominant topic, Perc Contribution and Keywords for each document\n",
    "        for j, (topic_num, prop_topic) in enumerate(row):\n",
    "            if j == 0:  # => dominant topic\n",
    "                wp = ldamodel.show_topic(topic_num)\n",
    "                topic_keywords = \", \".join([word for word, prop in wp])\n",
    "                sent_topics_df = sent_topics_df.append(pd.Series([int(topic_num), round(prop_topic,4), topic_keywords]), ignore_index=True)\n",
    "            else:\n",
    "                break\n",
    "    sent_topics_df.columns = ['Dominant_Topic', 'Perc_Contribution', 'Topic_Keywords']\n",
    "\n",
    "    # Add original text to the end of the output\n",
    "    contents = pd.Series(texts)\n",
    "    sent_topics_df = pd.concat([sent_topics_df, contents], axis=1)\n",
    "    return(sent_topics_df)\n",
    "\n",
    "\n",
    "\n",
    "df_topic_sents_keywords = format_topics_sentences(ldamodel=optimal_model, corpus=corpus_tfidf, texts=data)\n",
    "\n",
    "# Format\n",
    "df_dominant_topic = df_topic_sents_keywords.reset_index()\n",
    "df_dominant_topic.columns = ['Document_No', 'Dominant_Topic', 'Topic_Perc_Contrib', 'Keywords', 'Text']"
   ]
  },
  {
   "cell_type": "code",
   "execution_count": 102,
   "metadata": {},
   "outputs": [
    {
     "data": {
      "text/html": [
       "<div>\n",
       "<style scoped>\n",
       "    .dataframe tbody tr th:only-of-type {\n",
       "        vertical-align: middle;\n",
       "    }\n",
       "\n",
       "    .dataframe tbody tr th {\n",
       "        vertical-align: top;\n",
       "    }\n",
       "\n",
       "    .dataframe thead th {\n",
       "        text-align: right;\n",
       "    }\n",
       "</style>\n",
       "<table border=\"1\" class=\"dataframe\">\n",
       "  <thead>\n",
       "    <tr style=\"text-align: right;\">\n",
       "      <th></th>\n",
       "      <th>Document_No</th>\n",
       "      <th>Dominant_Topic</th>\n",
       "      <th>Topic_Perc_Contrib</th>\n",
       "      <th>Keywords</th>\n",
       "      <th>Text</th>\n",
       "    </tr>\n",
       "  </thead>\n",
       "  <tbody>\n",
       "    <tr>\n",
       "      <th>49</th>\n",
       "      <td>49</td>\n",
       "      <td>0.0</td>\n",
       "      <td>0.7600</td>\n",
       "      <td>blog, mulheres, lideranca, texto, leia, manager, saiba, artigo, tempos, podemos</td>\n",
       "      <td>privacyops aumenta  habilidade   organizacao  atender diversas regulamentacoes  privacidade   auxilio  alta tecnologia leia  artigo  saiba    g wq pk   strategy tech everisd</td>\n",
       "    </tr>\n",
       "    <tr>\n",
       "      <th>71</th>\n",
       "      <td>71</td>\n",
       "      <td>0.0</td>\n",
       "      <td>0.7518</td>\n",
       "      <td>blog, mulheres, lideranca, texto, leia, manager, saiba, artigo, tempos, podemos</td>\n",
       "      <td>automacao virtual finalmente abrange  ampla gama  tecnologias  diferentes graus  sofisticacao  vao desde solucoes  negocios ate automacao cognitiva   gxkpg f   hybridoperations transformacaodigital</td>\n",
       "    </tr>\n",
       "    <tr>\n",
       "      <th>72</th>\n",
       "      <td>72</td>\n",
       "      <td>0.0</td>\n",
       "      <td>0.4979</td>\n",
       "      <td>blog, mulheres, lideranca, texto, leia, manager, saiba, artigo, tempos, podemos</td>\n",
       "      <td>nomeada global partner of the year  outsystems reconhecendo  sucesso    trazer  plataforma outsystems  novas geografias  industrias eduardo romano  presente  evento onde  premio  entregue     s</td>\n",
       "    </tr>\n",
       "    <tr>\n",
       "      <th>89</th>\n",
       "      <td>89</td>\n",
       "      <td>0.0</td>\n",
       "      <td>0.1429</td>\n",
       "      <td>blog, mulheres, lideranca, texto, leia, manager, saiba, artigo, tempos, podemos</td>\n",
       "      <td></td>\n",
       "    </tr>\n",
       "    <tr>\n",
       "      <th>98</th>\n",
       "      <td>98</td>\n",
       "      <td>0.0</td>\n",
       "      <td>0.7518</td>\n",
       "      <td>blog, mulheres, lideranca, texto, leia, manager, saiba, artigo, tempos, podemos</td>\n",
       "      <td>automacao virtual finalmente abrange  ampla gama  tecnologias  diferentes graus  sofisticacao  vao desde solucoes  negocios ate automacao cognitiva   gxkpg f   hybridoperations transformacaodigital</td>\n",
       "    </tr>\n",
       "  </tbody>\n",
       "</table>\n",
       "</div>"
      ],
      "text/plain": [
       "    Document_No  Dominant_Topic  Topic_Perc_Contrib  \\\n",
       "49           49             0.0              0.7600   \n",
       "71           71             0.0              0.7518   \n",
       "72           72             0.0              0.4979   \n",
       "89           89             0.0              0.1429   \n",
       "98           98             0.0              0.7518   \n",
       "\n",
       "                                                                           Keywords  \\\n",
       "49  blog, mulheres, lideranca, texto, leia, manager, saiba, artigo, tempos, podemos   \n",
       "71  blog, mulheres, lideranca, texto, leia, manager, saiba, artigo, tempos, podemos   \n",
       "72  blog, mulheres, lideranca, texto, leia, manager, saiba, artigo, tempos, podemos   \n",
       "89  blog, mulheres, lideranca, texto, leia, manager, saiba, artigo, tempos, podemos   \n",
       "98  blog, mulheres, lideranca, texto, leia, manager, saiba, artigo, tempos, podemos   \n",
       "\n",
       "                                                                                                                                                                                                      Text  \n",
       "49                          privacyops aumenta  habilidade   organizacao  atender diversas regulamentacoes  privacidade   auxilio  alta tecnologia leia  artigo  saiba    g wq pk   strategy tech everisd   \n",
       "71   automacao virtual finalmente abrange  ampla gama  tecnologias  diferentes graus  sofisticacao  vao desde solucoes  negocios ate automacao cognitiva   gxkpg f   hybridoperations transformacaodigital  \n",
       "72      nomeada global partner of the year  outsystems reconhecendo  sucesso    trazer  plataforma outsystems  novas geografias  industrias eduardo romano  presente  evento onde  premio  entregue     s   \n",
       "89                                                                                                                                                                                                          \n",
       "98   automacao virtual finalmente abrange  ampla gama  tecnologias  diferentes graus  sofisticacao  vao desde solucoes  negocios ate automacao cognitiva   gxkpg f   hybridoperations transformacaodigital  "
      ]
     },
     "execution_count": 102,
     "metadata": {},
     "output_type": "execute_result"
    }
   ],
   "source": [
    "df_dominant_topic[(df_dominant_topic.Dominant_Topic == 0)].head(5)"
   ]
  },
  {
   "cell_type": "code",
   "execution_count": 103,
   "metadata": {},
   "outputs": [
    {
     "name": "stderr",
     "output_type": "stream",
     "text": [
      "/work/tools/anaconda3/envs/dna-brand-platform/lib/python3.8/site-packages/ipykernel/ipkernel.py:287: DeprecationWarning:\n",
      "\n",
      "`should_run_async` will not call `transform_cell` automatically in the future. Please pass the result to `transformed_cell` argument and any exception that happen during thetransform in `preprocessing_exc_tuple` in IPython 7.17 and above.\n",
      "\n"
     ]
    },
    {
     "data": {
      "text/html": [
       "<div>\n",
       "<style scoped>\n",
       "    .dataframe tbody tr th:only-of-type {\n",
       "        vertical-align: middle;\n",
       "    }\n",
       "\n",
       "    .dataframe tbody tr th {\n",
       "        vertical-align: top;\n",
       "    }\n",
       "\n",
       "    .dataframe thead th {\n",
       "        text-align: right;\n",
       "    }\n",
       "</style>\n",
       "<table border=\"1\" class=\"dataframe\">\n",
       "  <thead>\n",
       "    <tr style=\"text-align: right;\">\n",
       "      <th></th>\n",
       "      <th>Document_No</th>\n",
       "      <th>Dominant_Topic</th>\n",
       "      <th>Topic_Perc_Contrib</th>\n",
       "      <th>Keywords</th>\n",
       "      <th>Text</th>\n",
       "    </tr>\n",
       "  </thead>\n",
       "  <tbody>\n",
       "    <tr>\n",
       "      <th>4</th>\n",
       "      <td>4</td>\n",
       "      <td>1.0</td>\n",
       "      <td>0.7821</td>\n",
       "      <td>voce, link, gente, hoje, sobre, aqui, live, ainda, tudo, programa</td>\n",
       "      <td>episodio  hoje  serie wakeup adam aprendeu  priorizacao  automacao inteligente economizam tempo  tambem aumentam  produtividade acesse  video  veja   planejando  futuro   gnp iuc    everiswakeup</td>\n",
       "    </tr>\n",
       "    <tr>\n",
       "      <th>6</th>\n",
       "      <td>6</td>\n",
       "      <td>1.0</td>\n",
       "      <td>0.7950</td>\n",
       "      <td>voce, link, gente, hoje, sobre, aqui, live, ainda, tudo, programa</td>\n",
       "      <td>startup pode ser  proxima  representar  brasil buscamos projetos  areas  banking telecom utilities energy retail consumergoods   trabalhando  mudar  setores conheca    edicao    agora queremos conhecer voce inscreva    gez hic   openinnovation oic</td>\n",
       "    </tr>\n",
       "    <tr>\n",
       "      <th>12</th>\n",
       "      <td>12</td>\n",
       "      <td>1.0</td>\n",
       "      <td>0.5683</td>\n",
       "      <td>voce, link, gente, hoje, sobre, aqui, live, ainda, tudo, programa</td>\n",
       "      <td>parceria   mitsloanreviewbrasil convidamos especialistas  inteligenciaartificial  debater sobre  principais impactos  ia  brasil  encontro sera  dia    outubro  h  inscreva  http   everismit l   estudioia</td>\n",
       "    </tr>\n",
       "    <tr>\n",
       "      <th>15</th>\n",
       "      <td>15</td>\n",
       "      <td>1.0</td>\n",
       "      <td>0.3850</td>\n",
       "      <td>voce, link, gente, hoje, sobre, aqui, live, ainda, tudo, programa</td>\n",
       "      <td>parceria   mitsloanreviewbrasil convidamos especialistas  inteligenciaartificial  america latina  debater sobre  principais impactos desta tecnologia  brasil  evento online sera  dia    outubro   h  inscreva  http   everismit l   estudioia</td>\n",
       "    </tr>\n",
       "    <tr>\n",
       "      <th>23</th>\n",
       "      <td>23</td>\n",
       "      <td>1.0</td>\n",
       "      <td>0.5277</td>\n",
       "      <td>voce, link, gente, hoje, sobre, aqui, live, ainda, tudo, programa</td>\n",
       "      <td>buscarmos startups   projeto   setores  banking telecom utilities energy retail consumergoods     momento  fazer negocio inscreva     edicao \\xa open\\xa innovation\\xa contest &gt;[?]conheca  sobre  competicao mundial   gez hic   openinnovation oic</td>\n",
       "    </tr>\n",
       "  </tbody>\n",
       "</table>\n",
       "</div>"
      ],
      "text/plain": [
       "    Document_No  Dominant_Topic  Topic_Perc_Contrib  \\\n",
       "4             4             1.0              0.7821   \n",
       "6             6             1.0              0.7950   \n",
       "12           12             1.0              0.5683   \n",
       "15           15             1.0              0.3850   \n",
       "23           23             1.0              0.5277   \n",
       "\n",
       "                                                             Keywords  \\\n",
       "4   voce, link, gente, hoje, sobre, aqui, live, ainda, tudo, programa   \n",
       "6   voce, link, gente, hoje, sobre, aqui, live, ainda, tudo, programa   \n",
       "12  voce, link, gente, hoje, sobre, aqui, live, ainda, tudo, programa   \n",
       "15  voce, link, gente, hoje, sobre, aqui, live, ainda, tudo, programa   \n",
       "23  voce, link, gente, hoje, sobre, aqui, live, ainda, tudo, programa   \n",
       "\n",
       "                                                                                                                                                                                                                                                         Text  \n",
       "4                                                          episodio  hoje  serie wakeup adam aprendeu  priorizacao  automacao inteligente economizam tempo  tambem aumentam  produtividade acesse  video  veja   planejando  futuro   gnp iuc    everiswakeup  \n",
       "6    startup pode ser  proxima  representar  brasil buscamos projetos  areas  banking telecom utilities energy retail consumergoods   trabalhando  mudar  setores conheca    edicao    agora queremos conhecer voce inscreva    gez hic   openinnovation oic   \n",
       "12                                               parceria   mitsloanreviewbrasil convidamos especialistas  inteligenciaartificial  debater sobre  principais impactos  ia  brasil  encontro sera  dia    outubro  h  inscreva  http   everismit l   estudioia  \n",
       "15            parceria   mitsloanreviewbrasil convidamos especialistas  inteligenciaartificial  america latina  debater sobre  principais impactos desta tecnologia  brasil  evento online sera  dia    outubro   h  inscreva  http   everismit l   estudioia  \n",
       "23      buscarmos startups   projeto   setores  banking telecom utilities energy retail consumergoods     momento  fazer negocio inscreva     edicao \\xa open\\xa innovation\\xa contest >[?]conheca  sobre  competicao mundial   gez hic   openinnovation oic   "
      ]
     },
     "execution_count": 103,
     "metadata": {},
     "output_type": "execute_result"
    }
   ],
   "source": [
    "df_dominant_topic[(df_dominant_topic.Dominant_Topic == 1)].head(5)"
   ]
  },
  {
   "cell_type": "code",
   "execution_count": 104,
   "metadata": {},
   "outputs": [
    {
     "name": "stderr",
     "output_type": "stream",
     "text": [
      "/work/tools/anaconda3/envs/dna-brand-platform/lib/python3.8/site-packages/ipykernel/ipkernel.py:287: DeprecationWarning:\n",
      "\n",
      "`should_run_async` will not call `transform_cell` automatically in the future. Please pass the result to `transformed_cell` argument and any exception that happen during thetransform in `preprocessing_exc_tuple` in IPython 7.17 and above.\n",
      "\n"
     ]
    },
    {
     "data": {
      "text/html": [
       "<div>\n",
       "<style scoped>\n",
       "    .dataframe tbody tr th:only-of-type {\n",
       "        vertical-align: middle;\n",
       "    }\n",
       "\n",
       "    .dataframe tbody tr th {\n",
       "        vertical-align: top;\n",
       "    }\n",
       "\n",
       "    .dataframe thead th {\n",
       "        text-align: right;\n",
       "    }\n",
       "</style>\n",
       "<table border=\"1\" class=\"dataframe\">\n",
       "  <thead>\n",
       "    <tr style=\"text-align: right;\">\n",
       "      <th></th>\n",
       "      <th>Document_No</th>\n",
       "      <th>Dominant_Topic</th>\n",
       "      <th>Topic_Perc_Contrib</th>\n",
       "      <th>Keywords</th>\n",
       "      <th>Text</th>\n",
       "    </tr>\n",
       "  </thead>\n",
       "  <tbody>\n",
       "    <tr>\n",
       "      <th>1</th>\n",
       "      <td>1</td>\n",
       "      <td>2.0</td>\n",
       "      <td>0.7772</td>\n",
       "      <td>growth, digital, dados, with, global, innovation, power, infinite, more, framework</td>\n",
       "      <td>neste webinar especialistas   falarao sobre  estrategias  qualidade    poderao melhorar  implementacao  sre inscreva    g hrp p  itservices</td>\n",
       "    </tr>\n",
       "    <tr>\n",
       "      <th>3</th>\n",
       "      <td>3</td>\n",
       "      <td>2.0</td>\n",
       "      <td>0.7772</td>\n",
       "      <td>growth, digital, dados, with, global, innovation, power, infinite, more, framework</td>\n",
       "      <td>neste webinar especialistas   falarao sobre  estrategias  qualidade    poderao melhorar  implementacao  sre inscreva    g hrp p  itservices</td>\n",
       "    </tr>\n",
       "    <tr>\n",
       "      <th>5</th>\n",
       "      <td>5</td>\n",
       "      <td>2.0</td>\n",
       "      <td>0.7958</td>\n",
       "      <td>growth, digital, dados, with, global, innovation, power, infinite, more, framework</td>\n",
       "      <td>podcast  interessante  especialistas   sobre  uso  dados  desenhar  melhor experiencia  cliente spotify spoti fi  hkweeo google    fjzqfbapple apple co  ivqjl deezer    hnmodjtunein    rkuuj    everistalkspodcast strategy tech</td>\n",
       "    </tr>\n",
       "    <tr>\n",
       "      <th>9</th>\n",
       "      <td>9</td>\n",
       "      <td>2.0</td>\n",
       "      <td>0.8085</td>\n",
       "      <td>growth, digital, dados, with, global, innovation, power, infinite, more, framework</td>\n",
       "      <td>neste podcast abordamos  importancia  governanca  dados    pode fazer diferenca  qualidade  dados  serao utilizados  negocio  tomada  decisoes spotify spoti fi  lzn abgoogle   gjkzw eapple apple co  hnoguldeezer   gi  hi tunein   gsfui f   everistalkspodcast strategy tech</td>\n",
       "    </tr>\n",
       "    <tr>\n",
       "      <th>13</th>\n",
       "      <td>13</td>\n",
       "      <td>2.0</td>\n",
       "      <td>0.7900</td>\n",
       "      <td>growth, digital, dados, with, global, innovation, power, infinite, more, framework</td>\n",
       "      <td>neste webinar debatemos   muda  rotina diaria  empresas   lei geral  protecao  dados pessoais  vigor   fica  papel  dpo data protection officer  conteudo  disponivel acesse agora    gsxwptw   cybersecurity</td>\n",
       "    </tr>\n",
       "  </tbody>\n",
       "</table>\n",
       "</div>"
      ],
      "text/plain": [
       "    Document_No  Dominant_Topic  Topic_Perc_Contrib  \\\n",
       "1             1             2.0              0.7772   \n",
       "3             3             2.0              0.7772   \n",
       "5             5             2.0              0.7958   \n",
       "9             9             2.0              0.8085   \n",
       "13           13             2.0              0.7900   \n",
       "\n",
       "                                                                              Keywords  \\\n",
       "1   growth, digital, dados, with, global, innovation, power, infinite, more, framework   \n",
       "3   growth, digital, dados, with, global, innovation, power, infinite, more, framework   \n",
       "5   growth, digital, dados, with, global, innovation, power, infinite, more, framework   \n",
       "9   growth, digital, dados, with, global, innovation, power, infinite, more, framework   \n",
       "13  growth, digital, dados, with, global, innovation, power, infinite, more, framework   \n",
       "\n",
       "                                                                                                                                                                                                                                                                                 Text  \n",
       "1                                                                                                                                         neste webinar especialistas   falarao sobre  estrategias  qualidade    poderao melhorar  implementacao  sre inscreva    g hrp p  itservices  \n",
       "3                                                                                                                                         neste webinar especialistas   falarao sobre  estrategias  qualidade    poderao melhorar  implementacao  sre inscreva    g hrp p  itservices  \n",
       "5                                                  podcast  interessante  especialistas   sobre  uso  dados  desenhar  melhor experiencia  cliente spotify spoti fi  hkweeo google    fjzqfbapple apple co  ivqjl deezer    hnmodjtunein    rkuuj    everistalkspodcast strategy tech  \n",
       "9   neste podcast abordamos  importancia  governanca  dados    pode fazer diferenca  qualidade  dados  serao utilizados  negocio  tomada  decisoes spotify spoti fi  lzn abgoogle   gjkzw eapple apple co  hnoguldeezer   gi  hi tunein   gsfui f   everistalkspodcast strategy tech   \n",
       "13                                                                      neste webinar debatemos   muda  rotina diaria  empresas   lei geral  protecao  dados pessoais  vigor   fica  papel  dpo data protection officer  conteudo  disponivel acesse agora    gsxwptw   cybersecurity  "
      ]
     },
     "execution_count": 104,
     "metadata": {},
     "output_type": "execute_result"
    }
   ],
   "source": [
    "df_dominant_topic[(df_dominant_topic.Dominant_Topic == 2)].head(5)"
   ]
  },
  {
   "cell_type": "markdown",
   "metadata": {},
   "source": [
    "### Find the most representative document for each topic\n",
    "\n",
    "Sometimes just the topic keywords may not be enough to make sense of what a topic is about. So, to help with understanding the topic, you can find the documents a given topic has contributed to the most and infer the topic by reading that document. Whew!!"
   ]
  },
  {
   "cell_type": "code",
   "execution_count": 105,
   "metadata": {},
   "outputs": [
    {
     "name": "stderr",
     "output_type": "stream",
     "text": [
      "/work/tools/anaconda3/envs/dna-brand-platform/lib/python3.8/site-packages/ipykernel/ipkernel.py:287: DeprecationWarning:\n",
      "\n",
      "`should_run_async` will not call `transform_cell` automatically in the future. Please pass the result to `transformed_cell` argument and any exception that happen during thetransform in `preprocessing_exc_tuple` in IPython 7.17 and above.\n",
      "\n"
     ]
    },
    {
     "data": {
      "text/html": [
       "<div>\n",
       "<style scoped>\n",
       "    .dataframe tbody tr th:only-of-type {\n",
       "        vertical-align: middle;\n",
       "    }\n",
       "\n",
       "    .dataframe tbody tr th {\n",
       "        vertical-align: top;\n",
       "    }\n",
       "\n",
       "    .dataframe thead th {\n",
       "        text-align: right;\n",
       "    }\n",
       "</style>\n",
       "<table border=\"1\" class=\"dataframe\">\n",
       "  <thead>\n",
       "    <tr style=\"text-align: right;\">\n",
       "      <th></th>\n",
       "      <th>Topic_Num</th>\n",
       "      <th>Topic_Perc_Contrib</th>\n",
       "      <th>Keywords</th>\n",
       "      <th>Text</th>\n",
       "    </tr>\n",
       "  </thead>\n",
       "  <tbody>\n",
       "    <tr>\n",
       "      <th>0</th>\n",
       "      <td>0.0</td>\n",
       "      <td>0.8236</td>\n",
       "      <td>blog, mulheres, lideranca, texto, leia, manager, saiba, artigo, tempos, podemos</td>\n",
       "      <td>estimular  mindset  protagonismo traz  tona  poder  escolha  pessoas   empresas  constroi  bases   cada individuo crie  propria jornada  evolucao saiba  sobre  assunto  artigo   senior business partner manager joceline abe seixas    people development strategist taliza weiss leia agora    by</td>\n",
       "    </tr>\n",
       "    <tr>\n",
       "      <th>1</th>\n",
       "      <td>1.0</td>\n",
       "      <td>0.8620</td>\n",
       "      <td>voce, link, gente, hoje, sobre, aqui, live, ainda, tudo, programa</td>\n",
       "      <td>pra fechar  chave  ouro    edicao  zup open talks  convidada  honra   loiane groner business analysis senior manager  citibank  possui     anos  experiencia  ti  areas  especializacao incluem java tecnologias sencha ext js angular  desenvolvimento hibrido  dispositivos moveis  phonegap  ionic apaixonada  compartilhar conhecimento  estara   gente  proxima quinta feira   hrs falando sobre java    spring  pratica  vejo la inscreva  agora nesse webinar gratuito  exclusivo clicando  link    xgqqtk</td>\n",
       "    </tr>\n",
       "    <tr>\n",
       "      <th>2</th>\n",
       "      <td>2.0</td>\n",
       "      <td>0.8351</td>\n",
       "      <td>growth, digital, dados, with, global, innovation, power, infinite, more, framework</td>\n",
       "      <td>marcelo ficotto digital experience manager    maximiliano marco  luz director head of digital experience brazil   apresentaram  conceito \"liquid digital workplace trabalho remoto produtivo  inclusivo\"   setor bancario hoje  transformacao digital   home office   ensinado  nao importa  onde trabalhamos  possivel ser produtivo  executar  casa tarefas rotineiras usando tecnologia  desafio  aprendermos  ser inclusivos  simplificar  tarefas diarias incluindo  gerenciamento  equipes   strategy tech</td>\n",
       "    </tr>\n",
       "    <tr>\n",
       "      <th>3</th>\n",
       "      <td>3.0</td>\n",
       "      <td>0.8529</td>\n",
       "      <td>transformacao, empresas, digital, brasil, impacto, acesse, melhores, microsoft, pessoas, novo</td>\n",
       "      <td>digital conference promovera discussoes referente  futuro  transformacao digital   tendencias   novo cenario  proximo dia    julho   h   tema utilities      impacto  transformacao alem  tecnologia sera abordado   painel executivo  silvio antunes head  utilities   brasil  sera responsavel  moderar  discussao  dario almeida gerente executivo  arquitetura  sistemas  ccee igor ripoll vp utilities manufatura  recursos naturais  salesforce    tarso andreo filho head  salesforce   brasil acesse   inscreva    vg   everisdigitalconference</td>\n",
       "    </tr>\n",
       "    <tr>\n",
       "      <th>4</th>\n",
       "      <td>4.0</td>\n",
       "      <td>0.8783</td>\n",
       "      <td>futureofwork, engagedbypeople, instation, engagedbydata, oportunidades, globalcommunity, trabalho, equipe, carreiras, vagas</td>\n",
       "      <td>diferentes  tres palavras action   capacidade   adaptar  desafios  poder  reagir  tecnologia  metodologia data     move  ensina  faz melhorar sempre people    conecta tudo   inteligencia  criatividade   faz tao unicos conheca  pouco  sobre    vaga  dezenas  outras   ertpytj inovamos  gamechangers startups unicornios cultura  trabalho conectado instation forma exclusiva  performar globalgrowthframework reskill continuo invilliaacademy beneficios unicos infinitepowers novo plano  evolucao  carreiras pei  engagedbydata engagedbypeople bestmindsbestwhere vagas oportunidades carreiras globalcommunity infinitedigitalpower recrutamento ti java techtalents futureofwork</td>\n",
       "    </tr>\n",
       "  </tbody>\n",
       "</table>\n",
       "</div>"
      ],
      "text/plain": [
       "   Topic_Num  Topic_Perc_Contrib  \\\n",
       "0        0.0              0.8236   \n",
       "1        1.0              0.8620   \n",
       "2        2.0              0.8351   \n",
       "3        3.0              0.8529   \n",
       "4        4.0              0.8783   \n",
       "\n",
       "                                                                                                                      Keywords  \\\n",
       "0                                              blog, mulheres, lideranca, texto, leia, manager, saiba, artigo, tempos, podemos   \n",
       "1                                                            voce, link, gente, hoje, sobre, aqui, live, ainda, tudo, programa   \n",
       "2                                           growth, digital, dados, with, global, innovation, power, infinite, more, framework   \n",
       "3                                transformacao, empresas, digital, brasil, impacto, acesse, melhores, microsoft, pessoas, novo   \n",
       "4  futureofwork, engagedbypeople, instation, engagedbydata, oportunidades, globalcommunity, trabalho, equipe, carreiras, vagas   \n",
       "\n",
       "                                                                                                                                                                                                                                                                                                                                                                                                                                                                                                                                                                                                                                                                                               Text  \n",
       "0                                                                                                                                                                                                                                                                                                                                                                                             estimular  mindset  protagonismo traz  tona  poder  escolha  pessoas   empresas  constroi  bases   cada individuo crie  propria jornada  evolucao saiba  sobre  assunto  artigo   senior business partner manager joceline abe seixas    people development strategist taliza weiss leia agora    by   \n",
       "1                                                                                                                                                                             pra fechar  chave  ouro    edicao  zup open talks  convidada  honra   loiane groner business analysis senior manager  citibank  possui     anos  experiencia  ti  areas  especializacao incluem java tecnologias sencha ext js angular  desenvolvimento hibrido  dispositivos moveis  phonegap  ionic apaixonada  compartilhar conhecimento  estara   gente  proxima quinta feira   hrs falando sobre java    spring  pratica  vejo la inscreva  agora nesse webinar gratuito  exclusivo clicando  link    xgqqtk      \n",
       "2                                                                                                                                                                                 marcelo ficotto digital experience manager    maximiliano marco  luz director head of digital experience brazil   apresentaram  conceito \"liquid digital workplace trabalho remoto produtivo  inclusivo\"   setor bancario hoje  transformacao digital   home office   ensinado  nao importa  onde trabalhamos  possivel ser produtivo  executar  casa tarefas rotineiras usando tecnologia  desafio  aprendermos  ser inclusivos  simplificar  tarefas diarias incluindo  gerenciamento  equipes   strategy tech   \n",
       "3                                                                                                                                           digital conference promovera discussoes referente  futuro  transformacao digital   tendencias   novo cenario  proximo dia    julho   h   tema utilities      impacto  transformacao alem  tecnologia sera abordado   painel executivo  silvio antunes head  utilities   brasil  sera responsavel  moderar  discussao  dario almeida gerente executivo  arquitetura  sistemas  ccee igor ripoll vp utilities manufatura  recursos naturais  salesforce    tarso andreo filho head  salesforce   brasil acesse   inscreva    vg   everisdigitalconference  \n",
       "4     diferentes  tres palavras action   capacidade   adaptar  desafios  poder  reagir  tecnologia  metodologia data     move  ensina  faz melhorar sempre people    conecta tudo   inteligencia  criatividade   faz tao unicos conheca  pouco  sobre    vaga  dezenas  outras   ertpytj inovamos  gamechangers startups unicornios cultura  trabalho conectado instation forma exclusiva  performar globalgrowthframework reskill continuo invilliaacademy beneficios unicos infinitepowers novo plano  evolucao  carreiras pei  engagedbydata engagedbypeople bestmindsbestwhere vagas oportunidades carreiras globalcommunity infinitedigitalpower recrutamento ti java techtalents futureofwork  "
      ]
     },
     "execution_count": 105,
     "metadata": {},
     "output_type": "execute_result"
    }
   ],
   "source": [
    "# Group top 5 sentences under each topic\n",
    "sent_topics_sorteddf_mallet = pd.DataFrame()\n",
    "\n",
    "sent_topics_outdf_grpd = df_topic_sents_keywords.groupby('Dominant_Topic')\n",
    "\n",
    "for i, grp in sent_topics_outdf_grpd:\n",
    "    sent_topics_sorteddf_mallet = pd.concat([sent_topics_sorteddf_mallet, \n",
    "                                             grp.sort_values(['Perc_Contribution'], ascending=[0]).head(1)], \n",
    "                                            axis=0)\n",
    "\n",
    "# Reset Index    \n",
    "sent_topics_sorteddf_mallet.reset_index(drop=True, inplace=True)\n",
    "\n",
    "# Format\n",
    "sent_topics_sorteddf_mallet.columns = ['Topic_Num', \"Topic_Perc_Contrib\", \"Keywords\", \"Text\"]\n",
    "\n",
    "# Show\n",
    "sent_topics_sorteddf_mallet.head()"
   ]
  },
  {
   "cell_type": "markdown",
   "metadata": {},
   "source": [
    "### Topic distribution across documents"
   ]
  },
  {
   "cell_type": "code",
   "execution_count": 106,
   "metadata": {},
   "outputs": [
    {
     "name": "stderr",
     "output_type": "stream",
     "text": [
      "/work/tools/anaconda3/envs/dna-brand-platform/lib/python3.8/site-packages/ipykernel/ipkernel.py:287: DeprecationWarning:\n",
      "\n",
      "`should_run_async` will not call `transform_cell` automatically in the future. Please pass the result to `transformed_cell` argument and any exception that happen during thetransform in `preprocessing_exc_tuple` in IPython 7.17 and above.\n",
      "\n"
     ]
    },
    {
     "data": {
      "text/html": [
       "<div>\n",
       "<style scoped>\n",
       "    .dataframe tbody tr th:only-of-type {\n",
       "        vertical-align: middle;\n",
       "    }\n",
       "\n",
       "    .dataframe tbody tr th {\n",
       "        vertical-align: top;\n",
       "    }\n",
       "\n",
       "    .dataframe thead th {\n",
       "        text-align: right;\n",
       "    }\n",
       "</style>\n",
       "<table border=\"1\" class=\"dataframe\">\n",
       "  <thead>\n",
       "    <tr style=\"text-align: right;\">\n",
       "      <th></th>\n",
       "      <th>Dominant_Topic</th>\n",
       "      <th>Topic_Keywords</th>\n",
       "      <th>Num_Documents</th>\n",
       "      <th>Perc_Documents</th>\n",
       "    </tr>\n",
       "  </thead>\n",
       "  <tbody>\n",
       "    <tr>\n",
       "      <th>0.0</th>\n",
       "      <td>5.0</td>\n",
       "      <td>diretor, brasil, inovacao, digital, data, desenvolvedor, design, negocio, estudo, inscricao</td>\n",
       "      <td>42.0</td>\n",
       "      <td>0.0354</td>\n",
       "    </tr>\n",
       "    <tr>\n",
       "      <th>1.0</th>\n",
       "      <td>2.0</td>\n",
       "      <td>growth, digital, dados, with, global, innovation, power, infinite, more, framework</td>\n",
       "      <td>444.0</td>\n",
       "      <td>0.3747</td>\n",
       "    </tr>\n",
       "    <tr>\n",
       "      <th>2.0</th>\n",
       "      <td>5.0</td>\n",
       "      <td>diretor, brasil, inovacao, digital, data, desenvolvedor, design, negocio, estudo, inscricao</td>\n",
       "      <td>162.0</td>\n",
       "      <td>0.1367</td>\n",
       "    </tr>\n",
       "    <tr>\n",
       "      <th>3.0</th>\n",
       "      <td>2.0</td>\n",
       "      <td>growth, digital, dados, with, global, innovation, power, infinite, more, framework</td>\n",
       "      <td>169.0</td>\n",
       "      <td>0.1426</td>\n",
       "    </tr>\n",
       "    <tr>\n",
       "      <th>4.0</th>\n",
       "      <td>1.0</td>\n",
       "      <td>voce, link, gente, hoje, sobre, aqui, live, ainda, tudo, programa</td>\n",
       "      <td>130.0</td>\n",
       "      <td>0.1097</td>\n",
       "    </tr>\n",
       "    <tr>\n",
       "      <th>...</th>\n",
       "      <td>...</td>\n",
       "      <td>...</td>\n",
       "      <td>...</td>\n",
       "      <td>...</td>\n",
       "    </tr>\n",
       "    <tr>\n",
       "      <th>1180.0</th>\n",
       "      <td>5.0</td>\n",
       "      <td>diretor, brasil, inovacao, digital, data, desenvolvedor, design, negocio, estudo, inscricao</td>\n",
       "      <td>NaN</td>\n",
       "      <td>NaN</td>\n",
       "    </tr>\n",
       "    <tr>\n",
       "      <th>1181.0</th>\n",
       "      <td>1.0</td>\n",
       "      <td>voce, link, gente, hoje, sobre, aqui, live, ainda, tudo, programa</td>\n",
       "      <td>NaN</td>\n",
       "      <td>NaN</td>\n",
       "    </tr>\n",
       "    <tr>\n",
       "      <th>1182.0</th>\n",
       "      <td>1.0</td>\n",
       "      <td>voce, link, gente, hoje, sobre, aqui, live, ainda, tudo, programa</td>\n",
       "      <td>NaN</td>\n",
       "      <td>NaN</td>\n",
       "    </tr>\n",
       "    <tr>\n",
       "      <th>1183.0</th>\n",
       "      <td>1.0</td>\n",
       "      <td>voce, link, gente, hoje, sobre, aqui, live, ainda, tudo, programa</td>\n",
       "      <td>NaN</td>\n",
       "      <td>NaN</td>\n",
       "    </tr>\n",
       "    <tr>\n",
       "      <th>1184.0</th>\n",
       "      <td>1.0</td>\n",
       "      <td>voce, link, gente, hoje, sobre, aqui, live, ainda, tudo, programa</td>\n",
       "      <td>NaN</td>\n",
       "      <td>NaN</td>\n",
       "    </tr>\n",
       "  </tbody>\n",
       "</table>\n",
       "<p>1185 rows × 4 columns</p>\n",
       "</div>"
      ],
      "text/plain": [
       "        Dominant_Topic  \\\n",
       "0.0                5.0   \n",
       "1.0                2.0   \n",
       "2.0                5.0   \n",
       "3.0                2.0   \n",
       "4.0                1.0   \n",
       "...                ...   \n",
       "1180.0             5.0   \n",
       "1181.0             1.0   \n",
       "1182.0             1.0   \n",
       "1183.0             1.0   \n",
       "1184.0             1.0   \n",
       "\n",
       "                                                                                     Topic_Keywords  \\\n",
       "0.0     diretor, brasil, inovacao, digital, data, desenvolvedor, design, negocio, estudo, inscricao   \n",
       "1.0              growth, digital, dados, with, global, innovation, power, infinite, more, framework   \n",
       "2.0     diretor, brasil, inovacao, digital, data, desenvolvedor, design, negocio, estudo, inscricao   \n",
       "3.0              growth, digital, dados, with, global, innovation, power, infinite, more, framework   \n",
       "4.0                               voce, link, gente, hoje, sobre, aqui, live, ainda, tudo, programa   \n",
       "...                                                                                             ...   \n",
       "1180.0  diretor, brasil, inovacao, digital, data, desenvolvedor, design, negocio, estudo, inscricao   \n",
       "1181.0                            voce, link, gente, hoje, sobre, aqui, live, ainda, tudo, programa   \n",
       "1182.0                            voce, link, gente, hoje, sobre, aqui, live, ainda, tudo, programa   \n",
       "1183.0                            voce, link, gente, hoje, sobre, aqui, live, ainda, tudo, programa   \n",
       "1184.0                            voce, link, gente, hoje, sobre, aqui, live, ainda, tudo, programa   \n",
       "\n",
       "        Num_Documents  Perc_Documents  \n",
       "0.0              42.0          0.0354  \n",
       "1.0             444.0          0.3747  \n",
       "2.0             162.0          0.1367  \n",
       "3.0             169.0          0.1426  \n",
       "4.0             130.0          0.1097  \n",
       "...               ...             ...  \n",
       "1180.0            NaN             NaN  \n",
       "1181.0            NaN             NaN  \n",
       "1182.0            NaN             NaN  \n",
       "1183.0            NaN             NaN  \n",
       "1184.0            NaN             NaN  \n",
       "\n",
       "[1185 rows x 4 columns]"
      ]
     },
     "execution_count": 106,
     "metadata": {},
     "output_type": "execute_result"
    }
   ],
   "source": [
    "# Number of Documents for Each Topic\n",
    "topic_counts = df_topic_sents_keywords['Dominant_Topic'].value_counts()\n",
    "\n",
    "# Percentage of Documents for Each Topic\n",
    "topic_contribution = round(topic_counts/topic_counts.sum(), 4)\n",
    "\n",
    "# Topic Number and Keywords\n",
    "topic_num_keywords = df_topic_sents_keywords[['Dominant_Topic', 'Topic_Keywords']]\n",
    "\n",
    "# Concatenate Column wise\n",
    "df_dominant_topics = pd.concat([topic_num_keywords, topic_counts, topic_contribution], axis=1)\n",
    "\n",
    "# Change Column names\n",
    "df_dominant_topics.columns = ['Dominant_Topic', 'Topic_Keywords', 'Num_Documents', 'Perc_Documents']\n",
    "\n",
    "# Show\n",
    "df_dominant_topics"
   ]
  },
  {
   "cell_type": "markdown",
   "metadata": {},
   "source": [
    "---"
   ]
  },
  {
   "cell_type": "markdown",
   "metadata": {},
   "source": [
    "#### MODEL VALIDATION"
   ]
  },
  {
   "cell_type": "code",
   "execution_count": 107,
   "metadata": {},
   "outputs": [
    {
     "name": "stdout",
     "output_type": "stream",
     "text": [
      "Word 3 (\"brasil\") appears 1 time.\n",
      "Word 33 (\"inscreva\") appears 1 time.\n",
      "Word 67 (\"conheca\") appears 1 time.\n",
      "Word 84 (\"completa\") appears 1 time.\n",
      "Word 245 (\"conceito\") appears 1 time.\n",
      "Word 252 (\"clientes\") appears 1 time.\n",
      "Word 287 (\"necessidades\") appears 1 time.\n",
      "Word 381 (\"unica\") appears 1 time.\n"
     ]
    },
    {
     "name": "stderr",
     "output_type": "stream",
     "text": [
      "/work/tools/anaconda3/envs/dna-brand-platform/lib/python3.8/site-packages/ipykernel/ipkernel.py:287: DeprecationWarning:\n",
      "\n",
      "`should_run_async` will not call `transform_cell` automatically in the future. Please pass the result to `transformed_cell` argument and any exception that happen during thetransform in `preprocessing_exc_tuple` in IPython 7.17 and above.\n",
      "\n"
     ]
    }
   ],
   "source": [
    "bow_doc_4310 = corpus[430]\n",
    "for i in range(len(bow_doc_4310)):\n",
    "    print(\"Word {} (\\\"{}\\\") appears {} time.\".format(bow_doc_4310[i][0], id2word[bow_doc_4310[i][0]], bow_doc_4310[i][1]))"
   ]
  },
  {
   "cell_type": "code",
   "execution_count": 108,
   "metadata": {},
   "outputs": [
    {
     "name": "stdout",
     "output_type": "stream",
     "text": [
      "Word 3 (\"brasil\") appears 0.205256123265157 time.\n",
      "Word 33 (\"inscreva\") appears 0.19617258717663566 time.\n",
      "Word 67 (\"conheca\") appears 0.2686949915123457 time.\n",
      "Word 84 (\"completa\") appears 0.39641131243492167 time.\n",
      "Word 245 (\"conceito\") appears 0.4468016130272999 time.\n",
      "Word 252 (\"clientes\") appears 0.3244703597914739 time.\n",
      "Word 287 (\"necessidades\") appears 0.4534999922792871 time.\n",
      "Word 381 (\"unica\") appears 0.4236417991984128 time.\n"
     ]
    }
   ],
   "source": [
    "bow_doc_4310 = corpus_tfidf[430]\n",
    "for i in range(len(bow_doc_4310)):\n",
    "    print(\"Word {} (\\\"{}\\\") appears {} time.\".format(bow_doc_4310[i][0], id2word[bow_doc_4310[i][0]], bow_doc_4310[i][1]))"
   ]
  },
  {
   "cell_type": "code",
   "execution_count": 109,
   "metadata": {},
   "outputs": [
    {
     "name": "stdout",
     "output_type": "stream",
     "text": [
      "\n",
      "Topic: 2 Score: 0.6647346615791321\t \n",
      "Topic: 0.020*\"growth\" + 0.018*\"digital\" + 0.017*\"dados\" + 0.017*\"with\" + 0.014*\"global\" + 0.013*\"innovation\" + 0.013*\"power\" + 0.013*\"infinite\" + 0.013*\"more\" + 0.012*\"framework\"\n",
      "\n",
      "Topic: 4 Score: 0.14262409508228302\t \n",
      "Topic: 0.022*\"futureofwork\" + 0.019*\"engagedbypeople\" + 0.018*\"instation\" + 0.018*\"engagedbydata\" + 0.016*\"oportunidades\" + 0.015*\"globalcommunity\" + 0.014*\"trabalho\" + 0.014*\"equipe\" + 0.013*\"carreiras\" + 0.013*\"vagas\"\n",
      "\n",
      "Topic: 3 Score: 0.038576994091272354\t \n",
      "Topic: 0.020*\"transformacao\" + 0.017*\"empresas\" + 0.016*\"digital\" + 0.014*\"brasil\" + 0.014*\"impacto\" + 0.013*\"acesse\" + 0.013*\"melhores\" + 0.012*\"microsoft\" + 0.012*\"pessoas\" + 0.012*\"novo\"\n",
      "\n",
      "Topic: 5 Score: 0.038552381098270416\t \n",
      "Topic: 0.016*\"diretor\" + 0.016*\"brasil\" + 0.015*\"inovacao\" + 0.015*\"digital\" + 0.013*\"data\" + 0.013*\"desenvolvedor\" + 0.012*\"design\" + 0.011*\"negocio\" + 0.011*\"estudo\" + 0.010*\"inscricao\"\n",
      "\n",
      "Topic: 6 Score: 0.0385286845266819\t \n",
      "Topic: 0.042*\"mutant\" + 0.028*\"live\" + 0.024*\"site\" + 0.023*\"conhece\" + 0.023*\"oportunidade\" + 0.022*\"busca\" + 0.019*\"tech\" + 0.019*\"strategy\" + 0.019*\"neste\" + 0.018*\"conteudos\"\n",
      "\n",
      "Topic: 1 Score: 0.0385257788002491\t \n",
      "Topic: 0.016*\"voce\" + 0.011*\"link\" + 0.011*\"gente\" + 0.011*\"hoje\" + 0.011*\"sobre\" + 0.010*\"aqui\" + 0.009*\"live\" + 0.009*\"ainda\" + 0.009*\"tudo\" + 0.009*\"programa\"\n",
      "\n",
      "Topic: 0 Score: 0.03845746070146561\t \n",
      "Topic: 0.071*\"blog\" + 0.036*\"mulheres\" + 0.034*\"lideranca\" + 0.029*\"texto\" + 0.029*\"leia\" + 0.022*\"manager\" + 0.022*\"saiba\" + 0.020*\"artigo\" + 0.015*\"tempos\" + 0.014*\"podemos\"\n"
     ]
    }
   ],
   "source": [
    "for index, score in sorted(optimal_model[corpus_tfidf[430]], key=lambda tup: -1*tup[1]):\n",
    "    print(f\"\\nTopic: {index} Score: {score}\\t \\nTopic: {optimal_model.print_topic(index, 10)}\")"
   ]
  },
  {
   "cell_type": "markdown",
   "metadata": {},
   "source": [
    "### Teste com um documento novo"
   ]
  },
  {
   "cell_type": "code",
   "execution_count": 110,
   "metadata": {},
   "outputs": [
    {
     "name": "stdout",
     "output_type": "stream",
     "text": [
      "\n",
      "Topic: 5 Score: 0.7136549353599548\t \n",
      "Topic: 0.016*\"diretor\" + 0.016*\"brasil\" + 0.015*\"inovacao\" + 0.015*\"digital\" + 0.013*\"data\" + 0.013*\"desenvolvedor\" + 0.012*\"design\" + 0.011*\"negocio\" + 0.011*\"estudo\" + 0.010*\"inscricao\"\n",
      "\n",
      "Topic: 1 Score: 0.047985874116420746\t \n",
      "Topic: 0.016*\"voce\" + 0.011*\"link\" + 0.011*\"gente\" + 0.011*\"hoje\" + 0.011*\"sobre\" + 0.010*\"aqui\" + 0.009*\"live\" + 0.009*\"ainda\" + 0.009*\"tudo\" + 0.009*\"programa\"\n",
      "\n",
      "Topic: 3 Score: 0.04778647422790527\t \n",
      "Topic: 0.020*\"transformacao\" + 0.017*\"empresas\" + 0.016*\"digital\" + 0.014*\"brasil\" + 0.014*\"impacto\" + 0.013*\"acesse\" + 0.013*\"melhores\" + 0.012*\"microsoft\" + 0.012*\"pessoas\" + 0.012*\"novo\"\n",
      "\n",
      "Topic: 4 Score: 0.04771022871136665\t \n",
      "Topic: 0.022*\"futureofwork\" + 0.019*\"engagedbypeople\" + 0.018*\"instation\" + 0.018*\"engagedbydata\" + 0.016*\"oportunidades\" + 0.015*\"globalcommunity\" + 0.014*\"trabalho\" + 0.014*\"equipe\" + 0.013*\"carreiras\" + 0.013*\"vagas\"\n",
      "\n",
      "Topic: 2 Score: 0.04762092977762222\t \n",
      "Topic: 0.020*\"growth\" + 0.018*\"digital\" + 0.017*\"dados\" + 0.017*\"with\" + 0.014*\"global\" + 0.013*\"innovation\" + 0.013*\"power\" + 0.013*\"infinite\" + 0.013*\"more\" + 0.012*\"framework\"\n",
      "\n",
      "Topic: 0 Score: 0.047620806843042374\t \n",
      "Topic: 0.071*\"blog\" + 0.036*\"mulheres\" + 0.034*\"lideranca\" + 0.029*\"texto\" + 0.029*\"leia\" + 0.022*\"manager\" + 0.022*\"saiba\" + 0.020*\"artigo\" + 0.015*\"tempos\" + 0.014*\"podemos\"\n",
      "\n",
      "Topic: 6 Score: 0.0476207360625267\t \n",
      "Topic: 0.042*\"mutant\" + 0.028*\"live\" + 0.024*\"site\" + 0.023*\"conhece\" + 0.023*\"oportunidade\" + 0.022*\"busca\" + 0.019*\"tech\" + 0.019*\"strategy\" + 0.019*\"neste\" + 0.018*\"conteudos\"\n"
     ]
    }
   ],
   "source": [
    "unseen_document = 'venha trabalhar na dextra '\n",
    "bow_vector = id2word.doc2bow(preprocess(unseen_document))\n",
    "\n",
    "for index, score in sorted(optimal_model[bow_vector], key=lambda tup: -1*tup[1]):\n",
    "    print(f\"\\nTopic: {index} Score: {score}\\t \\nTopic: {optimal_model.print_topic(index, 10)}\") "
   ]
  },
  {
   "cell_type": "code",
   "execution_count": 111,
   "metadata": {},
   "outputs": [],
   "source": [
    "#!pip install pyLDAvis"
   ]
  },
  {
   "cell_type": "code",
   "execution_count": 112,
   "metadata": {},
   "outputs": [
    {
     "data": {
      "text/html": [
       "\n",
       "<link rel=\"stylesheet\" type=\"text/css\" href=\"https://cdn.rawgit.com/bmabey/pyLDAvis/files/ldavis.v1.0.0.css\">\n",
       "\n",
       "\n",
       "<div id=\"ldavis_el1496281404946546912488981375959\"></div>\n",
       "<script type=\"text/javascript\">\n",
       "\n",
       "var ldavis_el1496281404946546912488981375959_data = {\"mdsDat\": {\"x\": [0.09002173186571948, -0.014347228100789639, 0.01010425564774564, -0.10729769448239547, -0.1581280792365628, 0.13955058148970478, 0.0400964328165779], \"y\": [-0.03627854775458581, 0.13532563277852094, 0.08349265292287113, 0.05423825739000036, -0.12406150673156828, -0.04941638371952133, -0.06330010488571691], \"topics\": [1, 2, 3, 4, 5, 6, 7], \"cluster\": [1, 1, 1, 1, 1, 1, 1], \"Freq\": [32.118733475831625, 14.933637636073833, 14.281335772168296, 12.821436839386923, 12.687496313968506, 7.387592210071794, 5.769767752499026]}, \"tinfo\": {\"Term\": [\"blog\", \"mutant\", \"live\", \"mulheres\", \"texto\", \"lideranca\", \"leia\", \"artigo\", \"futureofwork\", \"saiba\", \"manager\", \"site\", \"growth\", \"oportunidade\", \"neste\", \"engagedbypeople\", \"conhece\", \"strategy\", \"busca\", \"instation\", \"engagedbydata\", \"tech\", \"diretor\", \"nova\", \"with\", \"conteudos\", \"transformacao\", \"solucao\", \"solucoes\", \"globalcommunity\", \"vemprazup\", \"programa\", \"vamos\", \"zupper\", \"clique\", \"compartilhar\", \"youtube\", \"semana\", \"abertas\", \"zuppers\", \"source\", \"campinas\", \"zupnohomeoffice\", \"clicando\", \"proxima\", \"duvidas\", \"tudo\", \"estagio\", \"comentarios\", \"praticas\", \"inscricoes\", \"open\", \"pessoa\", \"opensource\", \"blogdazup\", \"quinta\", \"dicas\", \"talks\", \"programacao\", \"grupo\", \"gente\", \"link\", \"codigo\", \"sabe\", \"ainda\", \"voce\", \"todas\", \"hoje\", \"garanta\", \"aqui\", \"saber\", \"venha\", \"quer\", \"nesse\", \"http\", \"primeiro\", \"fazer\", \"live\", \"sobre\", \"inscreva\", \"vagas\", \"agora\", \"evento\", \"lugar\", \"todos\", \"confira\", \"alem\", \"mundo\", \"tecnologia\", \"pessoas\", \"estudo\", \"analytics\", \"sendo\", \"science\", \"america\", \"latina\", \"inscricao\", \"accenture\", \"realidade\", \"entao\", \"toda\", \"estrategia\", \"mobile\", \"lean\", \"artificial\", \"bate\", \"executivo\", \"rodrigo\", \"importantes\", \"lider\", \"inteligencia\", \"santos\", \"diretor\", \"orgulho\", \"ouca\", \"premio\", \"front\", \"fundacaoeveris\", \"valor\", \"perca\", \"design\", \"papo\", \"desenvolvedor\", \"ajudar\", \"data\", \"negocio\", \"inovacao\", \"brasil\", \"digital\", \"head\", \"produtos\", \"saiba\", \"digitais\", \"sobre\", \"microsoft\", \"observamos\", \"impactos\", \"melhores\", \"neves\", \"sistemas\", \"paineis\", \"julho\", \"imagem\", \"companhias\", \"impacto\", \"gerente\", \"porque\", \"transformacao\", \"transformacoes\", \"agosto\", \"cenario\", \"conference\", \"vivendo\", \"proximo\", \"discussao\", \"operacoes\", \"pracegover\", \"fundo\", \"diretora\", \"painel\", \"acoes\", \"crise\", \"gestao\", \"empresas\", \"estao\", \"agilidade\", \"head\", \"acesse\", \"novo\", \"negocios\", \"brasil\", \"pessoas\", \"digital\", \"conheca\", \"diretor\", \"tecnologia\", \"sobre\", \"inscreva\", \"evento\", \"negocio\", \"agile\", \"infinite\", \"setembro\", \"canal\", \"conceito\", \"possivel\", \"spoti\", \"growth\", \"estrategias\", \"with\", \"more\", \"product\", \"framework\", \"that\", \"trazer\", \"problemas\", \"necessidades\", \"power\", \"home\", \"world\", \"driven\", \"cliente\", \"spotify\", \"bruno\", \"dados\", \"officer\", \"podcast\", \"office\", \"global\", \"this\", \"chief\", \"innovation\", \"neste\", \"pode\", \"digital\", \"clientes\", \"conheca\", \"durante\", \"solucoes\", \"webinar\", \"melhor\", \"strategy\", \"empresas\", \"engagedbypeople\", \"engagedbydata\", \"instation\", \"globalcommunity\", \"futureofwork\", \"equipe\", \"engagedbyaction\", \"recrutamento\", \"forgamechangers\", \"invilliaacademy\", \"ertpytj\", \"unica\", \"carreiras\", \"techtalents\", \"performance\", \"manter\", \"inovar\", \"unicornios\", \"gamechangers\", \"metodologia\", \"garantir\", \"techcommunity\", \"nunca\", \"globais\", \"renato\", \"talentos\", \"beneficios\", \"people\", \"descubra\", \"lado\", \"oportunidades\", \"maneira\", \"trabalho\", \"vagas\", \"innovation\", \"forma\", \"mutant\", \"conhece\", \"busca\", \"site\", \"oportunidade\", \"baixe\", \"solucao\", \"conteudos\", \"recursos\", \"sido\", \"nova\", \"modelos\", \"plataformas\", \"itservices\", \"servicos\", \"presenca\", \"neste\", \"testes\", \"assim\", \"strategy\", \"crescimento\", \"organizacoes\", \"papel\", \"desenvolvimento\", \"tecnologias\", \"live\", \"tech\", \"principais\", \"quais\", \"analista\", \"empresa\", \"artigo\", \"acesse\", \"saiba\", \"fazer\", \"negocios\", \"confira\", \"blog\", \"mulheres\", \"lideranca\", \"texto\", \"operations\", \"leia\", \"manager\", \"importante\", \"virtual\", \"integra\", \"melhorar\", \"podemos\", \"tempos\", \"fundacaoeveris\", \"automacao\", \"colaboracao\", \"plataforma\", \"desafio\", \"operacoes\", \"diversas\", \"cesar\", \"muitas\", \"diversidade\", \"solucoes\", \"aprendizados\", \"problemas\", \"produto\", \"tema\", \"artigo\", \"saiba\", \"senior\", \"tecnologia\", \"strategy\", \"agora\", \"tech\", \"experiencia\"], \"Freq\": [17.0, 13.0, 25.0, 9.0, 11.0, 9.0, 13.0, 21.0, 12.0, 24.0, 11.0, 9.0, 12.0, 9.0, 14.0, 10.0, 8.0, 16.0, 8.0, 9.0, 9.0, 18.0, 17.0, 10.0, 11.0, 7.0, 17.0, 7.0, 13.0, 8.0, 10.864866731064216, 11.006005674326902, 10.905001633157482, 7.111229030226032, 7.051346638824569, 7.677554143934841, 6.932296397441247, 7.925264223838312, 6.693961912806194, 6.538572136368738, 6.230520615480115, 6.023953675312108, 5.961440553721678, 5.848177083033125, 5.603713779053819, 5.3706389639660745, 11.28367157504788, 5.278014816237254, 5.0618681261095135, 4.676688813366928, 5.005721705864767, 10.841747107688064, 4.1332388746538795, 4.5662226201155205, 4.025636518044535, 3.9485173818719286, 3.990564294129765, 6.700129533480669, 5.7088432970410175, 7.779903098904066, 13.976397932498289, 13.98347051958222, 6.674458573406617, 6.5096263440240545, 11.458016099769946, 20.87000343427402, 7.283552304115368, 13.601100721619387, 7.570208174576724, 12.41824396067028, 7.532616848915314, 8.554419436158277, 9.560905049060711, 9.038305452849443, 10.909114574160881, 7.339875121176733, 10.187537577972787, 11.904537032402066, 13.516823038492822, 10.770925725882059, 9.649417449673216, 9.421881076766828, 9.77042506893029, 8.056773273883747, 8.572345650720267, 9.698063572786289, 7.769694170451214, 8.311563104193652, 8.495691533566767, 7.973484726206041, 6.505889710349739, 5.602653143400787, 5.325002056345448, 4.859249009283977, 4.651717473804248, 3.569362946742099, 5.926551194099116, 4.783777193074448, 3.733633118592688, 5.332271632952563, 4.9251337105285184, 5.279035417701434, 4.0227525511507, 4.668706278940226, 3.1696233838949968, 4.701417708375221, 3.6727454186170267, 3.040513738302142, 3.6556283856102305, 3.1941582049440105, 3.566034295541384, 3.8850616299951244, 9.650240824163761, 5.254729852542672, 3.828547832652005, 4.147697843986486, 2.2651307666659783, 2.555776582720892, 4.338208933686788, 3.4120007044949956, 7.298749280375048, 5.446604265406313, 7.563175133567795, 5.240826287692457, 7.962747611613527, 6.7919472167803185, 8.85682004904149, 9.39275592896547, 8.812507050341933, 5.247927114201179, 4.372984776332066, 5.594408257836838, 4.462296598555409, 5.655424185683318, 6.8413601184302895, 4.531497176406686, 4.18586749686146, 7.233468833196629, 3.2233577612043085, 4.148266700295319, 3.11684995220195, 4.912427204240894, 4.70711053659123, 3.333277888546478, 7.818591714441954, 3.4321568196923606, 4.045720641723889, 11.318640822471815, 3.058199005466596, 4.758504467479604, 4.9396954923804515, 4.43590156650096, 3.3863089678107037, 5.277364245979351, 3.4046881348239175, 3.947645420902598, 4.130627275909132, 2.171259407124585, 2.9754242739653427, 3.962262703361507, 2.764312026745846, 3.5007416048055746, 3.5617168881698738, 9.676565075924305, 6.004055339293617, 4.122529920931486, 5.715503691231589, 7.692852985972085, 6.628969844390149, 5.836598524113926, 8.20984151024846, 6.808349601373225, 9.075102031203913, 6.050817584196482, 5.794375596902991, 5.507429246081098, 5.947239283401691, 5.1119172374634, 4.7281699766750265, 4.370825714839232, 4.2254515574782445, 6.641345679389246, 5.6085160030802435, 4.934005341539796, 4.683930509960986, 4.660542038068818, 4.183690295409384, 10.115441890540506, 4.900798239022617, 8.867957275286944, 6.6130231096977985, 5.435596201620534, 6.265877660359949, 5.954389443625832, 4.625894215214807, 4.446636769349147, 3.4238840334311376, 6.770423831988386, 3.4347461497251843, 3.4669872118444944, 4.187523478892395, 3.58231894795822, 4.680217426221569, 3.6238269920786967, 8.89378348602228, 2.7510388026604753, 5.594522953192807, 2.9748906654224387, 7.144335796800099, 3.202865476128144, 2.5532304739793963, 6.796995900258336, 5.939132010326681, 5.461530597442359, 9.407492982135091, 4.985866031216617, 5.3236560917976, 4.25157715206161, 4.419982251652047, 4.462332662029669, 4.3482026382312995, 4.321283138560241, 4.351746057253577, 9.40347490951155, 9.03331201112278, 9.080941546449594, 7.592729140268421, 11.239808219288685, 6.956274440053009, 5.499887999394489, 5.083501427856946, 4.98582348195636, 4.880779025750162, 4.5726976051853345, 4.302483443165878, 6.7642622459513735, 5.114764293936264, 4.4851596937329505, 4.620739797139384, 3.4415720699928993, 4.260673073694437, 5.110558969199059, 4.346346248799292, 4.4636369388791, 2.931544513388063, 3.847601195990632, 2.5466483585842843, 3.9052887060477772, 4.660023764837, 3.5122415217390675, 5.247826484505203, 4.158783672158184, 5.194979554587417, 7.944656860201574, 4.353872162464909, 6.982187861420639, 6.443673792524522, 5.554363861872811, 4.636513184058812, 12.45577540268671, 6.795160325088325, 6.492322014218855, 7.06220228293816, 6.756664059959628, 4.586922476902639, 5.217568068163627, 5.292103436749754, 4.240251510341471, 3.7370477020869264, 5.07621646538781, 2.6876952264533274, 2.708959231148741, 2.7946872073074176, 2.5962972151819637, 3.4560105224471793, 5.5545831143127735, 3.1977325693736613, 1.8198495049173726, 5.6160231402771545, 3.201976582966579, 2.3021453332984527, 2.402389593414142, 4.0734097385742185, 2.8536217411966267, 8.156102209953032, 5.6590805872743974, 2.848572861615948, 2.134065369535699, 1.1448963293649481, 4.285094436237527, 4.753157921784536, 4.208479487260641, 4.361059121598234, 3.6479105102209655, 3.19309751887642, 2.914679792207417, 16.460526839785718, 8.202779732078804, 7.854255824416503, 6.665534210653928, 2.9143773504148416, 6.665051227970178, 5.112466502501253, 2.7493152301548096, 2.7312973166436008, 1.9842713024990961, 2.7993755703458816, 3.1215256638124265, 3.4573757798612514, 1.558553808086218, 1.814956918619739, 1.885309394514955, 1.9737173158794872, 2.1521579706920737, 1.810123660288922, 1.7808143107983898, 1.8198448663752258, 1.481605251404995, 1.6622909607173595, 3.0060370406297396, 1.2259387323578599, 1.4617164233992492, 2.554226042131079, 2.6638230057643395, 4.657471936081814, 5.072543651428971, 1.5986421214766673, 2.394747604895666, 1.9351612714872861, 1.99290772776195, 1.8972387665479264, 1.7012998549926597], \"Total\": [17.0, 13.0, 25.0, 9.0, 11.0, 9.0, 13.0, 21.0, 12.0, 24.0, 11.0, 9.0, 12.0, 9.0, 14.0, 10.0, 8.0, 16.0, 8.0, 9.0, 9.0, 18.0, 17.0, 10.0, 11.0, 7.0, 17.0, 7.0, 13.0, 8.0, 11.749208779797822, 12.02801196015247, 12.224342808170453, 7.98298813015054, 7.923331736684956, 8.632749078146054, 7.813389348160668, 8.982064909693761, 7.588482956995739, 7.428002097705136, 7.108902955866731, 6.894722117891795, 6.836956162593909, 6.721600446592936, 6.482018371209654, 6.24083243944348, 13.150563861278114, 6.154061120168779, 5.931347115177131, 5.548213786395383, 5.95478409919589, 13.017853409854215, 5.00778188953318, 5.538469013379942, 4.897327715919646, 4.82571675105144, 4.880951300895366, 8.279590954009375, 7.118532313313532, 9.714117019734068, 18.361010340019117, 18.48015936896825, 8.44045858342661, 8.29369875929077, 15.834990561388251, 31.73278504744171, 9.456541179096574, 20.7511446442961, 10.011855383074161, 19.228612631602715, 10.118379356549761, 12.157393728292323, 14.28708829486391, 13.195561362196246, 18.12662807962575, 9.782075457362737, 17.808307752423822, 25.282586024920114, 33.9630640366753, 22.61824596559275, 18.540944219664777, 18.136154130258706, 20.07172776640481, 12.262021939928797, 14.89581838856838, 23.658075436782607, 11.605095269199357, 18.06664473697701, 24.59008552817804, 20.421633194675163, 7.440030560462986, 6.455440582601853, 6.170159874308264, 5.700199573295338, 5.604034110799586, 4.46081383363939, 8.000665862583888, 6.499063432375091, 5.242828169514755, 7.5827022975501945, 7.081781123957652, 7.600478110497947, 5.9571612889892505, 7.017378423826948, 4.875089518509246, 7.558623506341842, 5.997255465992186, 5.054761585035479, 6.1835832972691085, 5.425472309967473, 6.0879780224548385, 6.6433480157854365, 17.032759766530766, 9.376602406860778, 6.878880782581334, 7.482003958665539, 4.2738732812685845, 4.825405966716376, 8.212574759946788, 6.471344993251498, 14.163789578118417, 10.603259852239198, 15.262635164402965, 10.277635142812159, 18.75923348784386, 15.450776579382845, 23.627992997560252, 27.764527359528206, 35.01656454306964, 13.298286740888729, 9.481343100974266, 24.913104329439783, 10.650701746141497, 33.9630640366753, 7.6821750427800755, 5.479399000006715, 5.322653154658933, 9.204960271463293, 4.156491584994945, 5.511176234601683, 4.193498460657901, 6.88910822971979, 6.860770046691079, 5.06477834999295, 11.902605906693529, 5.3075139998358996, 6.335101189391036, 17.964010462858123, 4.856538900503568, 7.628814004407058, 7.975737969083242, 7.39532126058386, 5.6579997309339065, 9.141803820711257, 5.899612368450894, 6.937638515621096, 7.362091413194998, 4.364210523042593, 5.990032261995717, 8.207892359175869, 5.77216758313062, 7.435842383931222, 7.61885372967079, 20.863263946656133, 13.866218223167197, 9.09679135965464, 13.298286740888729, 19.36311900645019, 17.8940663888499, 15.633257767916632, 27.764527359528206, 20.421633194675163, 35.01656454306964, 18.079510505523412, 17.032759766530766, 24.59008552817804, 33.9630640366753, 22.61824596559275, 20.07172776640481, 15.450776579382845, 12.723309052194073, 7.4806625436891006, 6.498005984754136, 5.78043064791245, 5.523993280064217, 5.585852692371464, 5.118275361283368, 12.510274344327017, 6.242887707766594, 11.719782666291557, 8.856437230308035, 7.306910986517271, 8.444245123093745, 8.035474552685722, 6.846040031134652, 6.582509114620989, 5.343635917625447, 10.715767480337437, 5.478955276565398, 5.607396750741621, 6.873167550039478, 6.148896736282575, 8.539019256520724, 6.859965973456364, 16.983559165843914, 5.331671726344386, 10.944297367382996, 5.849758711608282, 14.275110248766893, 6.747749688920006, 5.472471307124631, 14.833258270352644, 14.553290891594973, 15.0158024392244, 35.01656454306964, 13.863193752369515, 18.079510505523412, 10.342757364829795, 13.443477842315655, 16.450010569445656, 15.54974484224603, 16.367662089764085, 20.863263946656133, 10.252198646032834, 9.881643124552316, 9.938090854425576, 8.442824547864339, 12.565894492994246, 7.802954848815018, 6.343616919817367, 5.9270904677441205, 5.829045260482982, 5.733693094833875, 5.416745917756259, 5.844416148695052, 9.340608102965781, 7.09755717843287, 6.346477015733341, 6.545727494451318, 5.089579819656029, 6.690952486073899, 8.3531566737496, 7.128697896291238, 7.330539966597059, 4.906826177637793, 6.634828814958778, 4.597189627022977, 7.098563513258638, 8.5319487671771, 6.632583461415055, 10.06088415577871, 8.064041549644765, 10.279345729242143, 15.782424217148204, 8.961523631231385, 17.51131509252373, 18.540944219664777, 14.833258270352644, 10.720597039031421, 13.751993306649666, 8.03187936562669, 8.572617995932772, 9.39821387219261, 9.14094593204597, 6.385868071120759, 7.270035931342442, 7.483729059512971, 6.345129879118786, 5.988718334302578, 10.214793469997444, 6.22063367710107, 6.402468156223014, 6.715506752786458, 6.776166315403767, 9.042472467401161, 14.553290891594973, 8.599641106905285, 5.075152232188, 16.367662089764085, 9.364904260080491, 6.788399680849202, 7.098540319283549, 12.423604921541127, 8.721947953856093, 25.282586024920114, 18.166304692112302, 10.524434898079834, 8.094691842919882, 4.514605942233708, 18.546821368696907, 21.600214697871188, 19.36311900645019, 24.913104329439783, 17.808307752423822, 15.633257767916632, 23.658075436782607, 17.285568954543812, 9.358147241109844, 9.1121897942243, 11.919025163963175, 5.345864320335432, 13.316157415429895, 11.2284538922398, 6.094607541708431, 6.18529636842077, 5.049179712755281, 7.584464722200055, 8.891407619650927, 9.967528088329663, 4.825405966716376, 5.814808805611909, 6.306989951401261, 6.73811274991319, 7.722079540842694, 6.937638515621096, 6.871402479313152, 7.119957071962069, 6.15367135828331, 7.382423976560986, 13.443477842315655, 5.508512082632788, 6.582509114620989, 11.725394506010689, 12.350516396848732, 21.600214697871188, 24.913104329439783, 8.535858926185385, 24.59008552817804, 16.367662089764085, 18.136154130258706, 18.166304692112302, 15.93747081443085], \"Category\": [\"Default\", \"Default\", \"Default\", \"Default\", \"Default\", \"Default\", \"Default\", \"Default\", \"Default\", \"Default\", \"Default\", \"Default\", \"Default\", \"Default\", \"Default\", \"Default\", \"Default\", \"Default\", \"Default\", \"Default\", \"Default\", \"Default\", \"Default\", \"Default\", \"Default\", \"Default\", \"Default\", \"Default\", \"Default\", \"Default\", \"Topic1\", \"Topic1\", \"Topic1\", \"Topic1\", \"Topic1\", \"Topic1\", \"Topic1\", \"Topic1\", \"Topic1\", \"Topic1\", \"Topic1\", \"Topic1\", \"Topic1\", \"Topic1\", \"Topic1\", \"Topic1\", \"Topic1\", \"Topic1\", \"Topic1\", \"Topic1\", \"Topic1\", \"Topic1\", \"Topic1\", \"Topic1\", \"Topic1\", \"Topic1\", \"Topic1\", \"Topic1\", \"Topic1\", \"Topic1\", \"Topic1\", \"Topic1\", \"Topic1\", \"Topic1\", \"Topic1\", \"Topic1\", \"Topic1\", \"Topic1\", \"Topic1\", \"Topic1\", \"Topic1\", \"Topic1\", \"Topic1\", \"Topic1\", \"Topic1\", \"Topic1\", \"Topic1\", \"Topic1\", \"Topic1\", \"Topic1\", \"Topic1\", \"Topic1\", \"Topic1\", \"Topic1\", \"Topic1\", \"Topic1\", \"Topic1\", \"Topic1\", \"Topic1\", \"Topic1\", \"Topic2\", \"Topic2\", \"Topic2\", \"Topic2\", \"Topic2\", \"Topic2\", \"Topic2\", \"Topic2\", \"Topic2\", \"Topic2\", \"Topic2\", \"Topic2\", \"Topic2\", \"Topic2\", \"Topic2\", \"Topic2\", \"Topic2\", \"Topic2\", \"Topic2\", \"Topic2\", \"Topic2\", \"Topic2\", \"Topic2\", \"Topic2\", \"Topic2\", \"Topic2\", \"Topic2\", \"Topic2\", \"Topic2\", \"Topic2\", \"Topic2\", \"Topic2\", \"Topic2\", \"Topic2\", \"Topic2\", \"Topic2\", \"Topic2\", \"Topic2\", \"Topic2\", \"Topic2\", \"Topic2\", \"Topic2\", \"Topic2\", \"Topic2\", \"Topic3\", \"Topic3\", \"Topic3\", \"Topic3\", \"Topic3\", \"Topic3\", \"Topic3\", \"Topic3\", \"Topic3\", \"Topic3\", \"Topic3\", \"Topic3\", \"Topic3\", \"Topic3\", \"Topic3\", \"Topic3\", \"Topic3\", \"Topic3\", \"Topic3\", \"Topic3\", \"Topic3\", \"Topic3\", \"Topic3\", \"Topic3\", \"Topic3\", \"Topic3\", \"Topic3\", \"Topic3\", \"Topic3\", \"Topic3\", \"Topic3\", \"Topic3\", \"Topic3\", \"Topic3\", \"Topic3\", \"Topic3\", \"Topic3\", \"Topic3\", \"Topic3\", \"Topic3\", \"Topic3\", \"Topic3\", \"Topic3\", \"Topic3\", \"Topic3\", \"Topic3\", \"Topic3\", \"Topic4\", \"Topic4\", \"Topic4\", \"Topic4\", \"Topic4\", \"Topic4\", \"Topic4\", \"Topic4\", \"Topic4\", \"Topic4\", \"Topic4\", \"Topic4\", \"Topic4\", \"Topic4\", \"Topic4\", \"Topic4\", \"Topic4\", \"Topic4\", \"Topic4\", \"Topic4\", \"Topic4\", \"Topic4\", \"Topic4\", \"Topic4\", \"Topic4\", \"Topic4\", \"Topic4\", \"Topic4\", \"Topic4\", \"Topic4\", \"Topic4\", \"Topic4\", \"Topic4\", \"Topic4\", \"Topic4\", \"Topic4\", \"Topic4\", \"Topic4\", \"Topic4\", \"Topic4\", \"Topic4\", \"Topic4\", \"Topic5\", \"Topic5\", \"Topic5\", \"Topic5\", \"Topic5\", \"Topic5\", \"Topic5\", \"Topic5\", \"Topic5\", \"Topic5\", \"Topic5\", \"Topic5\", \"Topic5\", \"Topic5\", \"Topic5\", \"Topic5\", \"Topic5\", \"Topic5\", \"Topic5\", \"Topic5\", \"Topic5\", \"Topic5\", \"Topic5\", \"Topic5\", \"Topic5\", \"Topic5\", \"Topic5\", \"Topic5\", \"Topic5\", \"Topic5\", \"Topic5\", \"Topic5\", \"Topic5\", \"Topic5\", \"Topic5\", \"Topic5\", \"Topic6\", \"Topic6\", \"Topic6\", \"Topic6\", \"Topic6\", \"Topic6\", \"Topic6\", \"Topic6\", \"Topic6\", \"Topic6\", \"Topic6\", \"Topic6\", \"Topic6\", \"Topic6\", \"Topic6\", \"Topic6\", \"Topic6\", \"Topic6\", \"Topic6\", \"Topic6\", \"Topic6\", \"Topic6\", \"Topic6\", \"Topic6\", \"Topic6\", \"Topic6\", \"Topic6\", \"Topic6\", \"Topic6\", \"Topic6\", \"Topic6\", \"Topic6\", \"Topic6\", \"Topic6\", \"Topic6\", \"Topic6\", \"Topic6\", \"Topic7\", \"Topic7\", \"Topic7\", \"Topic7\", \"Topic7\", \"Topic7\", \"Topic7\", \"Topic7\", \"Topic7\", \"Topic7\", \"Topic7\", \"Topic7\", \"Topic7\", \"Topic7\", \"Topic7\", \"Topic7\", \"Topic7\", \"Topic7\", \"Topic7\", \"Topic7\", \"Topic7\", \"Topic7\", \"Topic7\", \"Topic7\", \"Topic7\", \"Topic7\", \"Topic7\", \"Topic7\", \"Topic7\", \"Topic7\", \"Topic7\", \"Topic7\", \"Topic7\", \"Topic7\", \"Topic7\", \"Topic7\"], \"logprob\": [30.0, 29.0, 28.0, 27.0, 26.0, 25.0, 24.0, 23.0, 22.0, 21.0, 20.0, 19.0, 18.0, 17.0, 16.0, 15.0, 14.0, 13.0, 12.0, 11.0, 10.0, 9.0, 8.0, 7.0, 6.0, 5.0, 4.0, 3.0, 2.0, 1.0, -4.770599842071533, -4.757699966430664, -4.766900062561035, -5.194399833679199, -5.202899932861328, -5.117800235748291, -5.219900131225586, -5.086100101470947, -5.254899978637695, -5.27839994430542, -5.326700210571289, -5.360400199890137, -5.370800018310547, -5.389999866485596, -5.432700157165527, -5.475200176239014, -4.732800006866455, -5.492599964141846, -5.53439998626709, -5.613500118255615, -5.545499801635742, -4.77269983291626, -5.737100124359131, -5.637400150299072, -5.763400077819824, -5.782800197601318, -5.772200107574463, -5.254000186920166, -5.414100170135498, -5.104599952697754, -4.518700122833252, -4.518199920654297, -5.257800102233887, -5.282800197601318, -4.717400074005127, -4.117800235748291, -5.170499801635742, -4.546000003814697, -5.131899833679199, -4.63700008392334, -5.136899948120117, -5.009699821472168, -4.898399829864502, -4.954599857330322, -4.766499996185303, -5.162799835205078, -4.835000038146973, -4.679200172424316, -4.552199840545654, -4.779300212860107, -4.889200210571289, -4.913099765777588, -4.876800060272217, -5.0696001052856445, -5.007599830627441, -4.884200096130371, -5.105899810791016, -5.03849983215332, -5.016600131988525, -5.079999923706055, -4.517600059509277, -4.667099952697754, -4.717899799346924, -4.8094000816345215, -4.853099822998047, -5.1178998947143555, -4.610899925231934, -4.825099945068359, -5.07289981842041, -4.7164998054504395, -4.795899868011475, -4.726600170135498, -4.998300075531006, -4.849400043487549, -5.236700057983398, -4.842400074005127, -5.089399814605713, -5.278299808502197, -5.093999862670898, -5.229000091552734, -5.118800163269043, -5.033199787139893, -4.123300075531006, -4.731200218200684, -5.047800064086914, -4.967700004577637, -5.572700023651123, -5.451900005340576, -4.922800064086914, -5.163000106811523, -4.402599811553955, -4.695300102233887, -4.367000102996826, -4.733799934387207, -4.315499782562256, -4.474599838256836, -4.209099769592285, -4.150400161743164, -4.214099884033203, -4.732500076293945, -4.914899826049805, -4.668499946594238, -4.894599914550781, -4.657700061798096, -4.422599792480469, -4.83459997177124, -4.913899898529053, -4.3668999671936035, -5.17519998550415, -4.922900199890137, -5.208799839019775, -4.753900051116943, -4.796599864959717, -5.14169979095459, -4.289100170135498, -5.112400054931641, -4.947999954223633, -3.9191999435424805, -5.227799892425537, -4.785699844360352, -4.748300075531006, -4.855899810791016, -5.125899791717529, -4.682199954986572, -5.120500087738037, -4.972499847412109, -4.927199840545654, -5.570300102233887, -5.255199909210205, -4.968800067901611, -5.328800201416016, -5.092700004577637, -5.075399875640869, -4.075900077819824, -4.553199768066406, -4.929200172424316, -4.602499961853027, -4.305300235748291, -4.45419979095459, -4.581500053405762, -4.240300178527832, -4.427499771118164, -4.140100002288818, -4.545400142669678, -4.588699817657471, -4.639500141143799, -4.562699794769287, -4.714099884033203, -4.792099952697754, -4.870699882507324, -4.9045000076293945, -4.3445000648498535, -4.513500213623047, -4.641600131988525, -4.693699836730957, -4.698699951171875, -4.806600093841553, -3.9237000942230225, -4.648399829864502, -4.0553998947143555, -4.348800182342529, -4.5447998046875, -4.402699947357178, -4.453700065612793, -4.706099987030029, -4.745699882507324, -5.006999969482422, -4.325200080871582, -5.003900051116943, -4.994500160217285, -4.805699825286865, -4.9618000984191895, -4.694499969482422, -4.950300216674805, -4.0524001121521, -5.225800037384033, -4.515999794006348, -5.147600173950195, -4.271500110626221, -5.073800086975098, -5.3003997802734375, -4.321300029754639, -4.456200122833252, -4.54010009765625, -3.996299982070923, -4.631199836730957, -4.5655999183654785, -4.790500164031982, -4.751699924468994, -4.742099761962891, -4.76800012588501, -4.774199962615967, -4.767199993133545, -3.9862000942230225, -4.026400089263916, -4.021100044250488, -4.200099945068359, -3.807800054550171, -4.287700176239014, -4.522600173950195, -4.60129976272583, -4.620699882507324, -4.642000198364258, -4.707200050354004, -4.768099784851074, -4.3155999183654785, -4.595200061798096, -4.726500034332275, -4.696700096130371, -4.991399765014648, -4.777900218963623, -4.5960001945495605, -4.757999897003174, -4.731299877166748, -5.151800155639648, -4.879799842834473, -5.292500019073486, -4.864999771118164, -4.688300132751465, -4.9710001945495605, -4.569499969482422, -4.80210018157959, -4.579599857330322, -4.154799938201904, -4.756199836730957, -4.283899784088135, -4.364200115203857, -4.512700080871582, -4.693299770355225, -3.164299964904785, -3.7702999114990234, -3.8159000873565674, -3.7316999435424805, -3.7760000228881836, -4.163300037384033, -4.0345001220703125, -4.020299911499023, -4.2418999671936035, -4.368199825286865, -4.0619001388549805, -4.697800159454346, -4.689899921417236, -4.65880012512207, -4.732399940490723, -4.446400165557861, -3.97189998626709, -4.52400016784668, -5.087699890136719, -3.960900068283081, -4.52269983291626, -4.85260009765625, -4.809999942779541, -4.2820000648498535, -4.637899875640869, -3.5876998901367188, -3.953200101852417, -4.639699935913086, -4.928500175476074, -5.551199913024902, -4.231299877166748, -4.127699851989746, -4.2494001388549805, -4.213799953460693, -4.392300128936768, -4.5254998207092285, -4.616700172424316, -2.6382999420166016, -3.3348000049591064, -3.3782999515533447, -3.5423998832702637, -4.369699954986572, -3.5423998832702637, -3.8076000213623047, -4.427999973297119, -4.434500217437744, -4.7540998458862305, -4.409900188446045, -4.301000118255615, -4.198800086975098, -4.99560022354126, -4.843200206756592, -4.805200099945068, -4.759399890899658, -4.672800064086914, -4.845900058746338, -4.862199783325195, -4.84060001373291, -5.046199798583984, -4.931099891662598, -4.338699817657471, -5.235599994659424, -5.059700012207031, -4.5015997886657715, -4.459499835968018, -3.9007999897003174, -3.815500020980835, -4.970200061798096, -4.565999984741211, -4.779099941253662, -4.74970006942749, -4.798900127410889, -4.907899856567383], \"loglift\": [30.0, 29.0, 28.0, 27.0, 26.0, 25.0, 24.0, 23.0, 22.0, 21.0, 20.0, 19.0, 18.0, 17.0, 16.0, 15.0, 14.0, 13.0, 12.0, 11.0, 10.0, 9.0, 8.0, 7.0, 6.0, 5.0, 4.0, 3.0, 2.0, 1.0, 1.0575, 1.0469, 1.0215, 1.0201, 1.0191, 1.0185, 1.0161, 1.0106, 1.0103, 1.0082, 1.0038, 1.0007, 0.9987, 0.9965, 0.9901, 0.9856, 0.9826, 0.9822, 0.9772, 0.9648, 0.9621, 0.9528, 0.9438, 0.9427, 0.9397, 0.9351, 0.9343, 0.9241, 0.915, 0.9137, 0.8629, 0.8569, 0.901, 0.8935, 0.8122, 0.7167, 0.8746, 0.7133, 0.8562, 0.6985, 0.8406, 0.7842, 0.7341, 0.7573, 0.6279, 0.8485, 0.5772, 0.3825, 0.2144, 0.3938, 0.4826, 0.4809, 0.4158, 0.7157, 0.5832, 0.244, 0.7345, 0.3593, 0.0729, 0.1953, 1.7674, 1.7599, 1.7542, 1.7419, 1.7153, 1.6786, 1.6015, 1.5951, 1.5621, 1.5495, 1.5384, 1.5371, 1.5089, 1.494, 1.471, 1.4267, 1.4112, 1.3932, 1.3759, 1.3718, 1.3667, 1.3651, 1.3334, 1.3225, 1.3156, 1.3116, 1.2667, 1.266, 1.2633, 1.2615, 1.2386, 1.2354, 1.1994, 1.2281, 1.0446, 1.0796, 0.9203, 0.8177, 0.5219, 0.9718, 1.1277, 0.4079, 1.0316, 0.1089, 1.8303, 1.7563, 1.706, 1.7052, 1.692, 1.6621, 1.6495, 1.608, 1.5695, 1.5279, 1.526, 1.5103, 1.4978, 1.4843, 1.4837, 1.4742, 1.4671, 1.4351, 1.4329, 1.3968, 1.3965, 1.3824, 1.3683, 1.2481, 1.2465, 1.2179, 1.21, 1.1929, 1.1858, 1.1779, 1.1092, 1.1548, 1.1018, 1.0231, 0.9532, 0.961, 0.7278, 0.8478, 0.5959, 0.8516, 0.868, 0.45, 0.2039, 0.459, 0.5004, 0.6835, 0.8439, 1.935, 1.9068, 1.8957, 1.8891, 1.8729, 1.8524, 1.8416, 1.812, 1.7752, 1.7619, 1.7582, 1.7557, 1.7543, 1.6621, 1.6618, 1.6089, 1.5949, 1.5871, 1.5733, 1.5585, 1.5138, 1.4528, 1.4159, 1.4072, 1.3924, 1.383, 1.3779, 1.3619, 1.3089, 1.2917, 1.2737, 1.1578, 1.0427, 0.7397, 1.0314, 0.8314, 1.1651, 0.9417, 0.7494, 0.7798, 0.7223, 0.4866, 1.9781, 1.9748, 1.9744, 1.9584, 1.953, 1.9497, 1.9218, 1.911, 1.9083, 1.9035, 1.8952, 1.7583, 1.7418, 1.7369, 1.7174, 1.7163, 1.6733, 1.6132, 1.5732, 1.5698, 1.5685, 1.5495, 1.5197, 1.4739, 1.467, 1.4598, 1.4288, 1.4137, 1.4024, 1.3821, 1.3782, 1.3427, 1.1451, 1.0077, 1.0823, 1.2263, 2.5064, 2.4382, 2.3274, 2.3196, 2.3031, 2.2745, 2.2736, 2.2589, 2.2023, 2.1338, 1.9061, 1.7662, 1.7452, 1.7287, 1.646, 1.6436, 1.6422, 1.6161, 1.5798, 1.5357, 1.5322, 1.524, 1.5219, 1.4903, 1.4881, 1.474, 1.4391, 1.2985, 1.2722, 1.2334, 1.1402, 1.0915, 1.0791, 0.8627, 1.0199, 1.017, 0.5114, 2.8036, 2.7208, 2.704, 2.2714, 2.2459, 2.1604, 2.0658, 2.0565, 2.0351, 1.9186, 1.8558, 1.8058, 1.7937, 1.7224, 1.6882, 1.645, 1.6247, 1.5749, 1.509, 1.5022, 1.4884, 1.4286, 1.3616, 1.3547, 1.35, 1.3477, 1.3285, 1.3186, 1.3183, 1.261, 1.1774, 0.5235, 0.7174, 0.6442, 0.5934, 0.6153]}, \"token.table\": {\"Topic\": [1, 2, 4, 1, 2, 3, 4, 5, 6, 1, 3, 1, 2, 3, 4, 5, 3, 4, 5, 1, 3, 4, 5, 6, 7, 2, 3, 4, 1, 2, 5, 6, 1, 2, 4, 5, 1, 3, 4, 2, 1, 2, 6, 2, 1, 3, 5, 7, 1, 3, 4, 5, 6, 7, 2, 5, 1, 3, 4, 5, 6, 7, 4, 5, 6, 1, 2, 4, 7, 2, 6, 1, 2, 1, 3, 5, 7, 1, 1, 2, 3, 4, 6, 1, 4, 6, 7, 1, 4, 3, 5, 1, 2, 3, 4, 1, 2, 3, 4, 7, 2, 4, 1, 2, 4, 2, 3, 4, 5, 6, 1, 1, 5, 2, 3, 5, 7, 1, 3, 7, 1, 4, 1, 2, 3, 1, 2, 3, 4, 5, 6, 1, 2, 3, 4, 5, 6, 2, 6, 1, 2, 3, 5, 6, 2, 3, 1, 2, 3, 4, 5, 7, 1, 2, 3, 4, 5, 1, 4, 5, 7, 1, 3, 5, 6, 1, 2, 5, 6, 1, 2, 3, 5, 6, 7, 1, 2, 4, 6, 1, 2, 3, 5, 1, 2, 3, 4, 5, 6, 1, 2, 3, 2, 3, 4, 2, 3, 2, 4, 5, 7, 1, 7, 2, 4, 1, 2, 3, 4, 5, 1, 1, 2, 3, 4, 5, 6, 1, 2, 3, 4, 5, 6, 7, 5, 5, 5, 2, 5, 5, 5, 1, 1, 3, 4, 5, 6, 2, 3, 3, 4, 2, 1, 2, 3, 4, 2, 3, 1, 2, 3, 4, 5, 7, 1, 2, 3, 4, 5, 6, 5, 1, 3, 4, 5, 7, 1, 4, 5, 1, 2, 2, 7, 1, 3, 5, 4, 5, 1, 2, 3, 3, 5, 1, 2, 4, 6, 1, 2, 3, 2, 3, 4, 5, 1, 5, 2, 3, 4, 5, 7, 5, 4, 5, 1, 4, 2, 3, 4, 1, 2, 3, 4, 6, 2, 4, 1, 4, 5, 6, 1, 3, 3, 4, 7, 3, 1, 4, 7, 1, 2, 4, 4, 1, 3, 4, 5, 1, 2, 3, 4, 5, 2, 5, 1, 2, 3, 4, 2, 3, 4, 1, 5, 2, 5, 6, 7, 2, 5, 5, 1, 4, 6, 1, 2, 3, 2, 3, 5, 2, 2, 4, 3, 4, 6, 7, 1, 2, 4, 7, 1, 3, 6, 7, 1, 2, 3, 4, 6, 1, 5, 6, 1, 2, 4, 7, 2, 4, 5, 1, 5, 1, 2, 4, 6, 1, 4, 5, 7, 1, 3, 3, 4, 5, 3, 1, 2, 2, 3, 6, 4, 5, 1, 7, 7, 1, 2, 3, 4, 5, 1, 6, 3, 4, 2, 3, 4, 5, 6, 1, 2, 3, 4, 6, 7, 1, 2, 3, 1, 2, 4, 5, 6, 3, 1, 2, 6, 1, 2, 3, 4, 5, 1, 3, 5, 3, 2, 4, 5, 2, 4, 1, 5, 1, 3, 6, 7, 2, 7, 3, 5, 6, 1, 2, 3, 5, 1, 2, 5, 6, 1, 2, 4, 2, 3, 4, 3, 2, 3, 1, 4, 6, 7, 1, 2, 2, 3, 4, 5, 7, 1, 2, 2, 5, 1, 1, 2, 3, 5, 7, 2, 4, 5, 7, 2, 6, 1, 2, 4, 1, 2, 3, 4, 5, 2, 3, 7, 1, 3, 5, 4, 4, 5, 1, 3, 1, 2, 4, 7, 1, 2, 6, 1, 2, 1, 2, 3, 6, 4, 7, 4, 5, 1, 2, 5, 7, 1, 2, 4, 5, 1, 1, 6, 1, 1, 3, 5, 1, 3, 5, 6, 1, 3, 5, 1, 1, 2, 5, 3, 6, 2, 5, 2, 7, 1, 5, 1, 3, 1, 2, 3, 4, 5, 6, 7, 1, 2, 2, 1, 2, 1, 2, 3, 4, 7, 1, 6, 4, 3, 6, 3, 2, 3, 6, 1, 2, 3, 4, 5, 6, 7, 4, 6, 1, 4, 5, 7, 1, 4, 1, 2, 4, 2, 4, 5, 6, 7, 1, 3, 5, 1, 4, 1, 2, 4, 5, 6, 7, 1, 5, 4, 5, 1, 2, 3, 4, 5, 6, 7, 1, 5, 6, 7, 1, 2, 3, 4, 7, 2, 3, 4, 5, 7, 1, 6, 1, 3, 7, 4, 5, 4, 5, 2, 4, 1, 3, 1, 2, 3, 5, 1, 2, 3, 4, 5, 1, 2, 3, 4, 6, 1, 3, 4, 6, 1, 3, 5, 1, 5, 4, 5, 1, 2, 3, 5, 2, 3, 4, 1, 1, 1, 2, 3, 4, 5, 6, 7, 2, 3, 5, 1, 2, 3, 4, 5, 6, 1, 2, 3, 4, 4, 5, 4, 5, 1, 1, 1, 1], \"Freq\": [0.9224505134516745, 0.7693416216085067, 0.15386832432170133, 0.15493371698023692, 0.05164457232674564, 0.4131565786139651, 0.05164457232674564, 0.10328914465349127, 0.20657828930698255, 0.34649028656844205, 0.5197354298526631, 0.15719181164235804, 0.23578771746353708, 0.3143836232847161, 0.23578771746353708, 0.07859590582117902, 0.4397154822897752, 0.2198577411448876, 0.2198577411448876, 0.4962463340000087, 0.16541544466666958, 0.05513848155555653, 0.05513848155555653, 0.11027696311111305, 0.11027696311111305, 0.13108197413415953, 0.6554098706707977, 0.13108197413415953, 0.6946641336700381, 0.06315128487909437, 0.12630256975818874, 0.06315128487909437, 0.19459729521520663, 0.4864932380380166, 0.09729864760760332, 0.19459729521520663, 0.6893523762129292, 0.1723380940532323, 0.08616904702661615, 0.892214412179336, 0.4430065493181123, 0.22150327465905614, 0.22150327465905614, 0.9294485671776892, 0.1815372254792352, 0.3630744509584704, 0.1815372254792352, 0.1815372254792352, 0.6240699851781139, 0.10401166419635231, 0.05200583209817616, 0.10401166419635231, 0.05200583209817616, 0.05200583209817616, 0.6153733154252663, 0.20512443847508877, 0.2777750167729273, 0.13888750838646366, 0.13888750838646366, 0.04629583612882122, 0.23147918064410608, 0.23147918064410608, 0.19703842451419037, 0.39407684902838075, 0.39407684902838075, 0.3439494000335466, 0.1719747000167733, 0.1719747000167733, 0.3439494000335466, 0.15659578131943677, 0.7829789065971839, 0.26459844154454293, 0.6614961038613573, 0.1507708128842228, 0.1507708128842228, 0.6030832515368912, 0.9256276170067357, 0.8167719687202634, 0.14406872295008774, 0.3241546266376974, 0.2881374459001755, 0.1080515422125658, 0.1080515422125658, 0.29154663561578986, 0.5830932712315797, 0.6999028771428594, 0.11665047952380989, 0.8702308660750819, 0.8649874558750574, 0.21411882159631238, 0.7494158755870933, 0.125380247429937, 0.125380247429937, 0.6269012371496849, 0.125380247429937, 0.1404502850077475, 0.280900570015495, 0.1404502850077475, 0.1404502850077475, 0.280900570015495, 0.3654655982199838, 0.5481983973299757, 0.8926445491179555, 0.32526160151603645, 0.6505232030320729, 0.2164003514332501, 0.07213345047775002, 0.36066725238875014, 0.14426690095550004, 0.14426690095550004, 0.8834667325097676, 0.8293388245213307, 0.11847697493161866, 0.15855424024860293, 0.31710848049720586, 0.15855424024860293, 0.31710848049720586, 0.8429788213213825, 0.5923260195590151, 0.1974420065196717, 0.9267036407037628, 0.9051423031314539, 0.13522063001236678, 0.13522063001236678, 0.5408825200494671, 0.42268865135379563, 0.16907546054151826, 0.16907546054151826, 0.08453773027075913, 0.08453773027075913, 0.1268065954061387, 0.11062246399807044, 0.05531123199903522, 0.33186739199421134, 0.2765561599951761, 0.16593369599710567, 0.8715270338791776, 0.13362322340208804, 0.6681161170104403, 0.2135633151665354, 0.1067816575832677, 0.1067816575832677, 0.1067816575832677, 0.3203449727498031, 0.4034512628297459, 0.537935017106328, 0.05888047318203633, 0.11776094636407267, 0.176641419546109, 0.529924258638327, 0.11776094636407267, 0.05888047318203633, 0.15992124635284405, 0.42645665694091744, 0.05330708211761468, 0.15992124635284405, 0.15992124635284405, 0.3884963867741534, 0.12949879559138447, 0.25899759118276894, 0.25899759118276894, 0.12400729756210789, 0.24801459512421578, 0.49602919024843156, 0.12400729756210789, 0.196558455842337, 0.524155882246232, 0.131038970561558, 0.131038970561558, 0.24147580504579141, 0.0804919350152638, 0.1609838700305276, 0.0804919350152638, 0.3219677400610552, 0.0804919350152638, 0.14120514774448445, 0.4942180171056956, 0.21180772161672667, 0.07060257387224222, 0.8195123764636284, 0.37556210805068385, 0.18778105402534193, 0.2816715810380129, 0.057115825784109744, 0.2570212160284938, 0.2570212160284938, 0.2570212160284938, 0.11423165156821949, 0.028557912892054872, 0.058710391839435896, 0.5871039183943589, 0.3522623510366154, 0.3338880180477783, 0.5008320270716674, 0.16694400902388914, 0.3390053235862266, 0.5085079853793398, 0.1455306981377632, 0.1455306981377632, 0.43659209441328967, 0.2910613962755264, 0.677284319604899, 0.2709137278419596, 0.2909866499600337, 0.5819732999200674, 0.1933720312148996, 0.0966860156074498, 0.0966860156074498, 0.3867440624297992, 0.0966860156074498, 0.8011751715041832, 0.21567037933255506, 0.1617527844994163, 0.1617527844994163, 0.1617527844994163, 0.053917594833138766, 0.21567037933255506, 0.0479311387976892, 0.0958622775953784, 0.479311387976892, 0.1917245551907568, 0.0479311387976892, 0.0958622775953784, 0.0479311387976892, 0.788193874756225, 0.9107797039986446, 0.8778604776140012, 0.659395529957096, 0.2637582119828384, 0.8970960534345579, 0.9230634177633931, 0.8124716187191315, 0.21635315063682642, 0.43270630127365284, 0.07211771687894214, 0.21635315063682642, 0.07211771687894214, 0.6578533517640016, 0.26314134070560063, 0.1601822821121593, 0.8009114105607964, 0.9408563504024634, 0.4982132139485056, 0.09964264278970113, 0.2491066069742528, 0.14946396418455168, 0.6669717544437204, 0.3334858772218602, 0.3137260647073729, 0.12549042588294917, 0.12549042588294917, 0.25098085176589835, 0.12549042588294917, 0.12549042588294917, 0.5615356685779949, 0.056153566857799486, 0.056153566857799486, 0.056153566857799486, 0.056153566857799486, 0.22461426743119794, 0.857773404831259, 0.18655677409741492, 0.18655677409741492, 0.09327838704870746, 0.4663919352435373, 0.09327838704870746, 0.11842384788962956, 0.7105430873377774, 0.11842384788962956, 0.233979796355398, 0.467959592710796, 0.6217093485382867, 0.4144728990255245, 0.2291365172967941, 0.4582730345935882, 0.875385354073499, 0.3591456639892458, 0.598576106648743, 0.799052692423488, 0.099881586552936, 0.099881586552936, 0.27283119785355026, 0.5456623957071005, 0.7624852739985671, 0.10892646771408102, 0.05446323385704051, 0.10892646771408102, 0.18841212666248616, 0.18841212666248616, 0.5652363799874585, 0.13125334013246764, 0.5250133605298706, 0.13125334013246764, 0.13125334013246764, 0.2175242008991425, 0.6525726026974275, 0.14010399675706625, 0.07005199837853313, 0.4903639886497319, 0.21015599513559938, 0.07005199837853313, 0.9475501894710872, 0.7993429819974059, 0.15986859639948117, 0.8235437131082662, 0.10294296413853328, 0.3759882831091555, 0.4511859397309866, 0.0751976566218311, 0.6746615784324071, 0.09638022549034388, 0.09638022549034388, 0.04819011274517194, 0.09638022549034388, 0.18251654732010728, 0.5475496419603219, 0.606842042087461, 0.11033491674317471, 0.11033491674317471, 0.11033491674317471, 0.14575623336658775, 0.7287811668329387, 0.6721217238236153, 0.25204564643385574, 0.08401521547795192, 0.7515049137663214, 0.3281589481050265, 0.16407947405251325, 0.4922384221575397, 0.16171852984363222, 0.6468741193745289, 0.16171852984363222, 0.9357459929676147, 0.06741607149109702, 0.06741607149109702, 0.4719125004376791, 0.4044964289465821, 0.2539360833829407, 0.3809041250744111, 0.12696804169147036, 0.08464536112764691, 0.12696804169147036, 0.1964798736701183, 0.5894396210103549, 0.4863330258559122, 0.13263627977888515, 0.2210604662981419, 0.13263627977888515, 0.7499375805781051, 0.12498959676301752, 0.12498959676301752, 0.8396610047835622, 0.9056065326663993, 0.19805197217951886, 0.19805197217951886, 0.19805197217951886, 0.39610394435903773, 0.6570325952633927, 0.3285162976316964, 0.8720383036380268, 0.29781818016490597, 0.29781818016490597, 0.446727270247359, 0.1451566685635703, 0.1451566685635703, 0.7257833428178514, 0.09728245613485423, 0.3891298245394169, 0.48641228067427117, 0.8966973626730727, 0.71251679730181, 0.142503359460362, 0.15019347831398647, 0.2252902174709797, 0.15019347831398647, 0.5256771740989526, 0.1843157503841348, 0.5529472511524044, 0.10974310484992787, 0.877944838799423, 0.7575692244033728, 0.05411208745738377, 0.10822417491476755, 0.05411208745738377, 0.47463499137991827, 0.03955291594832652, 0.07910583189665304, 0.07910583189665304, 0.3164233275866122, 0.6524209497578549, 0.08155261871973186, 0.16310523743946373, 0.08905945641288326, 0.2671783692386498, 0.08905945641288326, 0.4452972820644164, 0.11158816749809675, 0.33476450249429024, 0.446352669992387, 0.1527714071274247, 0.7638570356371235, 0.3858584215285008, 0.1286194738428336, 0.2572389476856672, 0.1929292107642504, 0.2636969217017931, 0.13184846085089655, 0.2636969217017931, 0.3955453825526897, 0.10863707941251463, 0.7604595558876025, 0.14027807245419363, 0.14027807245419363, 0.5611122898167745, 0.9112002734927002, 0.1678651880465821, 0.6714607521863284, 0.16075532685377777, 0.32151065370755555, 0.48226598056133335, 0.7903855487221167, 0.22582444249203334, 0.6500184633057623, 0.16250461582644057, 0.8548700713808418, 0.4428049655300077, 0.11070124138250192, 0.22140248276500385, 0.11070124138250192, 0.11070124138250192, 0.07271673114591017, 0.872600773750922, 0.1871384980966986, 0.5614154942900959, 0.45305166145115555, 0.2588866636863746, 0.1294433318431873, 0.06472166592159365, 0.06472166592159365, 0.06396619404896214, 0.1918985821468864, 0.3837971642937728, 0.1279323880979243, 0.1918985821468864, 0.06396619404896214, 0.6820475274196335, 0.0757830586021815, 0.151566117204363, 0.06871298096415666, 0.06871298096415666, 0.41227788578494, 0.06871298096415666, 0.41227788578494, 0.7217625583148266, 0.19579446279303975, 0.29369169418955965, 0.4894861569825994, 0.1676533402083135, 0.1676533402083135, 0.39119112715273147, 0.055884446736104494, 0.22353778694441798, 0.1507197891444337, 0.1507197891444337, 0.6028791565777348, 0.9125088353656801, 0.1709472218085844, 0.5128416654257533, 0.1709472218085844, 0.37511686815183626, 0.5626753022277544, 0.844993383599884, 0.07681758032726217, 0.9027765593561871, 0.5765650647541555, 0.14414126618853887, 0.28828253237707774, 0.3741209802860294, 0.5611814704290441, 0.10939786838627272, 0.10939786838627272, 0.765785078703909, 0.25344648863600105, 0.12672324431800053, 0.12672324431800053, 0.5068929772720021, 0.14731012418451236, 0.29462024836902473, 0.14731012418451236, 0.29462024836902473, 0.3199453138596264, 0.533242189766044, 0.1066484379532088, 0.5814899438479555, 0.14537248596198887, 0.14537248596198887, 0.7153931325228964, 0.3655018692644285, 0.48733582568590467, 0.28174806510105993, 0.14087403255052997, 0.28174806510105993, 0.14087403255052997, 0.3772424759688672, 0.471553094961084, 0.19878968578037468, 0.09939484289018734, 0.09939484289018734, 0.4969742144509367, 0.09939484289018734, 0.3090547640537874, 0.46358214608068105, 0.15756773364512833, 0.6302709345805133, 0.798756832513102, 0.39174144025297447, 0.09793536006324362, 0.34277376022135264, 0.09793536006324362, 0.04896768003162181, 0.2968190165748958, 0.1484095082874479, 0.1484095082874479, 0.2968190165748958, 0.4685692965273223, 0.4685692965273223, 0.09137178627659313, 0.2741153588297794, 0.5482307176595588, 0.33298253757914126, 0.19978952254748478, 0.06659650751582825, 0.33298253757914126, 0.06659650751582825, 0.3374043940320193, 0.22493626268801284, 0.3374043940320193, 0.1578506751675304, 0.6314027006701216, 0.1578506751675304, 0.8951184851022733, 0.653242991026488, 0.27996128186849484, 0.2716619351418839, 0.5433238702837678, 0.901190940453729, 0.5346161298628108, 0.2673080649314054, 0.1336540324657027, 0.33176766761693116, 0.22117844507795412, 0.33176766761693116, 0.7155945617584932, 0.10222779453692761, 0.2850509342356562, 0.09501697807855207, 0.2850509342356562, 0.2850509342356562, 0.6076710157704528, 0.1519177539426132, 0.6842836883090558, 0.13685673766181117, 0.5117098616105642, 0.08528497693509404, 0.08528497693509404, 0.2558549308052821, 0.3164108679593856, 0.4218811572791808, 0.1054702893197952, 0.1054702893197952, 0.9145318475274081, 0.8428703749477148, 0.14047839582461913, 0.9256376110640826, 0.21877520445898113, 0.5469380111474528, 0.10938760222949057, 0.4941509914918685, 0.12353774787296712, 0.12353774787296712, 0.24707549574593424, 0.6999326800265466, 0.20997980400796398, 0.06999326800265465, 0.8288924125371573, 0.19073674888195963, 0.7629469955278385, 0.8435842218387843, 0.1576011869025572, 0.6304047476102288, 0.28174714451232513, 0.5634942890246503, 0.5934998020245782, 0.1978332673415261, 0.8440142574696794, 0.12057346535281134, 0.7906404492357261, 0.19766011230893152, 0.16055807205339742, 0.24083710808009615, 0.08027903602669871, 0.12041855404004807, 0.08027903602669871, 0.16055807205339742, 0.20069759006674678, 0.3010530225494354, 0.6021060450988708, 0.8771622704973914, 0.8906637928396751, 0.8103517739984897, 0.5857641326125412, 0.11715282652250825, 0.11715282652250825, 0.11715282652250825, 0.2343056530450165, 0.44272821243780835, 0.44272821243780835, 0.9233601837359682, 0.33396127324009667, 0.6679225464801933, 0.725797875031862, 0.10640319677750633, 0.10640319677750633, 0.7448223774425443, 0.41221251371436873, 0.1766625058775866, 0.1766625058775866, 0.0883312529387933, 0.0883312529387933, 0.05888750195919553, 0.029443750979597765, 0.13755090200982623, 0.6877545100491311, 0.22315653993619008, 0.29754205324825345, 0.22315653993619008, 0.22315653993619008, 0.8440120841779685, 0.781513247657123, 0.11710946772211123, 0.23421893544422245, 0.5855473386105562, 0.183288241383974, 0.24438432184529868, 0.06109608046132467, 0.366576482767948, 0.12219216092264934, 0.23441303441648823, 0.11720651720824411, 0.5860325860412205, 0.8454523947961782, 0.12077891354231117, 0.055046968381753165, 0.16514090514525948, 0.22018787352701266, 0.16514090514525948, 0.33028181029051895, 0.11009393676350633, 0.20379772255992415, 0.6113931676797725, 0.1408935461680632, 0.704467730840316, 0.32533437066872806, 0.12200038900077302, 0.24400077800154604, 0.04066679633359101, 0.12200038900077302, 0.08133359266718201, 0.08133359266718201, 0.2293065735522731, 0.2293065735522731, 0.34395986032840964, 0.11465328677613655, 0.32387309740511017, 0.24290482305383265, 0.08096827435127754, 0.08096827435127754, 0.24290482305383265, 0.10032577697682493, 0.3009773309304748, 0.10032577697682493, 0.10032577697682493, 0.3009773309304748, 0.465135689998517, 0.34885176749888774, 0.08389947887881559, 0.33559791551526236, 0.5872963521517092, 0.7466889429690996, 0.1244481571615166, 0.4445926624880712, 0.4445926624880712, 0.7060370706862162, 0.14120741413724325, 0.7402283633548077, 0.10574690905068682, 0.6041964103769515, 0.13426586897265588, 0.13426586897265588, 0.06713293448632794, 0.22842373510301103, 0.11421186755150552, 0.11421186755150552, 0.1713178013272583, 0.39974153643026933, 0.11133371382382252, 0.1670005707357338, 0.6123354260310239, 0.05566685691191126, 0.05566685691191126, 0.20590795636297926, 0.6177238690889378, 0.7303492204633382, 0.29213968818533526, 0.8364660341591544, 0.07604236674174131, 0.07604236674174131, 0.17110348999074634, 0.6844139599629854, 0.29891110483338007, 0.5978222096667601, 0.539346857502212, 0.0539346857502212, 0.0539346857502212, 0.3236081145013272, 0.48705797108943666, 0.12176449277235916, 0.24352898554471833, 0.8998438748500956, 0.93623325673759, 0.7402902465069852, 0.16450894366821894, 0.08225447183410947, 0.16167374050264305, 0.16167374050264305, 0.16167374050264305, 0.4850212215079292, 0.17674090624867184, 0.5302227187460155, 0.17674090624867184, 0.6617761399954089, 0.0315131495235909, 0.09453944857077269, 0.0630262990471818, 0.09453944857077269, 0.0630262990471818, 0.3647414069839222, 0.12158046899464074, 0.1823707034919611, 0.24316093798928148, 0.7679323291451302, 0.1706516286989178, 0.5350076217815739, 0.1783358739271913, 0.8958980140478797, 0.8775835119182084, 0.8768646383879812, 0.9423799169581056], \"Term\": [\"abertas\", \"accenture\", \"accenture\", \"acesse\", \"acesse\", \"acesse\", \"acesse\", \"acesse\", \"acesse\", \"acoes\", \"acoes\", \"agile\", \"agile\", \"agile\", \"agile\", \"agile\", \"agilidade\", \"agilidade\", \"agilidade\", \"agora\", \"agora\", \"agora\", \"agora\", \"agora\", \"agora\", \"agosto\", \"agosto\", \"agosto\", \"ainda\", \"ainda\", \"ainda\", \"ainda\", \"ajudar\", \"ajudar\", \"ajudar\", \"ajudar\", \"alem\", \"alem\", \"alem\", \"america\", \"analista\", \"analista\", \"analista\", \"analytics\", \"aprendizados\", \"aprendizados\", \"aprendizados\", \"aprendizados\", \"aqui\", \"aqui\", \"aqui\", \"aqui\", \"aqui\", \"aqui\", \"artificial\", \"artificial\", \"artigo\", \"artigo\", \"artigo\", \"artigo\", \"artigo\", \"artigo\", \"assim\", \"assim\", \"assim\", \"automacao\", \"automacao\", \"automacao\", \"automacao\", \"baixe\", \"baixe\", \"bate\", \"bate\", \"beneficios\", \"beneficios\", \"beneficios\", \"blog\", \"blogdazup\", \"brasil\", \"brasil\", \"brasil\", \"brasil\", \"brasil\", \"bruno\", \"bruno\", \"busca\", \"busca\", \"campinas\", \"canal\", \"carreiras\", \"carreiras\", \"cenario\", \"cenario\", \"cenario\", \"cenario\", \"cesar\", \"cesar\", \"cesar\", \"cesar\", \"cesar\", \"chief\", \"chief\", \"clicando\", \"cliente\", \"cliente\", \"clientes\", \"clientes\", \"clientes\", \"clientes\", \"clientes\", \"clique\", \"codigo\", \"codigo\", \"colaboracao\", \"colaboracao\", \"colaboracao\", \"colaboracao\", \"comentarios\", \"companhias\", \"companhias\", \"compartilhar\", \"conceito\", \"conference\", \"conference\", \"conference\", \"confira\", \"confira\", \"confira\", \"confira\", \"confira\", \"confira\", \"conheca\", \"conheca\", \"conheca\", \"conheca\", \"conheca\", \"conhece\", \"conteudos\", \"conteudos\", \"crescimento\", \"crescimento\", \"crescimento\", \"crescimento\", \"crescimento\", \"crise\", \"crise\", \"dados\", \"dados\", \"dados\", \"dados\", \"dados\", \"dados\", \"data\", \"data\", \"data\", \"data\", \"data\", \"desafio\", \"desafio\", \"desafio\", \"desafio\", \"descubra\", \"descubra\", \"descubra\", \"descubra\", \"desenvolvedor\", \"desenvolvedor\", \"desenvolvedor\", \"desenvolvedor\", \"desenvolvimento\", \"desenvolvimento\", \"desenvolvimento\", \"desenvolvimento\", \"desenvolvimento\", \"desenvolvimento\", \"design\", \"design\", \"design\", \"design\", \"dicas\", \"digitais\", \"digitais\", \"digitais\", \"digital\", \"digital\", \"digital\", \"digital\", \"digital\", \"digital\", \"diretor\", \"diretor\", \"diretor\", \"diretora\", \"diretora\", \"diretora\", \"discussao\", \"discussao\", \"diversas\", \"diversas\", \"diversas\", \"diversas\", \"diversidade\", \"diversidade\", \"driven\", \"driven\", \"durante\", \"durante\", \"durante\", \"durante\", \"durante\", \"duvidas\", \"empresa\", \"empresa\", \"empresa\", \"empresa\", \"empresa\", \"empresa\", \"empresas\", \"empresas\", \"empresas\", \"empresas\", \"empresas\", \"empresas\", \"empresas\", \"engagedbyaction\", \"engagedbydata\", \"engagedbypeople\", \"entao\", \"entao\", \"equipe\", \"ertpytj\", \"estagio\", \"estao\", \"estao\", \"estao\", \"estao\", \"estao\", \"estrategia\", \"estrategia\", \"estrategias\", \"estrategias\", \"estudo\", \"evento\", \"evento\", \"evento\", \"evento\", \"executivo\", \"executivo\", \"experiencia\", \"experiencia\", \"experiencia\", \"experiencia\", \"experiencia\", \"experiencia\", \"fazer\", \"fazer\", \"fazer\", \"fazer\", \"fazer\", \"fazer\", \"forgamechangers\", \"forma\", \"forma\", \"forma\", \"forma\", \"forma\", \"framework\", \"framework\", \"framework\", \"front\", \"front\", \"fundacaoeveris\", \"fundacaoeveris\", \"fundo\", \"fundo\", \"futureofwork\", \"gamechangers\", \"gamechangers\", \"garanta\", \"garanta\", \"garanta\", \"garantir\", \"garantir\", \"gente\", \"gente\", \"gente\", \"gente\", \"gerente\", \"gerente\", \"gerente\", \"gestao\", \"gestao\", \"gestao\", \"gestao\", \"globais\", \"globais\", \"global\", \"global\", \"global\", \"global\", \"global\", \"globalcommunity\", \"growth\", \"growth\", \"grupo\", \"grupo\", \"head\", \"head\", \"head\", \"hoje\", \"hoje\", \"hoje\", \"hoje\", \"hoje\", \"home\", \"home\", \"http\", \"http\", \"http\", \"http\", \"imagem\", \"imagem\", \"impacto\", \"impacto\", \"impacto\", \"impactos\", \"importante\", \"importante\", \"importante\", \"importantes\", \"importantes\", \"importantes\", \"infinite\", \"innovation\", \"innovation\", \"innovation\", \"innovation\", \"inovacao\", \"inovacao\", \"inovacao\", \"inovacao\", \"inovacao\", \"inovar\", \"inovar\", \"inscreva\", \"inscreva\", \"inscreva\", \"inscreva\", \"inscricao\", \"inscricao\", \"inscricao\", \"inscricoes\", \"instation\", \"integra\", \"integra\", \"integra\", \"integra\", \"inteligencia\", \"inteligencia\", \"invilliaacademy\", \"itservices\", \"itservices\", \"itservices\", \"julho\", \"julho\", \"julho\", \"lado\", \"lado\", \"lado\", \"latina\", \"lean\", \"lean\", \"leia\", \"leia\", \"leia\", \"leia\", \"lider\", \"lider\", \"lideranca\", \"lideranca\", \"link\", \"link\", \"link\", \"link\", \"live\", \"live\", \"live\", \"live\", \"live\", \"lugar\", \"lugar\", \"lugar\", \"manager\", \"manager\", \"manager\", \"manager\", \"maneira\", \"maneira\", \"maneira\", \"manter\", \"manter\", \"melhor\", \"melhor\", \"melhor\", \"melhor\", \"melhorar\", \"melhorar\", \"melhorar\", \"melhorar\", \"melhores\", \"melhores\", \"metodologia\", \"metodologia\", \"metodologia\", \"microsoft\", \"mobile\", \"mobile\", \"modelos\", \"modelos\", \"modelos\", \"more\", \"more\", \"muitas\", \"muitas\", \"mulheres\", \"mundo\", \"mundo\", \"mundo\", \"mundo\", \"mundo\", \"mutant\", \"mutant\", \"necessidades\", \"necessidades\", \"negocio\", \"negocio\", \"negocio\", \"negocio\", \"negocio\", \"negocios\", \"negocios\", \"negocios\", \"negocios\", \"negocios\", \"negocios\", \"nesse\", \"nesse\", \"nesse\", \"neste\", \"neste\", \"neste\", \"neste\", \"neste\", \"neves\", \"nova\", \"nova\", \"nova\", \"novo\", \"novo\", \"novo\", \"novo\", \"novo\", \"nunca\", \"nunca\", \"nunca\", \"observamos\", \"office\", \"office\", \"office\", \"officer\", \"officer\", \"open\", \"open\", \"opensource\", \"operacoes\", \"operacoes\", \"operacoes\", \"operations\", \"operations\", \"oportunidade\", \"oportunidade\", \"oportunidade\", \"oportunidades\", \"oportunidades\", \"oportunidades\", \"oportunidades\", \"organizacoes\", \"organizacoes\", \"organizacoes\", \"organizacoes\", \"orgulho\", \"orgulho\", \"orgulho\", \"ouca\", \"ouca\", \"ouca\", \"paineis\", \"painel\", \"painel\", \"papel\", \"papel\", \"papel\", \"papel\", \"papo\", \"papo\", \"people\", \"people\", \"people\", \"people\", \"people\", \"perca\", \"perca\", \"performance\", \"performance\", \"pessoa\", \"pessoas\", \"pessoas\", \"pessoas\", \"pessoas\", \"pessoas\", \"plataforma\", \"plataforma\", \"plataforma\", \"plataforma\", \"plataformas\", \"plataformas\", \"podcast\", \"podcast\", \"podcast\", \"pode\", \"pode\", \"pode\", \"pode\", \"pode\", \"podemos\", \"podemos\", \"podemos\", \"porque\", \"porque\", \"porque\", \"possivel\", \"power\", \"power\", \"pracegover\", \"pracegover\", \"praticas\", \"premio\", \"premio\", \"premio\", \"presenca\", \"presenca\", \"presenca\", \"primeiro\", \"primeiro\", \"principais\", \"principais\", \"principais\", \"principais\", \"problemas\", \"problemas\", \"product\", \"product\", \"produto\", \"produto\", \"produto\", \"produto\", \"produtos\", \"produtos\", \"produtos\", \"produtos\", \"programa\", \"programacao\", \"programacao\", \"proxima\", \"proximo\", \"proximo\", \"proximo\", \"quais\", \"quais\", \"quais\", \"quais\", \"quer\", \"quer\", \"quer\", \"quinta\", \"realidade\", \"realidade\", \"recrutamento\", \"recursos\", \"recursos\", \"renato\", \"renato\", \"rodrigo\", \"rodrigo\", \"sabe\", \"sabe\", \"saber\", \"saber\", \"saiba\", \"saiba\", \"saiba\", \"saiba\", \"saiba\", \"saiba\", \"saiba\", \"santos\", \"santos\", \"science\", \"semana\", \"sendo\", \"senior\", \"senior\", \"senior\", \"senior\", \"senior\", \"servicos\", \"servicos\", \"setembro\", \"sido\", \"sido\", \"sistemas\", \"site\", \"site\", \"site\", \"sobre\", \"sobre\", \"sobre\", \"sobre\", \"sobre\", \"sobre\", \"sobre\", \"solucao\", \"solucao\", \"solucoes\", \"solucoes\", \"solucoes\", \"solucoes\", \"source\", \"spoti\", \"spotify\", \"spotify\", \"spotify\", \"strategy\", \"strategy\", \"strategy\", \"strategy\", \"strategy\", \"talentos\", \"talentos\", \"talentos\", \"talks\", \"talks\", \"tech\", \"tech\", \"tech\", \"tech\", \"tech\", \"tech\", \"techcommunity\", \"techcommunity\", \"techtalents\", \"techtalents\", \"tecnologia\", \"tecnologia\", \"tecnologia\", \"tecnologia\", \"tecnologia\", \"tecnologia\", \"tecnologia\", \"tecnologias\", \"tecnologias\", \"tecnologias\", \"tecnologias\", \"tema\", \"tema\", \"tema\", \"tema\", \"tema\", \"tempos\", \"tempos\", \"tempos\", \"tempos\", \"tempos\", \"testes\", \"testes\", \"texto\", \"texto\", \"texto\", \"that\", \"that\", \"this\", \"this\", \"toda\", \"toda\", \"todas\", \"todas\", \"todos\", \"todos\", \"todos\", \"todos\", \"trabalho\", \"trabalho\", \"trabalho\", \"trabalho\", \"trabalho\", \"transformacao\", \"transformacao\", \"transformacao\", \"transformacao\", \"transformacao\", \"transformacoes\", \"transformacoes\", \"trazer\", \"trazer\", \"tudo\", \"tudo\", \"tudo\", \"unica\", \"unica\", \"unicornios\", \"unicornios\", \"vagas\", \"vagas\", \"vagas\", \"vagas\", \"valor\", \"valor\", \"valor\", \"vamos\", \"vemprazup\", \"venha\", \"venha\", \"venha\", \"virtual\", \"virtual\", \"virtual\", \"virtual\", \"vivendo\", \"vivendo\", \"vivendo\", \"voce\", \"voce\", \"voce\", \"voce\", \"voce\", \"voce\", \"webinar\", \"webinar\", \"webinar\", \"webinar\", \"with\", \"with\", \"world\", \"world\", \"youtube\", \"zupnohomeoffice\", \"zupper\", \"zuppers\"]}, \"R\": 30, \"lambda.step\": 0.01, \"plot.opts\": {\"xlab\": \"PC1\", \"ylab\": \"PC2\"}, \"topic.order\": [2, 6, 4, 3, 5, 7, 1]};\n",
       "\n",
       "function LDAvis_load_lib(url, callback){\n",
       "  var s = document.createElement('script');\n",
       "  s.src = url;\n",
       "  s.async = true;\n",
       "  s.onreadystatechange = s.onload = callback;\n",
       "  s.onerror = function(){console.warn(\"failed to load library \" + url);};\n",
       "  document.getElementsByTagName(\"head\")[0].appendChild(s);\n",
       "}\n",
       "\n",
       "if(typeof(LDAvis) !== \"undefined\"){\n",
       "   // already loaded: just create the visualization\n",
       "   !function(LDAvis){\n",
       "       new LDAvis(\"#\" + \"ldavis_el1496281404946546912488981375959\", ldavis_el1496281404946546912488981375959_data);\n",
       "   }(LDAvis);\n",
       "}else if(typeof define === \"function\" && define.amd){\n",
       "   // require.js is available: use it to load d3/LDAvis\n",
       "   require.config({paths: {d3: \"https://cdnjs.cloudflare.com/ajax/libs/d3/3.5.5/d3.min\"}});\n",
       "   require([\"d3\"], function(d3){\n",
       "      window.d3 = d3;\n",
       "      LDAvis_load_lib(\"https://cdn.rawgit.com/bmabey/pyLDAvis/files/ldavis.v1.0.0.js\", function(){\n",
       "        new LDAvis(\"#\" + \"ldavis_el1496281404946546912488981375959\", ldavis_el1496281404946546912488981375959_data);\n",
       "      });\n",
       "    });\n",
       "}else{\n",
       "    // require.js not available: dynamically load d3 & LDAvis\n",
       "    LDAvis_load_lib(\"https://cdnjs.cloudflare.com/ajax/libs/d3/3.5.5/d3.min.js\", function(){\n",
       "         LDAvis_load_lib(\"https://cdn.rawgit.com/bmabey/pyLDAvis/files/ldavis.v1.0.0.js\", function(){\n",
       "                 new LDAvis(\"#\" + \"ldavis_el1496281404946546912488981375959\", ldavis_el1496281404946546912488981375959_data);\n",
       "            })\n",
       "         });\n",
       "}\n",
       "</script>"
      ],
      "text/plain": [
       "PreparedData(topic_coordinates=              x         y  topics  cluster       Freq\n",
       "topic                                                \n",
       "1      0.090022 -0.036279       1        1  32.118733\n",
       "5     -0.014347  0.135326       2        1  14.933638\n",
       "3      0.010104  0.083493       3        1  14.281336\n",
       "2     -0.107298  0.054238       4        1  12.821437\n",
       "4     -0.158128 -0.124062       5        1  12.687496\n",
       "6      0.139551 -0.049416       6        1   7.387592\n",
       "0      0.040096 -0.063300       7        1   5.769768, topic_info=            Term       Freq      Total Category  logprob  loglift\n",
       "410         blog  17.000000  17.000000  Default  30.0000  30.0000\n",
       "443       mutant  13.000000  13.000000  Default  29.0000  29.0000\n",
       "302         live  25.000000  25.000000  Default  28.0000  28.0000\n",
       "367     mulheres   9.000000   9.000000  Default  27.0000  27.0000\n",
       "382        texto  11.000000  11.000000  Default  26.0000  26.0000\n",
       "..           ...        ...        ...      ...      ...      ...\n",
       "28    tecnologia   2.394748  24.590086   Topic7  -4.5660   0.5235\n",
       "64      strategy   1.935161  16.367662   Topic7  -4.7791   0.7174\n",
       "66         agora   1.992908  18.136154   Topic7  -4.7497   0.6442\n",
       "65          tech   1.897239  18.166305   Topic7  -4.7989   0.5934\n",
       "59   experiencia   1.701300  15.937471   Topic7  -4.9079   0.6153\n",
       "\n",
       "[332 rows x 6 columns], token_table=      Topic      Freq             Term\n",
       "term                                  \n",
       "280       1  0.922451          abertas\n",
       "384       2  0.769342        accenture\n",
       "384       4  0.153868        accenture\n",
       "51        1  0.154934           acesse\n",
       "51        2  0.051645           acesse\n",
       "...     ...       ...              ...\n",
       "122       5  0.178336            world\n",
       "366       1  0.895898          youtube\n",
       "441       1  0.877584  zupnohomeoffice\n",
       "436       1  0.876865           zupper\n",
       "437       1  0.942380          zuppers\n",
       "\n",
       "[758 rows x 3 columns], R=30, lambda_step=0.01, plot_opts={'xlab': 'PC1', 'ylab': 'PC2'}, topic_order=[2, 6, 4, 3, 5, 7, 1])"
      ]
     },
     "execution_count": 112,
     "metadata": {},
     "output_type": "execute_result"
    }
   ],
   "source": [
    "pyLDAvis.enable_notebook()\n",
    "vis = pyLDAvis.gensim.prepare(optimal_model, corpus_tfidf, id2word)\n",
    "vis"
   ]
  },
  {
   "cell_type": "code",
   "execution_count": 83,
   "metadata": {},
   "outputs": [
    {
     "name": "stderr",
     "output_type": "stream",
     "text": [
      "/work/tools/anaconda3/envs/dna-brand-platform/lib/python3.8/site-packages/ipykernel/ipkernel.py:287: DeprecationWarning:\n",
      "\n",
      "`should_run_async` will not call `transform_cell` automatically in the future. Please pass the result to `transformed_cell` argument and any exception that happen during thetransform in `preprocessing_exc_tuple` in IPython 7.17 and above.\n",
      "\n"
     ]
    },
    {
     "ename": "IndexError",
     "evalue": "list index out of range",
     "output_type": "error",
     "traceback": [
      "\u001b[0;31m---------------------------------------------------------------------------\u001b[0m",
      "\u001b[0;31mIndexError\u001b[0m                                Traceback (most recent call last)",
      "\u001b[0;32m<ipython-input-83-46a683eb580b>\u001b[0m in \u001b[0;36m<module>\u001b[0;34m\u001b[0m\n\u001b[1;32m     21\u001b[0m \u001b[0;32mfor\u001b[0m \u001b[0mi\u001b[0m\u001b[0;34m,\u001b[0m \u001b[0max\u001b[0m \u001b[0;32min\u001b[0m \u001b[0menumerate\u001b[0m\u001b[0;34m(\u001b[0m\u001b[0maxes\u001b[0m\u001b[0;34m.\u001b[0m\u001b[0mflatten\u001b[0m\u001b[0;34m(\u001b[0m\u001b[0;34m)\u001b[0m\u001b[0;34m)\u001b[0m\u001b[0;34m:\u001b[0m\u001b[0;34m\u001b[0m\u001b[0;34m\u001b[0m\u001b[0m\n\u001b[1;32m     22\u001b[0m     \u001b[0mfig\u001b[0m\u001b[0;34m.\u001b[0m\u001b[0madd_subplot\u001b[0m\u001b[0;34m(\u001b[0m\u001b[0max\u001b[0m\u001b[0;34m)\u001b[0m\u001b[0;34m\u001b[0m\u001b[0;34m\u001b[0m\u001b[0m\n\u001b[0;32m---> 23\u001b[0;31m     \u001b[0mtopic_words\u001b[0m \u001b[0;34m=\u001b[0m \u001b[0mdict\u001b[0m\u001b[0;34m(\u001b[0m\u001b[0mtopics\u001b[0m\u001b[0;34m[\u001b[0m\u001b[0mi\u001b[0m\u001b[0;34m]\u001b[0m\u001b[0;34m[\u001b[0m\u001b[0;36m1\u001b[0m\u001b[0;34m]\u001b[0m\u001b[0;34m)\u001b[0m\u001b[0;34m\u001b[0m\u001b[0;34m\u001b[0m\u001b[0m\n\u001b[0m\u001b[1;32m     24\u001b[0m     \u001b[0mcloud\u001b[0m\u001b[0;34m.\u001b[0m\u001b[0mgenerate_from_frequencies\u001b[0m\u001b[0;34m(\u001b[0m\u001b[0mtopic_words\u001b[0m\u001b[0;34m,\u001b[0m \u001b[0mmax_font_size\u001b[0m\u001b[0;34m=\u001b[0m\u001b[0;36m300\u001b[0m\u001b[0;34m)\u001b[0m\u001b[0;34m\u001b[0m\u001b[0;34m\u001b[0m\u001b[0m\n\u001b[1;32m     25\u001b[0m     \u001b[0mplt\u001b[0m\u001b[0;34m.\u001b[0m\u001b[0mgca\u001b[0m\u001b[0;34m(\u001b[0m\u001b[0;34m)\u001b[0m\u001b[0;34m.\u001b[0m\u001b[0mimshow\u001b[0m\u001b[0;34m(\u001b[0m\u001b[0mcloud\u001b[0m\u001b[0;34m)\u001b[0m\u001b[0;34m\u001b[0m\u001b[0;34m\u001b[0m\u001b[0m\n",
      "\u001b[0;31mIndexError\u001b[0m: list index out of range"
     ]
    },
    {
     "data": {
      "image/png": "[encoded data removed]",
      "text/plain": [
       "<Figure size 720x720 with 9 Axes>"
      ]
     },
     "metadata": {
      "needs_background": "light"
     },
     "output_type": "display_data"
    }
   ],
   "source": [
    "# 1. Wordcloud of Top N words in each topic\n",
    "from matplotlib import pyplot as plt\n",
    "from wordcloud import WordCloud, STOPWORDS\n",
    "import matplotlib.colors as mcolors\n",
    "\n",
    "cols = [color for name, color in mcolors.TABLEAU_COLORS.items()]  # more colors: 'mcolors.XKCD_COLORS'\n",
    "\n",
    "cloud = WordCloud(stopwords=nltk_stopwords,\n",
    "                  background_color='white',\n",
    "                  width=2500,\n",
    "                  height=1800,\n",
    "                  max_words=10,\n",
    "                  colormap='tab10',\n",
    "                  color_func=lambda *args, **kwargs: cols[i],\n",
    "                  prefer_horizontal=1.0)\n",
    "\n",
    "topics = optimal_model.show_topics(formatted=False)\n",
    "\n",
    "fig, axes = plt.subplots(3, 3, figsize=(10,10), sharex=True, sharey=True)\n",
    "\n",
    "for i, ax in enumerate(axes.flatten()):\n",
    "    fig.add_subplot(ax)\n",
    "    topic_words = dict(topics[i][1])\n",
    "    cloud.generate_from_frequencies(topic_words, max_font_size=300)\n",
    "    plt.gca().imshow(cloud)\n",
    "    plt.gca().set_title('Topic ' + str(i), fontdict=dict(size=16))\n",
    "    plt.gca().axis('off')\n",
    "\n",
    "\n",
    "plt.subplots_adjust(wspace=0, hspace=0)\n",
    "plt.axis('off')\n",
    "plt.margins(x=0, y=0)\n",
    "plt.tight_layout()\n",
    "plt.show()"
   ]
  },
  {
   "cell_type": "code",
   "execution_count": null,
   "metadata": {},
   "outputs": [],
   "source": [
    "from collections import Counter\n",
    "topics = optimal_model.show_topics(formatted=False)\n",
    "data_flat = [w for w_list in processed_docs for w in w_list]\n",
    "counter = Counter(data_flat)\n",
    "\n",
    "out = []\n",
    "for i, topic in topics:\n",
    "    for word, weight in topic:\n",
    "        out.append([word, i , weight, counter[word]])\n",
    "\n",
    "df = pd.DataFrame(out, columns=['word', 'topic_id', 'importance', 'word_count'])        \n",
    "\n",
    "# Plot Word Count and Weights of Topic Keywords\n",
    "fig, axes = plt.subplots(3, 3, figsize=(10,10), sharey=True, dpi=160)\n",
    "cols = [color for name, color in mcolors.TABLEAU_COLORS.items()]\n",
    "for i, ax in enumerate(axes.flatten()):\n",
    "    ax.bar(x='word', height=\"word_count\", data=df.loc[df.topic_id==i, :], color=cols[i], width=0.5, alpha=0.3, label='Word Count')\n",
    "    ax_twin = ax.twinx()\n",
    "    ax_twin.bar(x='word', height=\"importance\", data=df.loc[df.topic_id==i, :], color=cols[i], width=0.2, label='Weights')\n",
    "    ax.set_ylabel('Word Count', color=cols[i])\n",
    "    ax_twin.set_ylim(0, 0.030); ax.set_ylim(0, 3500)\n",
    "    ax.set_title('Topic: ' + str(i), color=cols[i], fontsize=16)\n",
    "    ax.tick_params(axis='y', left=False)\n",
    "    ax.set_xticklabels(df.loc[df.topic_id==i, 'word'], rotation=30, horizontalalignment= 'right')\n",
    "    ax.legend(loc='upper left'); ax_twin.legend(loc='upper right')\n",
    "\n",
    "fig.tight_layout(w_pad=2)    \n",
    "fig.suptitle('Word Count and Importance of Topic Keywords', fontsize=12, y=1.05)    \n",
    "plt.show()"
   ]
  },
  {
   "cell_type": "markdown",
   "metadata": {},
   "source": [
    "---"
   ]
  },
  {
   "cell_type": "markdown",
   "metadata": {},
   "source": [
    "### PRÓXIMOS PASSOS"
   ]
  },
  {
   "cell_type": "markdown",
   "metadata": {},
   "source": [
    "> 1. Identificar os tópicos (tipo,assunto,modelo)  \n",
    "    * Identificar o número ideal de tópicos ( fine tunning )  \n",
    "    * Categorizar o dataset utilizando os tópicos modelados  \n",
    "2. Servir o dataset categorizado como input para um modelo supervisionado  \n",
    "    * Avaliar os resultados do modelo supervisionado  "
   ]
  },
  {
   "cell_type": "markdown",
   "metadata": {},
   "source": [
    "### REFERÊNCIAS"
   ]
  },
  {
   "cell_type": "markdown",
   "metadata": {},
   "source": [
    "https://www.machinelearningplus.com/nlp/topic-modeling-gensim-python/  \n",
    "https://www.machinelearningplus.com/nlp/topic-modeling-visualization-how-to-present-results-lda-models/\n"
   ]
  },
  {
   "cell_type": "markdown",
   "metadata": {},
   "source": [
    "https://towardsdatascience.com/end-to-end-topic-modeling-in-python-latent-dirichlet-allocation-lda-35ce4ed6b3e0  \n",
    "https://github.com/pycaret/pycaret/blob/master/tutorials/Natural%20Language%20Processing%20Tutorial%20Level%20Beginner%20-%20NLP101.ipynb\n",
    "https://texthero.org/docs/api/texthero.visualization.wordcloud.html#texthero.visualization.wordcloud  \n",
    "https://towardsdatascience.com/topic-modeling-and-latent-dirichlet-allocation-in-python-9bf156893c24  \n",
    "https://radimrehurek.com/gensim/"
   ]
  },
  {
   "cell_type": "markdown",
   "metadata": {},
   "source": []
  },
  {
   "cell_type": "markdown",
   "metadata": {},
   "source": []
  },
  {
   "cell_type": "markdown",
   "metadata": {},
   "source": []
  },
  {
   "cell_type": "code",
   "execution_count": null,
   "metadata": {},
   "outputs": [],
   "source": []
  }
 ],
 "metadata": {
  "kernelspec": {
   "display_name": "Python 3",
   "language": "python",
   "name": "python3"
  },
  "language_info": {
   "codemirror_mode": {
    "name": "ipython",
    "version": 3
   },
   "file_extension": ".py",
   "mimetype": "text/x-python",
   "name": "python",
   "nbconvert_exporter": "python",
   "pygments_lexer": "ipython3",
   "version": "3.8.5"
  }
 },
 "nbformat": 4,
 "nbformat_minor": 4
}
