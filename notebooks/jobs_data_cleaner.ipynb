{
 "cells": [
  {
   "cell_type": "code",
   "execution_count": 1,
   "metadata": {},
   "outputs": [],
   "source": [
    "#import os, random, sys, time, shutil, re, csv, datetime, pickle, math \n",
    "import pandas as pd"
   ]
  },
  {
   "cell_type": "code",
   "execution_count": 2,
   "metadata": {},
   "outputs": [
    {
     "data": {
      "text/html": [
       "<div>\n",
       "<style scoped>\n",
       "    .dataframe tbody tr th:only-of-type {\n",
       "        vertical-align: middle;\n",
       "    }\n",
       "\n",
       "    .dataframe tbody tr th {\n",
       "        vertical-align: top;\n",
       "    }\n",
       "\n",
       "    .dataframe thead th {\n",
       "        text-align: right;\n",
       "    }\n",
       "</style>\n",
       "<table border=\"1\" class=\"dataframe\">\n",
       "  <thead>\n",
       "    <tr style=\"text-align: right;\">\n",
       "      <th></th>\n",
       "      <th>title</th>\n",
       "      <th>company</th>\n",
       "      <th>date</th>\n",
       "      <th>applicants</th>\n",
       "      <th>description</th>\n",
       "      <th>views</th>\n",
       "      <th>location</th>\n",
       "      <th>industry</th>\n",
       "      <th>job functions</th>\n",
       "    </tr>\n",
       "  </thead>\n",
       "  <tbody>\n",
       "    <tr>\n",
       "      <th>0</th>\n",
       "      <td>Associate Scientist / Sr. Associate Scientist,...</td>\n",
       "      <td>23andMe</td>\n",
       "      <td>2021-01-23</td>\n",
       "      <td>17</td>\n",
       "      <td>Who We Are 23andMe, the leading consumer genet...</td>\n",
       "      <td>254</td>\n",
       "      <td>South San Francisco, CA</td>\n",
       "      <td>Information Technology &amp; Services, Computer So...</td>\n",
       "      <td>Research, Analyst, Information Technology</td>\n",
       "    </tr>\n",
       "    <tr>\n",
       "      <th>1</th>\n",
       "      <td>Senior / Principal Clinical Data Manager</td>\n",
       "      <td>23andMe</td>\n",
       "      <td>2021-01-23</td>\n",
       "      <td>5</td>\n",
       "      <td>Who We Are 23andMe, the leading consumer genet...</td>\n",
       "      <td>49</td>\n",
       "      <td>South San Francisco, CA</td>\n",
       "      <td>Information Technology &amp; Services, Computer So...</td>\n",
       "      <td>Research, Analyst, Information Technology</td>\n",
       "    </tr>\n",
       "    <tr>\n",
       "      <th>2</th>\n",
       "      <td>Team Lead, Senior Appsec Engineer</td>\n",
       "      <td>23andMe</td>\n",
       "      <td>2021-01-27</td>\n",
       "      <td>0</td>\n",
       "      <td>23andMe is looking for an experienced Applicat...</td>\n",
       "      <td>8</td>\n",
       "      <td>Sunnyvale, CA</td>\n",
       "      <td>Information Technology &amp; Services, Computer So...</td>\n",
       "      <td>Customer Service, Information Technology</td>\n",
       "    </tr>\n",
       "    <tr>\n",
       "      <th>3</th>\n",
       "      <td>Business Analyst Intern (Remote)</td>\n",
       "      <td>23andMe</td>\n",
       "      <td>2021-01-27</td>\n",
       "      <td>67</td>\n",
       "      <td>23andMe is looking for a Business Analyst Inte...</td>\n",
       "      <td>368</td>\n",
       "      <td>Sunnyvale, CA</td>\n",
       "      <td>Information Technology &amp; Services, Computer So...</td>\n",
       "      <td>Business Development, Sales</td>\n",
       "    </tr>\n",
       "    <tr>\n",
       "      <th>4</th>\n",
       "      <td>IT &amp; Security Project Manager</td>\n",
       "      <td>23andMe</td>\n",
       "      <td>2021-01-28</td>\n",
       "      <td>1</td>\n",
       "      <td>23andMe is looking for a talented and experien...</td>\n",
       "      <td>19</td>\n",
       "      <td>Sunnyvale, CA</td>\n",
       "      <td>Information Technology &amp; Services, Computer So...</td>\n",
       "      <td>Project Management, Information Technology</td>\n",
       "    </tr>\n",
       "    <tr>\n",
       "      <th>5</th>\n",
       "      <td>CMC Process Development Lead</td>\n",
       "      <td>23andMe</td>\n",
       "      <td>2021-01-26</td>\n",
       "      <td>0</td>\n",
       "      <td>CMC Process Development Lead Who We Are 23andM...</td>\n",
       "      <td>39</td>\n",
       "      <td>South San Francisco, CA</td>\n",
       "      <td>Information Technology &amp; Services, Computer So...</td>\n",
       "      <td>Management, Manufacturing</td>\n",
       "    </tr>\n",
       "    <tr>\n",
       "      <th>6</th>\n",
       "      <td>Senior Manager, Competitive Intelligence</td>\n",
       "      <td>23andMe</td>\n",
       "      <td>2021-01-23</td>\n",
       "      <td>155</td>\n",
       "      <td>The future of healthcare is changing at a rapi...</td>\n",
       "      <td>1,410</td>\n",
       "      <td>Sunnyvale, CA</td>\n",
       "      <td>Information Technology &amp; Services, Computer So...</td>\n",
       "      <td>Research, Analyst, Information Technology</td>\n",
       "    </tr>\n",
       "    <tr>\n",
       "      <th>7</th>\n",
       "      <td>CMC Clinical Supply Chain Manager</td>\n",
       "      <td>23andMe</td>\n",
       "      <td>2021-01-17</td>\n",
       "      <td>29</td>\n",
       "      <td>Who We Are Since 2006, 23andMe’s mission has b...</td>\n",
       "      <td>271</td>\n",
       "      <td>South San Francisco, CA</td>\n",
       "      <td>Information Technology &amp; Services, Computer So...</td>\n",
       "      <td>Management, Manufacturing</td>\n",
       "    </tr>\n",
       "    <tr>\n",
       "      <th>8</th>\n",
       "      <td>User Experience Research Intern (Remote)</td>\n",
       "      <td>23andMe</td>\n",
       "      <td>2021-01-28</td>\n",
       "      <td>22</td>\n",
       "      <td>Overview Are you passionate about uncovering t...</td>\n",
       "      <td>133</td>\n",
       "      <td>Sunnyvale, CA</td>\n",
       "      <td>Information Technology &amp; Services, Computer So...</td>\n",
       "      <td>Other</td>\n",
       "    </tr>\n",
       "    <tr>\n",
       "      <th>9</th>\n",
       "      <td>Legal Intern (Remote)</td>\n",
       "      <td>23andMe</td>\n",
       "      <td>2021-01-28</td>\n",
       "      <td>24</td>\n",
       "      <td>23andMe is looking for a Legal Intern to join ...</td>\n",
       "      <td>189</td>\n",
       "      <td>Sunnyvale, CA</td>\n",
       "      <td>Information Technology &amp; Services, Computer So...</td>\n",
       "      <td>Education, Training</td>\n",
       "    </tr>\n",
       "  </tbody>\n",
       "</table>\n",
       "</div>"
      ],
      "text/plain": [
       "                                               title  company        date  \\\n",
       "0  Associate Scientist / Sr. Associate Scientist,...  23andMe  2021-01-23   \n",
       "1           Senior / Principal Clinical Data Manager  23andMe  2021-01-23   \n",
       "2                  Team Lead, Senior Appsec Engineer  23andMe  2021-01-27   \n",
       "3                   Business Analyst Intern (Remote)  23andMe  2021-01-27   \n",
       "4                      IT & Security Project Manager  23andMe  2021-01-28   \n",
       "5                       CMC Process Development Lead  23andMe  2021-01-26   \n",
       "6           Senior Manager, Competitive Intelligence  23andMe  2021-01-23   \n",
       "7                  CMC Clinical Supply Chain Manager  23andMe  2021-01-17   \n",
       "8           User Experience Research Intern (Remote)  23andMe  2021-01-28   \n",
       "9                              Legal Intern (Remote)  23andMe  2021-01-28   \n",
       "\n",
       "  applicants                                        description  views  \\\n",
       "0         17  Who We Are 23andMe, the leading consumer genet...    254   \n",
       "1          5  Who We Are 23andMe, the leading consumer genet...     49   \n",
       "2          0  23andMe is looking for an experienced Applicat...      8   \n",
       "3         67  23andMe is looking for a Business Analyst Inte...    368   \n",
       "4          1  23andMe is looking for a talented and experien...     19   \n",
       "5          0  CMC Process Development Lead Who We Are 23andM...     39   \n",
       "6        155  The future of healthcare is changing at a rapi...  1,410   \n",
       "7         29  Who We Are Since 2006, 23andMe’s mission has b...    271   \n",
       "8         22  Overview Are you passionate about uncovering t...    133   \n",
       "9         24  23andMe is looking for a Legal Intern to join ...    189   \n",
       "\n",
       "                  location                                           industry  \\\n",
       "0  South San Francisco, CA  Information Technology & Services, Computer So...   \n",
       "1  South San Francisco, CA  Information Technology & Services, Computer So...   \n",
       "2            Sunnyvale, CA  Information Technology & Services, Computer So...   \n",
       "3            Sunnyvale, CA  Information Technology & Services, Computer So...   \n",
       "4            Sunnyvale, CA  Information Technology & Services, Computer So...   \n",
       "5  South San Francisco, CA  Information Technology & Services, Computer So...   \n",
       "6            Sunnyvale, CA  Information Technology & Services, Computer So...   \n",
       "7  South San Francisco, CA  Information Technology & Services, Computer So...   \n",
       "8            Sunnyvale, CA  Information Technology & Services, Computer So...   \n",
       "9            Sunnyvale, CA  Information Technology & Services, Computer So...   \n",
       "\n",
       "                                job functions  \n",
       "0   Research, Analyst, Information Technology  \n",
       "1   Research, Analyst, Information Technology  \n",
       "2    Customer Service, Information Technology  \n",
       "3                 Business Development, Sales  \n",
       "4  Project Management, Information Technology  \n",
       "5                   Management, Manufacturing  \n",
       "6   Research, Analyst, Information Technology  \n",
       "7                   Management, Manufacturing  \n",
       "8                                       Other  \n",
       "9                         Education, Training  "
      ]
     },
     "execution_count": 2,
     "metadata": {},
     "output_type": "execute_result"
    }
   ],
   "source": [
    "job_data = pd.read_csv('jobs.csv')\n",
    "job_data['job functions'] = job_data['job functions'].fillna('not found')\n",
    "job_data['industry'] = job_data['industry'].fillna('not found')\n",
    "job_data.head(10)"
   ]
  },
  {
   "cell_type": "code",
   "execution_count": 3,
   "metadata": {},
   "outputs": [
    {
     "data": {
      "text/plain": [
       "array(['23andMe', 'Actifio', 'Adaptive Biotechnologies Corp.', 'Adyen',\n",
       "       'Airbnb', 'Alteryx', 'Anaplan', 'AppDirect', 'AppDynamics',\n",
       "       'Apttus', 'Atlassian'], dtype=object)"
      ]
     },
     "execution_count": 3,
     "metadata": {},
     "output_type": "execute_result"
    }
   ],
   "source": [
    "job_data['company'].unique()"
   ]
  },
  {
   "cell_type": "code",
   "execution_count": 4,
   "metadata": {},
   "outputs": [],
   "source": [
    "mask = job_data['title'].duplicated(keep=False)\n",
    "job_data.loc[mask, 'title'] += (' - ' + job_data.groupby('title').cumcount().add(1).astype(str))"
   ]
  },
  {
   "cell_type": "code",
   "execution_count": 5,
   "metadata": {},
   "outputs": [
    {
     "data": {
      "text/plain": [
       "Senior Engineering Manager                             1\n",
       "Principal Security Engineer - 2                        1\n",
       "AppDynamics Field Security Architect                   1\n",
       "Legal Intern (Remote)                                  1\n",
       "Director, HCP Marketing T-Detect                       1\n",
       "                                                      ..\n",
       "Senior Backend Software Engineer, Confluence           1\n",
       "Senior Backend Engineer, Community Support Platform    1\n",
       "Strategy and Business Operations, Senior Associate     1\n",
       "AppDynamics Engineering Support Team Manager           1\n",
       "Senior Software Engineer - 9                           1\n",
       "Name: title, Length: 1484, dtype: int64"
      ]
     },
     "execution_count": 5,
     "metadata": {},
     "output_type": "execute_result"
    }
   ],
   "source": [
    "job_data['title'].value_counts()"
   ]
  },
  {
   "cell_type": "code",
   "execution_count": 6,
   "metadata": {},
   "outputs": [],
   "source": [
    "#cleared_job_data = job_data.loc[~job_data['company'].isin(['Dextra', 'Claro Brasil', 'Itaú Unibanco'])]\n",
    "#cleared_job_data['company'].unique()\n",
    "#cleared_job_data.to_csv('jobs.csv', index=False)"
   ]
  },
  {
   "cell_type": "code",
   "execution_count": 7,
   "metadata": {},
   "outputs": [],
   "source": [
    "splitted_data = pd.DataFrame([], columns=['job', 'type', 'description'])"
   ]
  },
  {
   "cell_type": "code",
   "execution_count": 8,
   "metadata": {},
   "outputs": [],
   "source": [
    "for index, row in job_data.iterrows():\n",
    "    \n",
    "    splitted_industry = row['industry'].split(', ')\n",
    "    for industry in splitted_industry:\n",
    "        to_append = [row['title'], 'industry', industry]\n",
    "        splitted_data = splitted_data.append(pd.DataFrame([to_append], columns=splitted_data.columns), ignore_index=True)\n",
    "        \n",
    "    splitted_job_function = row['job functions'].split(', ')\n",
    "    for job_function in splitted_job_function:\n",
    "        to_append = [row['title'], 'job function', job_function]\n",
    "        splitted_data = splitted_data.append(pd.DataFrame([to_append], columns=splitted_data.columns), ignore_index=True)"
   ]
  },
  {
   "cell_type": "code",
   "execution_count": 9,
   "metadata": {},
   "outputs": [
    {
     "data": {
      "text/plain": [
       "Information Technology & Services    684\n",
       "Internet                             520\n",
       "Computer Software                    467\n",
       "Computer Hardware                    166\n",
       "Computer Networking                  166\n",
       "Hospitality                          150\n",
       "Travel & Tourism                     148\n",
       "Leisure                              148\n",
       "Financial Services                   135\n",
       "Marketing & Advertising              129\n",
       "Biotechnology                        102\n",
       "Pharmaceuticals                       62\n",
       "Hospital & Health Care                62\n",
       "not found                             35\n",
       "Computer & Network Security            2\n",
       "Information Services                   1\n",
       "Name: description, dtype: int64"
      ]
     },
     "execution_count": 9,
     "metadata": {},
     "output_type": "execute_result"
    }
   ],
   "source": [
    "splitted_data.loc[splitted_data['type'] == 'industry']['description'].value_counts()"
   ]
  },
  {
   "cell_type": "code",
   "execution_count": 10,
   "metadata": {},
   "outputs": [
    {
     "data": {
      "text/plain": [
       "Information Technology & Services                                                    387\n",
       "Internet                                                                             245\n",
       "Computer Hardware, Computer Software, Computer Networking                            166\n",
       "Hospitality, Internet, Leisure, Travel & Tourism                                     145\n",
       "Financial Services                                                                   132\n",
       "Marketing & Advertising, Information Technology & Services, Computer Software        129\n",
       "Information Technology & Services, Computer Software, Internet                       117\n",
       "Biotechnology, Hospital & Health Care, Pharmaceuticals                                62\n",
       "Information Technology & Services, Computer Software, Biotechnology                   40\n",
       "not found                                                                             35\n",
       "Computer Software                                                                      9\n",
       "Internet, Leisure, Travel & Tourism, Information Technology & Services                 2\n",
       "Internet, Computer Software, Information Technology & Services                         2\n",
       "Information Technology & Services, Computer Software, Computer & Network Security      2\n",
       "Internet, Hospitality                                                                  2\n",
       "Internet, Information Technology & Services                                            2\n",
       "Financial Services, Information Technology & Services                                  1\n",
       "Internet, Hospitality, Information Technology & Services                               1\n",
       "Internet, Hospitality, Financial Services                                              1\n",
       "Internet, Computer Software, Hospitality                                               1\n",
       "Internet, Leisure, Travel & Tourism                                                    1\n",
       "Internet, Financial Services                                                           1\n",
       "Computer Software, Information Services, Information Technology & Services             1\n",
       "Name: industry, dtype: int64"
      ]
     },
     "execution_count": 10,
     "metadata": {},
     "output_type": "execute_result"
    }
   ],
   "source": [
    "job_data['industry'].value_counts()"
   ]
  },
  {
   "cell_type": "code",
   "execution_count": 11,
   "metadata": {},
   "outputs": [],
   "source": [
    "splitted_data.to_csv('splitted_data.csv', index=False)"
   ]
  },
  {
   "cell_type": "code",
   "execution_count": 12,
   "metadata": {},
   "outputs": [],
   "source": [
    "job_data.to_csv('jobs_filtered.csv', index=False)"
   ]
  },
  {
   "cell_type": "code",
   "execution_count": 13,
   "metadata": {},
   "outputs": [
    {
     "data": {
      "text/html": [
       "<div>\n",
       "<style scoped>\n",
       "    .dataframe tbody tr th:only-of-type {\n",
       "        vertical-align: middle;\n",
       "    }\n",
       "\n",
       "    .dataframe tbody tr th {\n",
       "        vertical-align: top;\n",
       "    }\n",
       "\n",
       "    .dataframe thead th {\n",
       "        text-align: right;\n",
       "    }\n",
       "</style>\n",
       "<table border=\"1\" class=\"dataframe\">\n",
       "  <thead>\n",
       "    <tr style=\"text-align: right;\">\n",
       "      <th></th>\n",
       "      <th>title</th>\n",
       "      <th>company</th>\n",
       "      <th>date</th>\n",
       "      <th>applicants</th>\n",
       "      <th>description</th>\n",
       "      <th>views</th>\n",
       "      <th>location</th>\n",
       "      <th>industry</th>\n",
       "      <th>job functions</th>\n",
       "    </tr>\n",
       "  </thead>\n",
       "  <tbody>\n",
       "    <tr>\n",
       "      <th>0</th>\n",
       "      <td>Associate Scientist / Sr. Associate Scientist,...</td>\n",
       "      <td>23andMe</td>\n",
       "      <td>2021-01-23</td>\n",
       "      <td>17</td>\n",
       "      <td>Who We Are 23andMe, the leading consumer genet...</td>\n",
       "      <td>254</td>\n",
       "      <td>South San Francisco, CA</td>\n",
       "      <td>Information Technology &amp; Services, Computer So...</td>\n",
       "      <td>Research, Analyst, Information Technology</td>\n",
       "    </tr>\n",
       "    <tr>\n",
       "      <th>1</th>\n",
       "      <td>Senior / Principal Clinical Data Manager</td>\n",
       "      <td>23andMe</td>\n",
       "      <td>2021-01-23</td>\n",
       "      <td>5</td>\n",
       "      <td>Who We Are 23andMe, the leading consumer genet...</td>\n",
       "      <td>49</td>\n",
       "      <td>South San Francisco, CA</td>\n",
       "      <td>Information Technology &amp; Services, Computer So...</td>\n",
       "      <td>Research, Analyst, Information Technology</td>\n",
       "    </tr>\n",
       "    <tr>\n",
       "      <th>2</th>\n",
       "      <td>Team Lead, Senior Appsec Engineer</td>\n",
       "      <td>23andMe</td>\n",
       "      <td>2021-01-27</td>\n",
       "      <td>0</td>\n",
       "      <td>23andMe is looking for an experienced Applicat...</td>\n",
       "      <td>8</td>\n",
       "      <td>Sunnyvale, CA</td>\n",
       "      <td>Information Technology &amp; Services, Computer So...</td>\n",
       "      <td>Customer Service, Information Technology</td>\n",
       "    </tr>\n",
       "    <tr>\n",
       "      <th>3</th>\n",
       "      <td>Business Analyst Intern (Remote)</td>\n",
       "      <td>23andMe</td>\n",
       "      <td>2021-01-27</td>\n",
       "      <td>67</td>\n",
       "      <td>23andMe is looking for a Business Analyst Inte...</td>\n",
       "      <td>368</td>\n",
       "      <td>Sunnyvale, CA</td>\n",
       "      <td>Information Technology &amp; Services, Computer So...</td>\n",
       "      <td>Business Development, Sales</td>\n",
       "    </tr>\n",
       "    <tr>\n",
       "      <th>4</th>\n",
       "      <td>IT &amp; Security Project Manager</td>\n",
       "      <td>23andMe</td>\n",
       "      <td>2021-01-28</td>\n",
       "      <td>1</td>\n",
       "      <td>23andMe is looking for a talented and experien...</td>\n",
       "      <td>19</td>\n",
       "      <td>Sunnyvale, CA</td>\n",
       "      <td>Information Technology &amp; Services, Computer So...</td>\n",
       "      <td>Project Management, Information Technology</td>\n",
       "    </tr>\n",
       "  </tbody>\n",
       "</table>\n",
       "</div>"
      ],
      "text/plain": [
       "                                               title  company        date  \\\n",
       "0  Associate Scientist / Sr. Associate Scientist,...  23andMe  2021-01-23   \n",
       "1           Senior / Principal Clinical Data Manager  23andMe  2021-01-23   \n",
       "2                  Team Lead, Senior Appsec Engineer  23andMe  2021-01-27   \n",
       "3                   Business Analyst Intern (Remote)  23andMe  2021-01-27   \n",
       "4                      IT & Security Project Manager  23andMe  2021-01-28   \n",
       "\n",
       "  applicants                                        description views  \\\n",
       "0         17  Who We Are 23andMe, the leading consumer genet...   254   \n",
       "1          5  Who We Are 23andMe, the leading consumer genet...    49   \n",
       "2          0  23andMe is looking for an experienced Applicat...     8   \n",
       "3         67  23andMe is looking for a Business Analyst Inte...   368   \n",
       "4          1  23andMe is looking for a talented and experien...    19   \n",
       "\n",
       "                  location                                           industry  \\\n",
       "0  South San Francisco, CA  Information Technology & Services, Computer So...   \n",
       "1  South San Francisco, CA  Information Technology & Services, Computer So...   \n",
       "2            Sunnyvale, CA  Information Technology & Services, Computer So...   \n",
       "3            Sunnyvale, CA  Information Technology & Services, Computer So...   \n",
       "4            Sunnyvale, CA  Information Technology & Services, Computer So...   \n",
       "\n",
       "                                job functions  \n",
       "0   Research, Analyst, Information Technology  \n",
       "1   Research, Analyst, Information Technology  \n",
       "2    Customer Service, Information Technology  \n",
       "3                 Business Development, Sales  \n",
       "4  Project Management, Information Technology  "
      ]
     },
     "execution_count": 13,
     "metadata": {},
     "output_type": "execute_result"
    }
   ],
   "source": [
    "job_data.head()"
   ]
  },
  {
   "cell_type": "code",
   "execution_count": 14,
   "metadata": {},
   "outputs": [
    {
     "data": {
      "text/plain": [
       "Series([], Name: location, dtype: int64)"
      ]
     },
     "execution_count": 14,
     "metadata": {},
     "output_type": "execute_result"
    }
   ],
   "source": [
    "job_data.loc[job_data['company'] == 'Pixida']['location'].value_counts()"
   ]
  },
  {
   "cell_type": "code",
   "execution_count": null,
   "metadata": {},
   "outputs": [],
   "source": []
  }
 ],
 "metadata": {
  "kernelspec": {
   "display_name": "Python 3",
   "language": "python",
   "name": "python3"
  },
  "language_info": {
   "codemirror_mode": {
    "name": "ipython",
    "version": 3
   },
   "file_extension": ".py",
   "mimetype": "text/x-python",
   "name": "python",
   "nbconvert_exporter": "python",
   "pygments_lexer": "ipython3",
   "version": "3.7.4"
  }
 },
 "nbformat": 4,
 "nbformat_minor": 4
}
